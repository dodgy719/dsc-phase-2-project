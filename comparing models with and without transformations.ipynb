{
 "cells": [
  {
   "cell_type": "code",
   "execution_count": 1,
   "metadata": {
    "ExecuteTime": {
     "end_time": "2021-01-07T19:32:22.873026Z",
     "start_time": "2021-01-07T19:32:20.027934Z"
    }
   },
   "outputs": [
    {
     "name": "stdout",
     "output_type": "stream",
     "text": [
      "<class 'pandas.core.frame.DataFrame'>\n",
      "RangeIndex: 21597 entries, 0 to 21596\n",
      "Data columns (total 21 columns):\n",
      " #   Column         Non-Null Count  Dtype  \n",
      "---  ------         --------------  -----  \n",
      " 0   id             21597 non-null  int64  \n",
      " 1   date           21597 non-null  object \n",
      " 2   price          21597 non-null  float64\n",
      " 3   bedrooms       21597 non-null  int64  \n",
      " 4   bathrooms      21597 non-null  float64\n",
      " 5   sqft_living    21597 non-null  int64  \n",
      " 6   sqft_lot       21597 non-null  int64  \n",
      " 7   floors         21597 non-null  float64\n",
      " 8   waterfront     19221 non-null  float64\n",
      " 9   view           21534 non-null  float64\n",
      " 10  condition      21597 non-null  int64  \n",
      " 11  grade          21597 non-null  int64  \n",
      " 12  sqft_above     21597 non-null  int64  \n",
      " 13  sqft_basement  21597 non-null  object \n",
      " 14  yr_built       21597 non-null  int64  \n",
      " 15  yr_renovated   17755 non-null  float64\n",
      " 16  zipcode        21597 non-null  int64  \n",
      " 17  lat            21597 non-null  float64\n",
      " 18  long           21597 non-null  float64\n",
      " 19  sqft_living15  21597 non-null  int64  \n",
      " 20  sqft_lot15     21597 non-null  int64  \n",
      "dtypes: float64(8), int64(11), object(2)\n",
      "memory usage: 3.5+ MB\n",
      "<class 'pandas.core.frame.DataFrame'>\n",
      "Int64Index: 15762 entries, 1 to 21596\n",
      "Data columns (total 21 columns):\n",
      " #   Column         Non-Null Count  Dtype  \n",
      "---  ------         --------------  -----  \n",
      " 0   id             15762 non-null  int64  \n",
      " 1   date           15762 non-null  object \n",
      " 2   price          15762 non-null  float64\n",
      " 3   bedrooms       15762 non-null  int64  \n",
      " 4   bathrooms      15762 non-null  float64\n",
      " 5   sqft_living    15762 non-null  int64  \n",
      " 6   sqft_lot       15762 non-null  int64  \n",
      " 7   floors         15762 non-null  float64\n",
      " 8   waterfront     15762 non-null  float64\n",
      " 9   view           15762 non-null  float64\n",
      " 10  condition      15762 non-null  int64  \n",
      " 11  grade          15762 non-null  int64  \n",
      " 12  sqft_above     15762 non-null  int64  \n",
      " 13  sqft_basement  15762 non-null  object \n",
      " 14  yr_built       15762 non-null  int64  \n",
      " 15  yr_renovated   15762 non-null  float64\n",
      " 16  zipcode        15762 non-null  int64  \n",
      " 17  lat            15762 non-null  float64\n",
      " 18  long           15762 non-null  float64\n",
      " 19  sqft_living15  15762 non-null  int64  \n",
      " 20  sqft_lot15     15762 non-null  int64  \n",
      "dtypes: float64(8), int64(11), object(2)\n",
      "memory usage: 2.6+ MB\n"
     ]
    }
   ],
   "source": [
    "import pandas as pd\n",
    "import numpy as np\n",
    "import matplotlib.pyplot as plt\n",
    "import seaborn as sns\n",
    "from sklearn.linear_model import LinearRegression\n",
    "from sklearn.model_selection import cross_val_score\n",
    "import statsmodels.api as sm\n",
    "\n",
    "df = pd.read_csv('data/kc_house_data.csv')\n",
    "\n",
    "df.info()\n",
    "\n",
    "df.dropna(inplace= True)\n",
    "\n",
    "df.info()"
   ]
  },
  {
   "cell_type": "code",
   "execution_count": 2,
   "metadata": {
    "ExecuteTime": {
     "end_time": "2021-01-07T19:32:22.880912Z",
     "start_time": "2021-01-07T19:32:22.875692Z"
    }
   },
   "outputs": [],
   "source": [
    "df.drop(columns= ['sqft_basement'], axis = 1, inplace= True)"
   ]
  },
  {
   "cell_type": "code",
   "execution_count": 3,
   "metadata": {
    "ExecuteTime": {
     "end_time": "2021-01-07T19:32:22.897905Z",
     "start_time": "2021-01-07T19:32:22.884645Z"
    }
   },
   "outputs": [
    {
     "name": "stdout",
     "output_type": "stream",
     "text": [
      "<class 'pandas.core.frame.DataFrame'>\n",
      "Int64Index: 15762 entries, 1 to 21596\n",
      "Data columns (total 20 columns):\n",
      " #   Column         Non-Null Count  Dtype  \n",
      "---  ------         --------------  -----  \n",
      " 0   id             15762 non-null  int64  \n",
      " 1   date           15762 non-null  object \n",
      " 2   price          15762 non-null  float64\n",
      " 3   bedrooms       15762 non-null  int64  \n",
      " 4   bathrooms      15762 non-null  float64\n",
      " 5   sqft_living    15762 non-null  int64  \n",
      " 6   sqft_lot       15762 non-null  int64  \n",
      " 7   floors         15762 non-null  float64\n",
      " 8   waterfront     15762 non-null  float64\n",
      " 9   view           15762 non-null  float64\n",
      " 10  condition      15762 non-null  int64  \n",
      " 11  grade          15762 non-null  int64  \n",
      " 12  sqft_above     15762 non-null  int64  \n",
      " 13  yr_built       15762 non-null  int64  \n",
      " 14  yr_renovated   15762 non-null  float64\n",
      " 15  zipcode        15762 non-null  int64  \n",
      " 16  lat            15762 non-null  float64\n",
      " 17  long           15762 non-null  float64\n",
      " 18  sqft_living15  15762 non-null  int64  \n",
      " 19  sqft_lot15     15762 non-null  int64  \n",
      "dtypes: float64(8), int64(11), object(1)\n",
      "memory usage: 2.5+ MB\n"
     ]
    }
   ],
   "source": [
    "df.info()"
   ]
  },
  {
   "cell_type": "code",
   "execution_count": 4,
   "metadata": {
    "ExecuteTime": {
     "end_time": "2021-01-07T19:32:25.259013Z",
     "start_time": "2021-01-07T19:32:22.903891Z"
    }
   },
   "outputs": [
    {
     "data": {
      "text/plain": [
       "array([[<AxesSubplot:title={'center':'id'}>,\n",
       "        <AxesSubplot:title={'center':'price'}>,\n",
       "        <AxesSubplot:title={'center':'bedrooms'}>,\n",
       "        <AxesSubplot:title={'center':'bathrooms'}>],\n",
       "       [<AxesSubplot:title={'center':'sqft_living'}>,\n",
       "        <AxesSubplot:title={'center':'sqft_lot'}>,\n",
       "        <AxesSubplot:title={'center':'floors'}>,\n",
       "        <AxesSubplot:title={'center':'waterfront'}>],\n",
       "       [<AxesSubplot:title={'center':'view'}>,\n",
       "        <AxesSubplot:title={'center':'condition'}>,\n",
       "        <AxesSubplot:title={'center':'grade'}>,\n",
       "        <AxesSubplot:title={'center':'sqft_above'}>],\n",
       "       [<AxesSubplot:title={'center':'yr_built'}>,\n",
       "        <AxesSubplot:title={'center':'yr_renovated'}>,\n",
       "        <AxesSubplot:title={'center':'zipcode'}>,\n",
       "        <AxesSubplot:title={'center':'lat'}>],\n",
       "       [<AxesSubplot:title={'center':'long'}>,\n",
       "        <AxesSubplot:title={'center':'sqft_living15'}>,\n",
       "        <AxesSubplot:title={'center':'sqft_lot15'}>, <AxesSubplot:>]],\n",
       "      dtype=object)"
      ]
     },
     "execution_count": 4,
     "metadata": {},
     "output_type": "execute_result"
    },
    {
     "data": {
      "image/png": "[encoded data removed]",
      "text/plain": [
       "<Figure size 648x432 with 20 Axes>"
      ]
     },
     "metadata": {
      "needs_background": "light"
     },
     "output_type": "display_data"
    }
   ],
   "source": [
    "df.hist(figsize= (9,6))"
   ]
  },
  {
   "cell_type": "code",
   "execution_count": 5,
   "metadata": {
    "ExecuteTime": {
     "end_time": "2021-01-07T19:32:25.504783Z",
     "start_time": "2021-01-07T19:32:25.261515Z"
    }
   },
   "outputs": [
    {
     "data": {
      "text/plain": [
       "<AxesSubplot:>"
      ]
     },
     "execution_count": 5,
     "metadata": {},
     "output_type": "execute_result"
    },
    {
     "data": {
      "image/png": "[encoded data removed]",
      "text/plain": [
       "<Figure size 432x288 with 1 Axes>"
      ]
     },
     "metadata": {
      "needs_background": "light"
     },
     "output_type": "display_data"
    }
   ],
   "source": [
    "df.price.hist()"
   ]
  },
  {
   "cell_type": "code",
   "execution_count": 6,
   "metadata": {
    "ExecuteTime": {
     "end_time": "2021-01-07T19:32:25.724246Z",
     "start_time": "2021-01-07T19:32:25.507231Z"
    }
   },
   "outputs": [
    {
     "data": {
      "text/plain": [
       "<AxesSubplot:>"
      ]
     },
     "execution_count": 6,
     "metadata": {},
     "output_type": "execute_result"
    },
    {
     "data": {
      "image/png": "[encoded data removed]",
      "text/plain": [
       "<Figure size 432x288 with 1 Axes>"
      ]
     },
     "metadata": {
      "needs_background": "light"
     },
     "output_type": "display_data"
    }
   ],
   "source": [
    "df.bedrooms.hist()"
   ]
  },
  {
   "cell_type": "markdown",
   "metadata": {},
   "source": [
    "## Model 1 - Removing outliers from bedrooms, price"
   ]
  },
  {
   "cell_type": "code",
   "execution_count": 7,
   "metadata": {
    "ExecuteTime": {
     "end_time": "2021-01-07T19:32:25.752485Z",
     "start_time": "2021-01-07T19:32:25.726751Z"
    }
   },
   "outputs": [
    {
     "data": {
      "text/html": [
       "<div>\n",
       "<style scoped>\n",
       "    .dataframe tbody tr th:only-of-type {\n",
       "        vertical-align: middle;\n",
       "    }\n",
       "\n",
       "    .dataframe tbody tr th {\n",
       "        vertical-align: top;\n",
       "    }\n",
       "\n",
       "    .dataframe thead th {\n",
       "        text-align: right;\n",
       "    }\n",
       "</style>\n",
       "<table border=\"1\" class=\"dataframe\">\n",
       "  <thead>\n",
       "    <tr style=\"text-align: right;\">\n",
       "      <th></th>\n",
       "      <th>id</th>\n",
       "      <th>date</th>\n",
       "      <th>price</th>\n",
       "      <th>bedrooms</th>\n",
       "      <th>bathrooms</th>\n",
       "      <th>sqft_living</th>\n",
       "      <th>sqft_lot</th>\n",
       "      <th>floors</th>\n",
       "      <th>waterfront</th>\n",
       "      <th>view</th>\n",
       "      <th>condition</th>\n",
       "      <th>grade</th>\n",
       "      <th>sqft_above</th>\n",
       "      <th>yr_built</th>\n",
       "      <th>yr_renovated</th>\n",
       "      <th>zipcode</th>\n",
       "      <th>lat</th>\n",
       "      <th>long</th>\n",
       "      <th>sqft_living15</th>\n",
       "      <th>sqft_lot15</th>\n",
       "    </tr>\n",
       "  </thead>\n",
       "  <tbody>\n",
       "    <tr>\n",
       "      <th>15856</th>\n",
       "      <td>2402100895</td>\n",
       "      <td>6/25/2014</td>\n",
       "      <td>640000.0</td>\n",
       "      <td>33</td>\n",
       "      <td>1.75</td>\n",
       "      <td>1620</td>\n",
       "      <td>6000</td>\n",
       "      <td>1.0</td>\n",
       "      <td>0.0</td>\n",
       "      <td>0.0</td>\n",
       "      <td>5</td>\n",
       "      <td>7</td>\n",
       "      <td>1040</td>\n",
       "      <td>1947</td>\n",
       "      <td>0.0</td>\n",
       "      <td>98103</td>\n",
       "      <td>47.6878</td>\n",
       "      <td>-122.331</td>\n",
       "      <td>1330</td>\n",
       "      <td>4700</td>\n",
       "    </tr>\n",
       "  </tbody>\n",
       "</table>\n",
       "</div>"
      ],
      "text/plain": [
       "               id       date     price  bedrooms  bathrooms  sqft_living  \\\n",
       "15856  2402100895  6/25/2014  640000.0        33       1.75         1620   \n",
       "\n",
       "       sqft_lot  floors  waterfront  view  condition  grade  sqft_above  \\\n",
       "15856      6000     1.0         0.0   0.0          5      7        1040   \n",
       "\n",
       "       yr_built  yr_renovated  zipcode      lat     long  sqft_living15  \\\n",
       "15856      1947           0.0    98103  47.6878 -122.331           1330   \n",
       "\n",
       "       sqft_lot15  \n",
       "15856        4700  "
      ]
     },
     "execution_count": 7,
     "metadata": {},
     "output_type": "execute_result"
    }
   ],
   "source": [
    "df[df['bedrooms'] == 33]"
   ]
  },
  {
   "cell_type": "code",
   "execution_count": 8,
   "metadata": {
    "ExecuteTime": {
     "end_time": "2021-01-07T19:32:25.766843Z",
     "start_time": "2021-01-07T19:32:25.758274Z"
    }
   },
   "outputs": [],
   "source": [
    "df.drop(labels = 15856, axis = 0, inplace= True)\n"
   ]
  },
  {
   "cell_type": "code",
   "execution_count": 9,
   "metadata": {
    "ExecuteTime": {
     "end_time": "2021-01-07T19:32:25.993852Z",
     "start_time": "2021-01-07T19:32:25.773562Z"
    }
   },
   "outputs": [
    {
     "data": {
      "text/plain": [
       "<AxesSubplot:>"
      ]
     },
     "execution_count": 9,
     "metadata": {},
     "output_type": "execute_result"
    },
    {
     "data": {
      "image/png": "[encoded data removed]",
      "text/plain": [
       "<Figure size 432x288 with 1 Axes>"
      ]
     },
     "metadata": {
      "needs_background": "light"
     },
     "output_type": "display_data"
    }
   ],
   "source": [
    "df.bedrooms.hist()"
   ]
  },
  {
   "cell_type": "code",
   "execution_count": 10,
   "metadata": {
    "ExecuteTime": {
     "end_time": "2021-01-07T19:32:26.004691Z",
     "start_time": "2021-01-07T19:32:25.996451Z"
    }
   },
   "outputs": [],
   "source": [
    "df = df[df['bedrooms'] < 9]"
   ]
  },
  {
   "cell_type": "code",
   "execution_count": 11,
   "metadata": {
    "ExecuteTime": {
     "end_time": "2021-01-07T19:32:26.257473Z",
     "start_time": "2021-01-07T19:32:26.008142Z"
    }
   },
   "outputs": [
    {
     "data": {
      "text/plain": [
       "<AxesSubplot:>"
      ]
     },
     "execution_count": 11,
     "metadata": {},
     "output_type": "execute_result"
    },
    {
     "data": {
      "image/png": "[encoded data removed]",
      "text/plain": [
       "<Figure size 432x288 with 1 Axes>"
      ]
     },
     "metadata": {
      "needs_background": "light"
     },
     "output_type": "display_data"
    }
   ],
   "source": [
    "df.bedrooms.hist()"
   ]
  },
  {
   "cell_type": "code",
   "execution_count": 12,
   "metadata": {
    "ExecuteTime": {
     "end_time": "2021-01-07T19:32:28.696032Z",
     "start_time": "2021-01-07T19:32:26.259758Z"
    }
   },
   "outputs": [
    {
     "data": {
      "text/plain": [
       "array([[<AxesSubplot:title={'center':'id'}>,\n",
       "        <AxesSubplot:title={'center':'price'}>,\n",
       "        <AxesSubplot:title={'center':'bedrooms'}>,\n",
       "        <AxesSubplot:title={'center':'bathrooms'}>],\n",
       "       [<AxesSubplot:title={'center':'sqft_living'}>,\n",
       "        <AxesSubplot:title={'center':'sqft_lot'}>,\n",
       "        <AxesSubplot:title={'center':'floors'}>,\n",
       "        <AxesSubplot:title={'center':'waterfront'}>],\n",
       "       [<AxesSubplot:title={'center':'view'}>,\n",
       "        <AxesSubplot:title={'center':'condition'}>,\n",
       "        <AxesSubplot:title={'center':'grade'}>,\n",
       "        <AxesSubplot:title={'center':'sqft_above'}>],\n",
       "       [<AxesSubplot:title={'center':'yr_built'}>,\n",
       "        <AxesSubplot:title={'center':'yr_renovated'}>,\n",
       "        <AxesSubplot:title={'center':'zipcode'}>,\n",
       "        <AxesSubplot:title={'center':'lat'}>],\n",
       "       [<AxesSubplot:title={'center':'long'}>,\n",
       "        <AxesSubplot:title={'center':'sqft_living15'}>,\n",
       "        <AxesSubplot:title={'center':'sqft_lot15'}>, <AxesSubplot:>]],\n",
       "      dtype=object)"
      ]
     },
     "execution_count": 12,
     "metadata": {},
     "output_type": "execute_result"
    },
    {
     "data": {
      "image/png": "[encoded data removed]",
      "text/plain": [
       "<Figure size 864x648 with 20 Axes>"
      ]
     },
     "metadata": {
      "needs_background": "light"
     },
     "output_type": "display_data"
    }
   ],
   "source": [
    "df.hist(figsize= (12,9))"
   ]
  },
  {
   "cell_type": "code",
   "execution_count": 13,
   "metadata": {
    "ExecuteTime": {
     "end_time": "2021-01-07T19:32:28.921755Z",
     "start_time": "2021-01-07T19:32:28.698476Z"
    }
   },
   "outputs": [
    {
     "data": {
      "text/plain": [
       "<AxesSubplot:>"
      ]
     },
     "execution_count": 13,
     "metadata": {},
     "output_type": "execute_result"
    },
    {
     "data": {
      "image/png": "[encoded data removed]",
      "text/plain": [
       "<Figure size 432x288 with 1 Axes>"
      ]
     },
     "metadata": {
      "needs_background": "light"
     },
     "output_type": "display_data"
    }
   ],
   "source": [
    "df.price.hist()"
   ]
  },
  {
   "cell_type": "code",
   "execution_count": 14,
   "metadata": {
    "ExecuteTime": {
     "end_time": "2021-01-07T19:32:28.933241Z",
     "start_time": "2021-01-07T19:32:28.924445Z"
    }
   },
   "outputs": [],
   "source": [
    "df = df[df['price'] < 4000000]"
   ]
  },
  {
   "cell_type": "code",
   "execution_count": 15,
   "metadata": {
    "ExecuteTime": {
     "end_time": "2021-01-07T19:32:29.020430Z",
     "start_time": "2021-01-07T19:32:28.937717Z"
    }
   },
   "outputs": [
    {
     "data": {
      "text/html": [
       "<div>\n",
       "<style scoped>\n",
       "    .dataframe tbody tr th:only-of-type {\n",
       "        vertical-align: middle;\n",
       "    }\n",
       "\n",
       "    .dataframe tbody tr th {\n",
       "        vertical-align: top;\n",
       "    }\n",
       "\n",
       "    .dataframe thead th {\n",
       "        text-align: right;\n",
       "    }\n",
       "</style>\n",
       "<table border=\"1\" class=\"dataframe\">\n",
       "  <thead>\n",
       "    <tr style=\"text-align: right;\">\n",
       "      <th></th>\n",
       "      <th>id</th>\n",
       "      <th>price</th>\n",
       "      <th>bedrooms</th>\n",
       "      <th>bathrooms</th>\n",
       "      <th>sqft_living</th>\n",
       "      <th>sqft_lot</th>\n",
       "      <th>floors</th>\n",
       "      <th>waterfront</th>\n",
       "      <th>view</th>\n",
       "      <th>condition</th>\n",
       "      <th>grade</th>\n",
       "      <th>sqft_above</th>\n",
       "      <th>yr_built</th>\n",
       "      <th>yr_renovated</th>\n",
       "      <th>zipcode</th>\n",
       "      <th>lat</th>\n",
       "      <th>long</th>\n",
       "      <th>sqft_living15</th>\n",
       "      <th>sqft_lot15</th>\n",
       "    </tr>\n",
       "  </thead>\n",
       "  <tbody>\n",
       "    <tr>\n",
       "      <th>count</th>\n",
       "      <td>1.574100e+04</td>\n",
       "      <td>1.574100e+04</td>\n",
       "      <td>15741.000000</td>\n",
       "      <td>15741.000000</td>\n",
       "      <td>15741.000000</td>\n",
       "      <td>1.574100e+04</td>\n",
       "      <td>15741.000000</td>\n",
       "      <td>15741.000000</td>\n",
       "      <td>15741.000000</td>\n",
       "      <td>15741.000000</td>\n",
       "      <td>15741.000000</td>\n",
       "      <td>15741.000000</td>\n",
       "      <td>15741.000000</td>\n",
       "      <td>15741.000000</td>\n",
       "      <td>15741.000000</td>\n",
       "      <td>15741.000000</td>\n",
       "      <td>15741.000000</td>\n",
       "      <td>15741.000000</td>\n",
       "      <td>15741.000000</td>\n",
       "    </tr>\n",
       "    <tr>\n",
       "      <th>mean</th>\n",
       "      <td>4.592255e+09</td>\n",
       "      <td>5.380393e+05</td>\n",
       "      <td>3.372149</td>\n",
       "      <td>2.117353</td>\n",
       "      <td>2079.440569</td>\n",
       "      <td>1.527866e+04</td>\n",
       "      <td>1.494568</td>\n",
       "      <td>0.007369</td>\n",
       "      <td>0.228575</td>\n",
       "      <td>3.411092</td>\n",
       "      <td>7.660949</td>\n",
       "      <td>1789.122483</td>\n",
       "      <td>1971.124007</td>\n",
       "      <td>81.914554</td>\n",
       "      <td>98077.571882</td>\n",
       "      <td>47.559078</td>\n",
       "      <td>-122.213455</td>\n",
       "      <td>1989.049171</td>\n",
       "      <td>12900.388031</td>\n",
       "    </tr>\n",
       "    <tr>\n",
       "      <th>std</th>\n",
       "      <td>2.875307e+09</td>\n",
       "      <td>3.501585e+05</td>\n",
       "      <td>0.891152</td>\n",
       "      <td>0.758661</td>\n",
       "      <td>902.714662</td>\n",
       "      <td>4.184802e+04</td>\n",
       "      <td>0.539264</td>\n",
       "      <td>0.085530</td>\n",
       "      <td>0.758249</td>\n",
       "      <td>0.652082</td>\n",
       "      <td>1.167146</td>\n",
       "      <td>818.609048</td>\n",
       "      <td>29.318019</td>\n",
       "      <td>395.994508</td>\n",
       "      <td>53.417842</td>\n",
       "      <td>0.138683</td>\n",
       "      <td>0.140770</td>\n",
       "      <td>682.717175</td>\n",
       "      <td>27993.425293</td>\n",
       "    </tr>\n",
       "    <tr>\n",
       "      <th>min</th>\n",
       "      <td>1.000102e+06</td>\n",
       "      <td>8.200000e+04</td>\n",
       "      <td>1.000000</td>\n",
       "      <td>0.500000</td>\n",
       "      <td>370.000000</td>\n",
       "      <td>5.200000e+02</td>\n",
       "      <td>1.000000</td>\n",
       "      <td>0.000000</td>\n",
       "      <td>0.000000</td>\n",
       "      <td>1.000000</td>\n",
       "      <td>3.000000</td>\n",
       "      <td>370.000000</td>\n",
       "      <td>1900.000000</td>\n",
       "      <td>0.000000</td>\n",
       "      <td>98001.000000</td>\n",
       "      <td>47.155900</td>\n",
       "      <td>-122.519000</td>\n",
       "      <td>399.000000</td>\n",
       "      <td>659.000000</td>\n",
       "    </tr>\n",
       "    <tr>\n",
       "      <th>25%</th>\n",
       "      <td>2.125400e+09</td>\n",
       "      <td>3.200000e+05</td>\n",
       "      <td>3.000000</td>\n",
       "      <td>1.750000</td>\n",
       "      <td>1430.000000</td>\n",
       "      <td>5.048000e+03</td>\n",
       "      <td>1.000000</td>\n",
       "      <td>0.000000</td>\n",
       "      <td>0.000000</td>\n",
       "      <td>3.000000</td>\n",
       "      <td>7.000000</td>\n",
       "      <td>1200.000000</td>\n",
       "      <td>1952.000000</td>\n",
       "      <td>0.000000</td>\n",
       "      <td>98033.000000</td>\n",
       "      <td>47.469000</td>\n",
       "      <td>-122.328000</td>\n",
       "      <td>1490.000000</td>\n",
       "      <td>5100.000000</td>\n",
       "    </tr>\n",
       "    <tr>\n",
       "      <th>50%</th>\n",
       "      <td>3.905081e+09</td>\n",
       "      <td>4.500000e+05</td>\n",
       "      <td>3.000000</td>\n",
       "      <td>2.250000</td>\n",
       "      <td>1920.000000</td>\n",
       "      <td>7.601000e+03</td>\n",
       "      <td>1.500000</td>\n",
       "      <td>0.000000</td>\n",
       "      <td>0.000000</td>\n",
       "      <td>3.000000</td>\n",
       "      <td>7.000000</td>\n",
       "      <td>1560.000000</td>\n",
       "      <td>1975.000000</td>\n",
       "      <td>0.000000</td>\n",
       "      <td>98065.000000</td>\n",
       "      <td>47.570800</td>\n",
       "      <td>-122.229000</td>\n",
       "      <td>1840.000000</td>\n",
       "      <td>7620.000000</td>\n",
       "    </tr>\n",
       "    <tr>\n",
       "      <th>75%</th>\n",
       "      <td>7.334501e+09</td>\n",
       "      <td>6.412500e+05</td>\n",
       "      <td>4.000000</td>\n",
       "      <td>2.500000</td>\n",
       "      <td>2550.000000</td>\n",
       "      <td>1.070800e+04</td>\n",
       "      <td>2.000000</td>\n",
       "      <td>0.000000</td>\n",
       "      <td>0.000000</td>\n",
       "      <td>4.000000</td>\n",
       "      <td>8.000000</td>\n",
       "      <td>2210.000000</td>\n",
       "      <td>1997.000000</td>\n",
       "      <td>0.000000</td>\n",
       "      <td>98117.000000</td>\n",
       "      <td>47.677500</td>\n",
       "      <td>-122.124000</td>\n",
       "      <td>2370.000000</td>\n",
       "      <td>10100.000000</td>\n",
       "    </tr>\n",
       "    <tr>\n",
       "      <th>max</th>\n",
       "      <td>9.895000e+09</td>\n",
       "      <td>3.850000e+06</td>\n",
       "      <td>8.000000</td>\n",
       "      <td>8.000000</td>\n",
       "      <td>13540.000000</td>\n",
       "      <td>1.651359e+06</td>\n",
       "      <td>3.500000</td>\n",
       "      <td>1.000000</td>\n",
       "      <td>4.000000</td>\n",
       "      <td>5.000000</td>\n",
       "      <td>13.000000</td>\n",
       "      <td>9410.000000</td>\n",
       "      <td>2015.000000</td>\n",
       "      <td>2015.000000</td>\n",
       "      <td>98199.000000</td>\n",
       "      <td>47.777600</td>\n",
       "      <td>-121.315000</td>\n",
       "      <td>6210.000000</td>\n",
       "      <td>871200.000000</td>\n",
       "    </tr>\n",
       "  </tbody>\n",
       "</table>\n",
       "</div>"
      ],
      "text/plain": [
       "                 id         price      bedrooms     bathrooms   sqft_living  \\\n",
       "count  1.574100e+04  1.574100e+04  15741.000000  15741.000000  15741.000000   \n",
       "mean   4.592255e+09  5.380393e+05      3.372149      2.117353   2079.440569   \n",
       "std    2.875307e+09  3.501585e+05      0.891152      0.758661    902.714662   \n",
       "min    1.000102e+06  8.200000e+04      1.000000      0.500000    370.000000   \n",
       "25%    2.125400e+09  3.200000e+05      3.000000      1.750000   1430.000000   \n",
       "50%    3.905081e+09  4.500000e+05      3.000000      2.250000   1920.000000   \n",
       "75%    7.334501e+09  6.412500e+05      4.000000      2.500000   2550.000000   \n",
       "max    9.895000e+09  3.850000e+06      8.000000      8.000000  13540.000000   \n",
       "\n",
       "           sqft_lot        floors    waterfront          view     condition  \\\n",
       "count  1.574100e+04  15741.000000  15741.000000  15741.000000  15741.000000   \n",
       "mean   1.527866e+04      1.494568      0.007369      0.228575      3.411092   \n",
       "std    4.184802e+04      0.539264      0.085530      0.758249      0.652082   \n",
       "min    5.200000e+02      1.000000      0.000000      0.000000      1.000000   \n",
       "25%    5.048000e+03      1.000000      0.000000      0.000000      3.000000   \n",
       "50%    7.601000e+03      1.500000      0.000000      0.000000      3.000000   \n",
       "75%    1.070800e+04      2.000000      0.000000      0.000000      4.000000   \n",
       "max    1.651359e+06      3.500000      1.000000      4.000000      5.000000   \n",
       "\n",
       "              grade    sqft_above      yr_built  yr_renovated       zipcode  \\\n",
       "count  15741.000000  15741.000000  15741.000000  15741.000000  15741.000000   \n",
       "mean       7.660949   1789.122483   1971.124007     81.914554  98077.571882   \n",
       "std        1.167146    818.609048     29.318019    395.994508     53.417842   \n",
       "min        3.000000    370.000000   1900.000000      0.000000  98001.000000   \n",
       "25%        7.000000   1200.000000   1952.000000      0.000000  98033.000000   \n",
       "50%        7.000000   1560.000000   1975.000000      0.000000  98065.000000   \n",
       "75%        8.000000   2210.000000   1997.000000      0.000000  98117.000000   \n",
       "max       13.000000   9410.000000   2015.000000   2015.000000  98199.000000   \n",
       "\n",
       "                lat          long  sqft_living15     sqft_lot15  \n",
       "count  15741.000000  15741.000000   15741.000000   15741.000000  \n",
       "mean      47.559078   -122.213455    1989.049171   12900.388031  \n",
       "std        0.138683      0.140770     682.717175   27993.425293  \n",
       "min       47.155900   -122.519000     399.000000     659.000000  \n",
       "25%       47.469000   -122.328000    1490.000000    5100.000000  \n",
       "50%       47.570800   -122.229000    1840.000000    7620.000000  \n",
       "75%       47.677500   -122.124000    2370.000000   10100.000000  \n",
       "max       47.777600   -121.315000    6210.000000  871200.000000  "
      ]
     },
     "execution_count": 15,
     "metadata": {},
     "output_type": "execute_result"
    }
   ],
   "source": [
    "df.describe()"
   ]
  },
  {
   "cell_type": "code",
   "execution_count": 16,
   "metadata": {
    "ExecuteTime": {
     "end_time": "2021-01-07T19:32:29.275625Z",
     "start_time": "2021-01-07T19:32:29.023392Z"
    }
   },
   "outputs": [
    {
     "data": {
      "text/plain": [
       "<AxesSubplot:>"
      ]
     },
     "execution_count": 16,
     "metadata": {},
     "output_type": "execute_result"
    },
    {
     "data": {
      "image/png": "[encoded data removed]",
      "text/plain": [
       "<Figure size 432x288 with 1 Axes>"
      ]
     },
     "metadata": {
      "needs_background": "light"
     },
     "output_type": "display_data"
    }
   ],
   "source": [
    "df.price.hist()"
   ]
  },
  {
   "cell_type": "code",
   "execution_count": 17,
   "metadata": {
    "ExecuteTime": {
     "end_time": "2021-01-07T19:32:29.289397Z",
     "start_time": "2021-01-07T19:32:29.277968Z"
    }
   },
   "outputs": [
    {
     "name": "stdout",
     "output_type": "stream",
     "text": [
      "<class 'pandas.core.frame.DataFrame'>\n",
      "Int64Index: 15741 entries, 1 to 21596\n",
      "Data columns (total 20 columns):\n",
      " #   Column         Non-Null Count  Dtype  \n",
      "---  ------         --------------  -----  \n",
      " 0   id             15741 non-null  int64  \n",
      " 1   date           15741 non-null  object \n",
      " 2   price          15741 non-null  float64\n",
      " 3   bedrooms       15741 non-null  int64  \n",
      " 4   bathrooms      15741 non-null  float64\n",
      " 5   sqft_living    15741 non-null  int64  \n",
      " 6   sqft_lot       15741 non-null  int64  \n",
      " 7   floors         15741 non-null  float64\n",
      " 8   waterfront     15741 non-null  float64\n",
      " 9   view           15741 non-null  float64\n",
      " 10  condition      15741 non-null  int64  \n",
      " 11  grade          15741 non-null  int64  \n",
      " 12  sqft_above     15741 non-null  int64  \n",
      " 13  yr_built       15741 non-null  int64  \n",
      " 14  yr_renovated   15741 non-null  float64\n",
      " 15  zipcode        15741 non-null  int64  \n",
      " 16  lat            15741 non-null  float64\n",
      " 17  long           15741 non-null  float64\n",
      " 18  sqft_living15  15741 non-null  int64  \n",
      " 19  sqft_lot15     15741 non-null  int64  \n",
      "dtypes: float64(8), int64(11), object(1)\n",
      "memory usage: 2.5+ MB\n"
     ]
    }
   ],
   "source": [
    "df.info()"
   ]
  },
  {
   "cell_type": "code",
   "execution_count": 18,
   "metadata": {
    "ExecuteTime": {
     "end_time": "2021-01-07T19:32:31.959462Z",
     "start_time": "2021-01-07T19:32:29.291725Z"
    }
   },
   "outputs": [
    {
     "data": {
      "text/plain": [
       "array([[<AxesSubplot:title={'center':'id'}>,\n",
       "        <AxesSubplot:title={'center':'price'}>,\n",
       "        <AxesSubplot:title={'center':'bedrooms'}>,\n",
       "        <AxesSubplot:title={'center':'bathrooms'}>],\n",
       "       [<AxesSubplot:title={'center':'sqft_living'}>,\n",
       "        <AxesSubplot:title={'center':'sqft_lot'}>,\n",
       "        <AxesSubplot:title={'center':'floors'}>,\n",
       "        <AxesSubplot:title={'center':'waterfront'}>],\n",
       "       [<AxesSubplot:title={'center':'view'}>,\n",
       "        <AxesSubplot:title={'center':'condition'}>,\n",
       "        <AxesSubplot:title={'center':'grade'}>,\n",
       "        <AxesSubplot:title={'center':'sqft_above'}>],\n",
       "       [<AxesSubplot:title={'center':'yr_built'}>,\n",
       "        <AxesSubplot:title={'center':'yr_renovated'}>,\n",
       "        <AxesSubplot:title={'center':'zipcode'}>,\n",
       "        <AxesSubplot:title={'center':'lat'}>],\n",
       "       [<AxesSubplot:title={'center':'long'}>,\n",
       "        <AxesSubplot:title={'center':'sqft_living15'}>,\n",
       "        <AxesSubplot:title={'center':'sqft_lot15'}>, <AxesSubplot:>]],\n",
       "      dtype=object)"
      ]
     },
     "execution_count": 18,
     "metadata": {},
     "output_type": "execute_result"
    },
    {
     "data": {
      "image/png": "[encoded data removed]",
      "text/plain": [
       "<Figure size 864x648 with 20 Axes>"
      ]
     },
     "metadata": {
      "needs_background": "light"
     },
     "output_type": "display_data"
    }
   ],
   "source": [
    "df.hist(figsize=(12,9))"
   ]
  },
  {
   "cell_type": "code",
   "execution_count": 19,
   "metadata": {
    "ExecuteTime": {
     "end_time": "2021-01-07T19:32:31.974024Z",
     "start_time": "2021-01-07T19:32:31.962036Z"
    }
   },
   "outputs": [],
   "source": [
    "import statsmodels.formula as smf\n",
    "import statsmodels.api as sm\n",
    "from statsmodels.formula.api import ols\n",
    "\n",
    "outcome = 'price'\n",
    "x_cols = df.drop(['price', 'date', 'id', 'zipcode', 'sqft_above', 'sqft_lot15'], axis = 1).columns\n",
    "predictors = '+'.join(x_cols)\n",
    "\n",
    "f = outcome + '~' + predictors"
   ]
  },
  {
   "cell_type": "code",
   "execution_count": 20,
   "metadata": {
    "ExecuteTime": {
     "end_time": "2021-01-07T19:32:32.109111Z",
     "start_time": "2021-01-07T19:32:31.978233Z"
    }
   },
   "outputs": [
    {
     "data": {
      "text/html": [
       "<table class=\"simpletable\">\n",
       "<caption>OLS Regression Results</caption>\n",
       "<tr>\n",
       "  <th>Dep. Variable:</th>          <td>price</td>      <th>  R-squared:         </th>  <td>   0.704</td>  \n",
       "</tr>\n",
       "<tr>\n",
       "  <th>Model:</th>                   <td>OLS</td>       <th>  Adj. R-squared:    </th>  <td>   0.704</td>  \n",
       "</tr>\n",
       "<tr>\n",
       "  <th>Method:</th>             <td>Least Squares</td>  <th>  F-statistic:       </th>  <td>   2673.</td>  \n",
       "</tr>\n",
       "<tr>\n",
       "  <th>Date:</th>             <td>Thu, 07 Jan 2021</td> <th>  Prob (F-statistic):</th>   <td>  0.00</td>   \n",
       "</tr>\n",
       "<tr>\n",
       "  <th>Time:</th>                 <td>14:32:32</td>     <th>  Log-Likelihood:    </th> <td>-2.1370e+05</td>\n",
       "</tr>\n",
       "<tr>\n",
       "  <th>No. Observations:</th>      <td> 15741</td>      <th>  AIC:               </th>  <td>4.274e+05</td> \n",
       "</tr>\n",
       "<tr>\n",
       "  <th>Df Residuals:</th>          <td> 15726</td>      <th>  BIC:               </th>  <td>4.276e+05</td> \n",
       "</tr>\n",
       "<tr>\n",
       "  <th>Df Model:</th>              <td>    14</td>      <th>                     </th>      <td> </td>     \n",
       "</tr>\n",
       "<tr>\n",
       "  <th>Covariance Type:</th>      <td>nonrobust</td>    <th>                     </th>      <td> </td>     \n",
       "</tr>\n",
       "</table>\n",
       "<table class=\"simpletable\">\n",
       "<tr>\n",
       "        <td></td>           <th>coef</th>     <th>std err</th>      <th>t</th>      <th>P>|t|</th>  <th>[0.025</th>    <th>0.975]</th>  \n",
       "</tr>\n",
       "<tr>\n",
       "  <th>Intercept</th>     <td> -3.43e+07</td> <td> 1.71e+06</td> <td>  -20.051</td> <td> 0.000</td> <td>-3.77e+07</td> <td>-3.09e+07</td>\n",
       "</tr>\n",
       "<tr>\n",
       "  <th>bedrooms</th>      <td>-3.129e+04</td> <td> 2233.396</td> <td>  -14.010</td> <td> 0.000</td> <td>-3.57e+04</td> <td>-2.69e+04</td>\n",
       "</tr>\n",
       "<tr>\n",
       "  <th>bathrooms</th>     <td> 4.068e+04</td> <td> 3599.473</td> <td>   11.301</td> <td> 0.000</td> <td> 3.36e+04</td> <td> 4.77e+04</td>\n",
       "</tr>\n",
       "<tr>\n",
       "  <th>sqft_living</th>   <td>  145.2842</td> <td>    3.787</td> <td>   38.368</td> <td> 0.000</td> <td>  137.862</td> <td>  152.706</td>\n",
       "</tr>\n",
       "<tr>\n",
       "  <th>sqft_lot</th>      <td>   -0.0036</td> <td>    0.038</td> <td>   -0.096</td> <td> 0.924</td> <td>   -0.078</td> <td>    0.071</td>\n",
       "</tr>\n",
       "<tr>\n",
       "  <th>floors</th>        <td> 1.859e+04</td> <td> 3570.243</td> <td>    5.207</td> <td> 0.000</td> <td> 1.16e+04</td> <td> 2.56e+04</td>\n",
       "</tr>\n",
       "<tr>\n",
       "  <th>waterfront</th>    <td> 5.572e+05</td> <td> 1.95e+04</td> <td>   28.573</td> <td> 0.000</td> <td> 5.19e+05</td> <td> 5.95e+05</td>\n",
       "</tr>\n",
       "<tr>\n",
       "  <th>view</th>          <td> 4.658e+04</td> <td> 2355.099</td> <td>   19.780</td> <td> 0.000</td> <td>  4.2e+04</td> <td> 5.12e+04</td>\n",
       "</tr>\n",
       "<tr>\n",
       "  <th>condition</th>     <td> 3.199e+04</td> <td> 2586.133</td> <td>   12.370</td> <td> 0.000</td> <td> 2.69e+04</td> <td> 3.71e+04</td>\n",
       "</tr>\n",
       "<tr>\n",
       "  <th>grade</th>         <td> 1.017e+05</td> <td> 2386.013</td> <td>   42.644</td> <td> 0.000</td> <td> 9.71e+04</td> <td> 1.06e+05</td>\n",
       "</tr>\n",
       "<tr>\n",
       "  <th>yr_built</th>      <td>-2476.9451</td> <td>   79.988</td> <td>  -30.966</td> <td> 0.000</td> <td>-2633.732</td> <td>-2320.159</td>\n",
       "</tr>\n",
       "<tr>\n",
       "  <th>yr_renovated</th>  <td>   19.2328</td> <td>    4.097</td> <td>    4.694</td> <td> 0.000</td> <td>   11.201</td> <td>   27.264</td>\n",
       "</tr>\n",
       "<tr>\n",
       "  <th>lat</th>           <td> 5.524e+05</td> <td> 1.15e+04</td> <td>   47.962</td> <td> 0.000</td> <td>  5.3e+05</td> <td> 5.75e+05</td>\n",
       "</tr>\n",
       "<tr>\n",
       "  <th>long</th>          <td>-9.943e+04</td> <td> 1.29e+04</td> <td>   -7.692</td> <td> 0.000</td> <td>-1.25e+05</td> <td>-7.41e+04</td>\n",
       "</tr>\n",
       "<tr>\n",
       "  <th>sqft_living15</th> <td>   40.6855</td> <td>    3.805</td> <td>   10.692</td> <td> 0.000</td> <td>   33.227</td> <td>   48.144</td>\n",
       "</tr>\n",
       "</table>\n",
       "<table class=\"simpletable\">\n",
       "<tr>\n",
       "  <th>Omnibus:</th>       <td>9302.980</td> <th>  Durbin-Watson:     </th>  <td>   1.978</td> \n",
       "</tr>\n",
       "<tr>\n",
       "  <th>Prob(Omnibus):</th>  <td> 0.000</td>  <th>  Jarque-Bera (JB):  </th> <td>203926.817</td>\n",
       "</tr>\n",
       "<tr>\n",
       "  <th>Skew:</th>           <td> 2.423</td>  <th>  Prob(JB):          </th>  <td>    0.00</td> \n",
       "</tr>\n",
       "<tr>\n",
       "  <th>Kurtosis:</th>       <td>19.954</td>  <th>  Cond. No.          </th>  <td>5.02e+07</td> \n",
       "</tr>\n",
       "</table><br/><br/>Notes:<br/>[1] Standard Errors assume that the covariance matrix of the errors is correctly specified.<br/>[2] The condition number is large, 5.02e+07. This might indicate that there are<br/>strong multicollinearity or other numerical problems."
      ],
      "text/plain": [
       "<class 'statsmodels.iolib.summary.Summary'>\n",
       "\"\"\"\n",
       "                            OLS Regression Results                            \n",
       "==============================================================================\n",
       "Dep. Variable:                  price   R-squared:                       0.704\n",
       "Model:                            OLS   Adj. R-squared:                  0.704\n",
       "Method:                 Least Squares   F-statistic:                     2673.\n",
       "Date:                Thu, 07 Jan 2021   Prob (F-statistic):               0.00\n",
       "Time:                        14:32:32   Log-Likelihood:            -2.1370e+05\n",
       "No. Observations:               15741   AIC:                         4.274e+05\n",
       "Df Residuals:                   15726   BIC:                         4.276e+05\n",
       "Df Model:                          14                                         \n",
       "Covariance Type:            nonrobust                                         \n",
       "=================================================================================\n",
       "                    coef    std err          t      P>|t|      [0.025      0.975]\n",
       "---------------------------------------------------------------------------------\n",
       "Intercept      -3.43e+07   1.71e+06    -20.051      0.000   -3.77e+07   -3.09e+07\n",
       "bedrooms      -3.129e+04   2233.396    -14.010      0.000   -3.57e+04   -2.69e+04\n",
       "bathrooms      4.068e+04   3599.473     11.301      0.000    3.36e+04    4.77e+04\n",
       "sqft_living     145.2842      3.787     38.368      0.000     137.862     152.706\n",
       "sqft_lot         -0.0036      0.038     -0.096      0.924      -0.078       0.071\n",
       "floors         1.859e+04   3570.243      5.207      0.000    1.16e+04    2.56e+04\n",
       "waterfront     5.572e+05   1.95e+04     28.573      0.000    5.19e+05    5.95e+05\n",
       "view           4.658e+04   2355.099     19.780      0.000     4.2e+04    5.12e+04\n",
       "condition      3.199e+04   2586.133     12.370      0.000    2.69e+04    3.71e+04\n",
       "grade          1.017e+05   2386.013     42.644      0.000    9.71e+04    1.06e+05\n",
       "yr_built      -2476.9451     79.988    -30.966      0.000   -2633.732   -2320.159\n",
       "yr_renovated     19.2328      4.097      4.694      0.000      11.201      27.264\n",
       "lat            5.524e+05   1.15e+04     47.962      0.000     5.3e+05    5.75e+05\n",
       "long          -9.943e+04   1.29e+04     -7.692      0.000   -1.25e+05   -7.41e+04\n",
       "sqft_living15    40.6855      3.805     10.692      0.000      33.227      48.144\n",
       "==============================================================================\n",
       "Omnibus:                     9302.980   Durbin-Watson:                   1.978\n",
       "Prob(Omnibus):                  0.000   Jarque-Bera (JB):           203926.817\n",
       "Skew:                           2.423   Prob(JB):                         0.00\n",
       "Kurtosis:                      19.954   Cond. No.                     5.02e+07\n",
       "==============================================================================\n",
       "\n",
       "Notes:\n",
       "[1] Standard Errors assume that the covariance matrix of the errors is correctly specified.\n",
       "[2] The condition number is large, 5.02e+07. This might indicate that there are\n",
       "strong multicollinearity or other numerical problems.\n",
       "\"\"\""
      ]
     },
     "execution_count": 20,
     "metadata": {},
     "output_type": "execute_result"
    }
   ],
   "source": [
    "model_1 = ols(formula= f, data = df).fit()\n",
    "model_1.summary()"
   ]
  },
  {
   "cell_type": "code",
   "execution_count": 21,
   "metadata": {
    "ExecuteTime": {
     "end_time": "2021-01-07T19:32:32.981716Z",
     "start_time": "2021-01-07T19:32:32.114375Z"
    }
   },
   "outputs": [
    {
     "name": "stdout",
     "output_type": "stream",
     "text": [
      "Train MSE: 35652186105.754654\n",
      "Test MSE: 38680274177.19023\n",
      "RMSE Train: 188817.8649009533\n",
      "RMSE Test: 196673.0133424264\n"
     ]
    },
    {
     "data": {
      "image/png": "[encoded data removed]",
      "text/plain": [
       "<Figure size 432x288 with 1 Axes>"
      ]
     },
     "execution_count": 21,
     "metadata": {},
     "output_type": "execute_result"
    },
    {
     "data": {
      "image/png": "[encoded data removed]",
      "text/plain": [
       "<Figure size 432x288 with 1 Axes>"
      ]
     },
     "metadata": {
      "needs_background": "light"
     },
     "output_type": "display_data"
    }
   ],
   "source": [
    "from sklearn.model_selection import train_test_split\n",
    "from sklearn.metrics import mean_squared_error\n",
    "import statsmodels\n",
    "from sklearn.metrics import r2_score\n",
    "\n",
    "data = df.copy()\n",
    "\n",
    "y = data['price']\n",
    "X = data.drop(['price', 'date', 'id', 'zipcode', 'sqft_above'], axis = 1)\n",
    "\n",
    "X_train, X_test, y_train, y_test = train_test_split(X, y, test_size = 0.2)\n",
    "\n",
    "len(X_test)\n",
    "\n",
    "linreg = LinearRegression()\n",
    "linreg.fit(X_train, y_train)\n",
    "\n",
    "y_hat_train = linreg.predict(X_train)\n",
    "y_hat_test = linreg.predict(X_test)\n",
    "\n",
    "\n",
    "mse_train = mean_squared_error(y_train, y_hat_train)\n",
    "mse_test = mean_squared_error(y_test, y_hat_test)\n",
    "\n",
    "print('Train MSE:', mse_train)\n",
    "print('Test MSE:', mse_test)\n",
    "\n",
    "print('RMSE Train:', np.sqrt(mse_train))\n",
    "print('RMSE Test:', np.sqrt(mse_test))\n",
    "\n",
    "r2_score(y_test, y_hat_test)\n",
    "\n",
    "residuals = (y_test - y_hat_test)\n",
    "\n",
    "statsmodels.graphics.gofplots.qqplot(residuals, line = \"r\")"
   ]
  },
  {
   "cell_type": "markdown",
   "metadata": {},
   "source": [
    "## Model 2 with zipcode dummies"
   ]
  },
  {
   "cell_type": "code",
   "execution_count": 22,
   "metadata": {
    "ExecuteTime": {
     "end_time": "2021-01-07T19:32:32.993217Z",
     "start_time": "2021-01-07T19:32:32.984901Z"
    }
   },
   "outputs": [],
   "source": [
    "zip_dummies = pd.get_dummies(df['zipcode'], prefix = 'zipcode')"
   ]
  },
  {
   "cell_type": "code",
   "execution_count": 23,
   "metadata": {
    "ExecuteTime": {
     "end_time": "2021-01-07T19:32:33.023346Z",
     "start_time": "2021-01-07T19:32:33.010213Z"
    }
   },
   "outputs": [],
   "source": [
    "df_with_zip_dummies = pd.concat([df, zip_dummies], axis = 1)"
   ]
  },
  {
   "cell_type": "code",
   "execution_count": 24,
   "metadata": {
    "ExecuteTime": {
     "end_time": "2021-01-07T19:32:33.085578Z",
     "start_time": "2021-01-07T19:32:33.040312Z"
    }
   },
   "outputs": [
    {
     "name": "stdout",
     "output_type": "stream",
     "text": [
      "<class 'pandas.core.frame.DataFrame'>\n",
      "Int64Index: 15741 entries, 1 to 21596\n",
      "Data columns (total 90 columns):\n",
      " #   Column         Non-Null Count  Dtype  \n",
      "---  ------         --------------  -----  \n",
      " 0   id             15741 non-null  int64  \n",
      " 1   date           15741 non-null  object \n",
      " 2   price          15741 non-null  float64\n",
      " 3   bedrooms       15741 non-null  int64  \n",
      " 4   bathrooms      15741 non-null  float64\n",
      " 5   sqft_living    15741 non-null  int64  \n",
      " 6   sqft_lot       15741 non-null  int64  \n",
      " 7   floors         15741 non-null  float64\n",
      " 8   waterfront     15741 non-null  float64\n",
      " 9   view           15741 non-null  float64\n",
      " 10  condition      15741 non-null  int64  \n",
      " 11  grade          15741 non-null  int64  \n",
      " 12  sqft_above     15741 non-null  int64  \n",
      " 13  yr_built       15741 non-null  int64  \n",
      " 14  yr_renovated   15741 non-null  float64\n",
      " 15  zipcode        15741 non-null  int64  \n",
      " 16  lat            15741 non-null  float64\n",
      " 17  long           15741 non-null  float64\n",
      " 18  sqft_living15  15741 non-null  int64  \n",
      " 19  sqft_lot15     15741 non-null  int64  \n",
      " 20  zipcode_98001  15741 non-null  uint8  \n",
      " 21  zipcode_98002  15741 non-null  uint8  \n",
      " 22  zipcode_98003  15741 non-null  uint8  \n",
      " 23  zipcode_98004  15741 non-null  uint8  \n",
      " 24  zipcode_98005  15741 non-null  uint8  \n",
      " 25  zipcode_98006  15741 non-null  uint8  \n",
      " 26  zipcode_98007  15741 non-null  uint8  \n",
      " 27  zipcode_98008  15741 non-null  uint8  \n",
      " 28  zipcode_98010  15741 non-null  uint8  \n",
      " 29  zipcode_98011  15741 non-null  uint8  \n",
      " 30  zipcode_98014  15741 non-null  uint8  \n",
      " 31  zipcode_98019  15741 non-null  uint8  \n",
      " 32  zipcode_98022  15741 non-null  uint8  \n",
      " 33  zipcode_98023  15741 non-null  uint8  \n",
      " 34  zipcode_98024  15741 non-null  uint8  \n",
      " 35  zipcode_98027  15741 non-null  uint8  \n",
      " 36  zipcode_98028  15741 non-null  uint8  \n",
      " 37  zipcode_98029  15741 non-null  uint8  \n",
      " 38  zipcode_98030  15741 non-null  uint8  \n",
      " 39  zipcode_98031  15741 non-null  uint8  \n",
      " 40  zipcode_98032  15741 non-null  uint8  \n",
      " 41  zipcode_98033  15741 non-null  uint8  \n",
      " 42  zipcode_98034  15741 non-null  uint8  \n",
      " 43  zipcode_98038  15741 non-null  uint8  \n",
      " 44  zipcode_98039  15741 non-null  uint8  \n",
      " 45  zipcode_98040  15741 non-null  uint8  \n",
      " 46  zipcode_98042  15741 non-null  uint8  \n",
      " 47  zipcode_98045  15741 non-null  uint8  \n",
      " 48  zipcode_98052  15741 non-null  uint8  \n",
      " 49  zipcode_98053  15741 non-null  uint8  \n",
      " 50  zipcode_98055  15741 non-null  uint8  \n",
      " 51  zipcode_98056  15741 non-null  uint8  \n",
      " 52  zipcode_98058  15741 non-null  uint8  \n",
      " 53  zipcode_98059  15741 non-null  uint8  \n",
      " 54  zipcode_98065  15741 non-null  uint8  \n",
      " 55  zipcode_98070  15741 non-null  uint8  \n",
      " 56  zipcode_98072  15741 non-null  uint8  \n",
      " 57  zipcode_98074  15741 non-null  uint8  \n",
      " 58  zipcode_98075  15741 non-null  uint8  \n",
      " 59  zipcode_98077  15741 non-null  uint8  \n",
      " 60  zipcode_98092  15741 non-null  uint8  \n",
      " 61  zipcode_98102  15741 non-null  uint8  \n",
      " 62  zipcode_98103  15741 non-null  uint8  \n",
      " 63  zipcode_98105  15741 non-null  uint8  \n",
      " 64  zipcode_98106  15741 non-null  uint8  \n",
      " 65  zipcode_98107  15741 non-null  uint8  \n",
      " 66  zipcode_98108  15741 non-null  uint8  \n",
      " 67  zipcode_98109  15741 non-null  uint8  \n",
      " 68  zipcode_98112  15741 non-null  uint8  \n",
      " 69  zipcode_98115  15741 non-null  uint8  \n",
      " 70  zipcode_98116  15741 non-null  uint8  \n",
      " 71  zipcode_98117  15741 non-null  uint8  \n",
      " 72  zipcode_98118  15741 non-null  uint8  \n",
      " 73  zipcode_98119  15741 non-null  uint8  \n",
      " 74  zipcode_98122  15741 non-null  uint8  \n",
      " 75  zipcode_98125  15741 non-null  uint8  \n",
      " 76  zipcode_98126  15741 non-null  uint8  \n",
      " 77  zipcode_98133  15741 non-null  uint8  \n",
      " 78  zipcode_98136  15741 non-null  uint8  \n",
      " 79  zipcode_98144  15741 non-null  uint8  \n",
      " 80  zipcode_98146  15741 non-null  uint8  \n",
      " 81  zipcode_98148  15741 non-null  uint8  \n",
      " 82  zipcode_98155  15741 non-null  uint8  \n",
      " 83  zipcode_98166  15741 non-null  uint8  \n",
      " 84  zipcode_98168  15741 non-null  uint8  \n",
      " 85  zipcode_98177  15741 non-null  uint8  \n",
      " 86  zipcode_98178  15741 non-null  uint8  \n",
      " 87  zipcode_98188  15741 non-null  uint8  \n",
      " 88  zipcode_98198  15741 non-null  uint8  \n",
      " 89  zipcode_98199  15741 non-null  uint8  \n",
      "dtypes: float64(8), int64(11), object(1), uint8(70)\n",
      "memory usage: 3.6+ MB\n"
     ]
    }
   ],
   "source": [
    "df_with_zip_dummies.info()"
   ]
  },
  {
   "cell_type": "code",
   "execution_count": 25,
   "metadata": {
    "ExecuteTime": {
     "end_time": "2021-01-07T19:32:33.104195Z",
     "start_time": "2021-01-07T19:32:33.092139Z"
    }
   },
   "outputs": [],
   "source": [
    "outcome = 'price'\n",
    "x_cols = df_with_zip_dummies.drop(['price', 'date', 'id', 'zipcode', 'sqft_above', 'sqft_lot15', 'sqft_lot'], axis = 1).columns\n",
    "predictors = '+'.join(x_cols)\n",
    "\n",
    "f = outcome + '~' + predictors"
   ]
  },
  {
   "cell_type": "code",
   "execution_count": 26,
   "metadata": {
    "ExecuteTime": {
     "end_time": "2021-01-07T19:32:33.694256Z",
     "start_time": "2021-01-07T19:32:33.109941Z"
    },
    "scrolled": false
   },
   "outputs": [
    {
     "data": {
      "text/html": [
       "<table class=\"simpletable\">\n",
       "<caption>OLS Regression Results</caption>\n",
       "<tr>\n",
       "  <th>Dep. Variable:</th>          <td>price</td>      <th>  R-squared:         </th>  <td>   0.815</td>  \n",
       "</tr>\n",
       "<tr>\n",
       "  <th>Model:</th>                   <td>OLS</td>       <th>  Adj. R-squared:    </th>  <td>   0.814</td>  \n",
       "</tr>\n",
       "<tr>\n",
       "  <th>Method:</th>             <td>Least Squares</td>  <th>  F-statistic:       </th>  <td>   841.6</td>  \n",
       "</tr>\n",
       "<tr>\n",
       "  <th>Date:</th>             <td>Thu, 07 Jan 2021</td> <th>  Prob (F-statistic):</th>   <td>  0.00</td>   \n",
       "</tr>\n",
       "<tr>\n",
       "  <th>Time:</th>                 <td>14:32:33</td>     <th>  Log-Likelihood:    </th> <td>-2.1000e+05</td>\n",
       "</tr>\n",
       "<tr>\n",
       "  <th>No. Observations:</th>      <td> 15741</td>      <th>  AIC:               </th>  <td>4.202e+05</td> \n",
       "</tr>\n",
       "<tr>\n",
       "  <th>Df Residuals:</th>          <td> 15658</td>      <th>  BIC:               </th>  <td>4.208e+05</td> \n",
       "</tr>\n",
       "<tr>\n",
       "  <th>Df Model:</th>              <td>    82</td>      <th>                     </th>      <td> </td>     \n",
       "</tr>\n",
       "<tr>\n",
       "  <th>Covariance Type:</th>      <td>nonrobust</td>    <th>                     </th>      <td> </td>     \n",
       "</tr>\n",
       "</table>\n",
       "<table class=\"simpletable\">\n",
       "<tr>\n",
       "        <td></td>           <th>coef</th>     <th>std err</th>      <th>t</th>      <th>P>|t|</th>  <th>[0.025</th>    <th>0.975]</th>  \n",
       "</tr>\n",
       "<tr>\n",
       "  <th>Intercept</th>     <td>-1.943e+07</td> <td> 6.69e+06</td> <td>   -2.903</td> <td> 0.004</td> <td>-3.25e+07</td> <td>-6.31e+06</td>\n",
       "</tr>\n",
       "<tr>\n",
       "  <th>bedrooms</th>      <td>-2.524e+04</td> <td> 1793.999</td> <td>  -14.070</td> <td> 0.000</td> <td>-2.88e+04</td> <td>-2.17e+04</td>\n",
       "</tr>\n",
       "<tr>\n",
       "  <th>bathrooms</th>     <td> 1.765e+04</td> <td> 2897.828</td> <td>    6.091</td> <td> 0.000</td> <td>  1.2e+04</td> <td> 2.33e+04</td>\n",
       "</tr>\n",
       "<tr>\n",
       "  <th>sqft_living</th>   <td>  159.6557</td> <td>    3.035</td> <td>   52.608</td> <td> 0.000</td> <td>  153.707</td> <td>  165.604</td>\n",
       "</tr>\n",
       "<tr>\n",
       "  <th>floors</th>        <td>-6728.4399</td> <td> 3048.547</td> <td>   -2.207</td> <td> 0.027</td> <td>-1.27e+04</td> <td> -752.936</td>\n",
       "</tr>\n",
       "<tr>\n",
       "  <th>waterfront</th>    <td> 6.191e+05</td> <td> 1.58e+04</td> <td>   39.204</td> <td> 0.000</td> <td> 5.88e+05</td> <td>  6.5e+05</td>\n",
       "</tr>\n",
       "<tr>\n",
       "  <th>view</th>          <td> 4.982e+04</td> <td> 1928.086</td> <td>   25.840</td> <td> 0.000</td> <td>  4.6e+04</td> <td> 5.36e+04</td>\n",
       "</tr>\n",
       "<tr>\n",
       "  <th>condition</th>     <td> 2.337e+04</td> <td> 2113.129</td> <td>   11.059</td> <td> 0.000</td> <td> 1.92e+04</td> <td> 2.75e+04</td>\n",
       "</tr>\n",
       "<tr>\n",
       "  <th>grade</th>         <td> 6.803e+04</td> <td> 1983.793</td> <td>   34.292</td> <td> 0.000</td> <td> 6.41e+04</td> <td> 7.19e+04</td>\n",
       "</tr>\n",
       "<tr>\n",
       "  <th>yr_built</th>      <td> -918.2849</td> <td>   71.018</td> <td>  -12.930</td> <td> 0.000</td> <td>-1057.488</td> <td> -779.082</td>\n",
       "</tr>\n",
       "<tr>\n",
       "  <th>yr_renovated</th>  <td>   13.0679</td> <td>    3.279</td> <td>    3.985</td> <td> 0.000</td> <td>    6.640</td> <td>   19.496</td>\n",
       "</tr>\n",
       "<tr>\n",
       "  <th>lat</th>           <td> 1.939e+05</td> <td> 6.96e+04</td> <td>    2.787</td> <td> 0.005</td> <td> 5.75e+04</td> <td>  3.3e+05</td>\n",
       "</tr>\n",
       "<tr>\n",
       "  <th>long</th>          <td>-9.735e+04</td> <td> 5.06e+04</td> <td>   -1.925</td> <td> 0.054</td> <td>-1.96e+05</td> <td> 1786.597</td>\n",
       "</tr>\n",
       "<tr>\n",
       "  <th>sqft_living15</th> <td>   27.5701</td> <td>    3.191</td> <td>    8.639</td> <td> 0.000</td> <td>   21.315</td> <td>   33.825</td>\n",
       "</tr>\n",
       "<tr>\n",
       "  <th>zipcode_98001</th> <td>-4.222e+05</td> <td> 9.32e+04</td> <td>   -4.532</td> <td> 0.000</td> <td>-6.05e+05</td> <td> -2.4e+05</td>\n",
       "</tr>\n",
       "<tr>\n",
       "  <th>zipcode_98002</th> <td>-3.851e+05</td> <td> 9.08e+04</td> <td>   -4.241</td> <td> 0.000</td> <td>-5.63e+05</td> <td>-2.07e+05</td>\n",
       "</tr>\n",
       "<tr>\n",
       "  <th>zipcode_98003</th> <td>-4.517e+05</td> <td> 9.52e+04</td> <td>   -4.743</td> <td> 0.000</td> <td>-6.38e+05</td> <td>-2.65e+05</td>\n",
       "</tr>\n",
       "<tr>\n",
       "  <th>zipcode_98004</th> <td> 2.617e+05</td> <td> 9.77e+04</td> <td>    2.677</td> <td> 0.007</td> <td> 7.01e+04</td> <td> 4.53e+05</td>\n",
       "</tr>\n",
       "<tr>\n",
       "  <th>zipcode_98005</th> <td>-1.829e+05</td> <td> 9.64e+04</td> <td>   -1.897</td> <td> 0.058</td> <td>-3.72e+05</td> <td> 6069.652</td>\n",
       "</tr>\n",
       "<tr>\n",
       "  <th>zipcode_98006</th> <td> -2.13e+05</td> <td> 9.33e+04</td> <td>   -2.283</td> <td> 0.022</td> <td>-3.96e+05</td> <td>-3.01e+04</td>\n",
       "</tr>\n",
       "<tr>\n",
       "  <th>zipcode_98007</th> <td>-2.362e+05</td> <td> 9.55e+04</td> <td>   -2.473</td> <td> 0.013</td> <td>-4.23e+05</td> <td> -4.9e+04</td>\n",
       "</tr>\n",
       "<tr>\n",
       "  <th>zipcode_98008</th> <td>-2.244e+05</td> <td> 9.39e+04</td> <td>   -2.389</td> <td> 0.017</td> <td>-4.08e+05</td> <td>-4.03e+04</td>\n",
       "</tr>\n",
       "<tr>\n",
       "  <th>zipcode_98010</th> <td>-3.256e+05</td> <td> 8.24e+04</td> <td>   -3.951</td> <td> 0.000</td> <td>-4.87e+05</td> <td>-1.64e+05</td>\n",
       "</tr>\n",
       "<tr>\n",
       "  <th>zipcode_98011</th> <td>-3.914e+05</td> <td> 1.03e+05</td> <td>   -3.812</td> <td> 0.000</td> <td>-5.93e+05</td> <td> -1.9e+05</td>\n",
       "</tr>\n",
       "<tr>\n",
       "  <th>zipcode_98014</th> <td>-3.295e+05</td> <td> 8.62e+04</td> <td>   -3.822</td> <td> 0.000</td> <td>-4.99e+05</td> <td>-1.61e+05</td>\n",
       "</tr>\n",
       "<tr>\n",
       "  <th>zipcode_98019</th> <td>-3.893e+05</td> <td> 9.26e+04</td> <td>   -4.206</td> <td> 0.000</td> <td>-5.71e+05</td> <td>-2.08e+05</td>\n",
       "</tr>\n",
       "<tr>\n",
       "  <th>zipcode_98022</th> <td>-3.724e+05</td> <td> 7.87e+04</td> <td>   -4.729</td> <td> 0.000</td> <td>-5.27e+05</td> <td>-2.18e+05</td>\n",
       "</tr>\n",
       "<tr>\n",
       "  <th>zipcode_98023</th> <td>-4.692e+05</td> <td> 9.75e+04</td> <td>   -4.811</td> <td> 0.000</td> <td> -6.6e+05</td> <td>-2.78e+05</td>\n",
       "</tr>\n",
       "<tr>\n",
       "  <th>zipcode_98024</th> <td>-2.626e+05</td> <td> 8.49e+04</td> <td>   -3.094</td> <td> 0.002</td> <td>-4.29e+05</td> <td>-9.62e+04</td>\n",
       "</tr>\n",
       "<tr>\n",
       "  <th>zipcode_98027</th> <td>-2.882e+05</td> <td> 8.77e+04</td> <td>   -3.287</td> <td> 0.001</td> <td> -4.6e+05</td> <td>-1.16e+05</td>\n",
       "</tr>\n",
       "<tr>\n",
       "  <th>zipcode_98028</th> <td>-3.968e+05</td> <td> 1.04e+05</td> <td>   -3.808</td> <td> 0.000</td> <td>-6.01e+05</td> <td>-1.93e+05</td>\n",
       "</tr>\n",
       "<tr>\n",
       "  <th>zipcode_98029</th> <td>  -2.5e+05</td> <td> 8.74e+04</td> <td>   -2.859</td> <td> 0.004</td> <td>-4.21e+05</td> <td>-7.86e+04</td>\n",
       "</tr>\n",
       "<tr>\n",
       "  <th>zipcode_98030</th> <td>-4.281e+05</td> <td> 9.07e+04</td> <td>   -4.719</td> <td> 0.000</td> <td>-6.06e+05</td> <td> -2.5e+05</td>\n",
       "</tr>\n",
       "<tr>\n",
       "  <th>zipcode_98031</th> <td>-4.258e+05</td> <td> 9.14e+04</td> <td>   -4.660</td> <td> 0.000</td> <td>-6.05e+05</td> <td>-2.47e+05</td>\n",
       "</tr>\n",
       "<tr>\n",
       "  <th>zipcode_98032</th> <td>  -4.4e+05</td> <td> 9.54e+04</td> <td>   -4.610</td> <td> 0.000</td> <td>-6.27e+05</td> <td>-2.53e+05</td>\n",
       "</tr>\n",
       "<tr>\n",
       "  <th>zipcode_98033</th> <td>-1.367e+05</td> <td>  9.9e+04</td> <td>   -1.380</td> <td> 0.167</td> <td>-3.31e+05</td> <td> 5.74e+04</td>\n",
       "</tr>\n",
       "<tr>\n",
       "  <th>zipcode_98034</th> <td>-2.972e+05</td> <td> 1.01e+05</td> <td>   -2.939</td> <td> 0.003</td> <td>-4.95e+05</td> <td> -9.9e+04</td>\n",
       "</tr>\n",
       "<tr>\n",
       "  <th>zipcode_98038</th> <td>-3.743e+05</td> <td> 8.31e+04</td> <td>   -4.507</td> <td> 0.000</td> <td>-5.37e+05</td> <td>-2.12e+05</td>\n",
       "</tr>\n",
       "<tr>\n",
       "  <th>zipcode_98039</th> <td> 7.446e+05</td> <td> 1.02e+05</td> <td>    7.296</td> <td> 0.000</td> <td> 5.45e+05</td> <td> 9.45e+05</td>\n",
       "</tr>\n",
       "<tr>\n",
       "  <th>zipcode_98040</th> <td> 1.925e+04</td> <td>  9.7e+04</td> <td>    0.198</td> <td> 0.843</td> <td>-1.71e+05</td> <td> 2.09e+05</td>\n",
       "</tr>\n",
       "<tr>\n",
       "  <th>zipcode_98042</th> <td>-4.129e+05</td> <td> 8.69e+04</td> <td>   -4.753</td> <td> 0.000</td> <td>-5.83e+05</td> <td>-2.43e+05</td>\n",
       "</tr>\n",
       "<tr>\n",
       "  <th>zipcode_98045</th> <td>-3.006e+05</td> <td> 7.45e+04</td> <td>   -4.038</td> <td> 0.000</td> <td>-4.47e+05</td> <td>-1.55e+05</td>\n",
       "</tr>\n",
       "<tr>\n",
       "  <th>zipcode_98052</th> <td>-2.572e+05</td> <td> 9.61e+04</td> <td>   -2.677</td> <td> 0.007</td> <td>-4.46e+05</td> <td>-6.89e+04</td>\n",
       "</tr>\n",
       "<tr>\n",
       "  <th>zipcode_98053</th> <td>-2.607e+05</td> <td> 9.24e+04</td> <td>   -2.821</td> <td> 0.005</td> <td>-4.42e+05</td> <td>-7.96e+04</td>\n",
       "</tr>\n",
       "<tr>\n",
       "  <th>zipcode_98055</th> <td>-4.065e+05</td> <td> 9.33e+04</td> <td>   -4.359</td> <td> 0.000</td> <td>-5.89e+05</td> <td>-2.24e+05</td>\n",
       "</tr>\n",
       "<tr>\n",
       "  <th>zipcode_98056</th> <td>-3.567e+05</td> <td> 9.35e+04</td> <td>   -3.814</td> <td> 0.000</td> <td> -5.4e+05</td> <td>-1.73e+05</td>\n",
       "</tr>\n",
       "<tr>\n",
       "  <th>zipcode_98058</th> <td>-4.114e+05</td> <td> 9.02e+04</td> <td>   -4.560</td> <td> 0.000</td> <td>-5.88e+05</td> <td>-2.35e+05</td>\n",
       "</tr>\n",
       "<tr>\n",
       "  <th>zipcode_98059</th> <td>-3.555e+05</td> <td> 9.11e+04</td> <td>   -3.901</td> <td> 0.000</td> <td>-5.34e+05</td> <td>-1.77e+05</td>\n",
       "</tr>\n",
       "<tr>\n",
       "  <th>zipcode_98065</th> <td>-3.303e+05</td> <td> 8.05e+04</td> <td>   -4.101</td> <td> 0.000</td> <td>-4.88e+05</td> <td>-1.72e+05</td>\n",
       "</tr>\n",
       "<tr>\n",
       "  <th>zipcode_98070</th> <td>-4.526e+05</td> <td> 1.05e+05</td> <td>   -4.310</td> <td> 0.000</td> <td>-6.58e+05</td> <td>-2.47e+05</td>\n",
       "</tr>\n",
       "<tr>\n",
       "  <th>zipcode_98072</th> <td>-3.483e+05</td> <td> 9.94e+04</td> <td>   -3.503</td> <td> 0.000</td> <td>-5.43e+05</td> <td>-1.53e+05</td>\n",
       "</tr>\n",
       "<tr>\n",
       "  <th>zipcode_98074</th> <td>-2.902e+05</td> <td> 9.11e+04</td> <td>   -3.184</td> <td> 0.001</td> <td>-4.69e+05</td> <td>-1.12e+05</td>\n",
       "</tr>\n",
       "<tr>\n",
       "  <th>zipcode_98075</th> <td>-2.819e+05</td> <td>  8.9e+04</td> <td>   -3.167</td> <td> 0.002</td> <td>-4.56e+05</td> <td>-1.07e+05</td>\n",
       "</tr>\n",
       "<tr>\n",
       "  <th>zipcode_98077</th> <td>-3.586e+05</td> <td> 9.67e+04</td> <td>   -3.708</td> <td> 0.000</td> <td>-5.48e+05</td> <td>-1.69e+05</td>\n",
       "</tr>\n",
       "<tr>\n",
       "  <th>zipcode_98092</th> <td>-4.426e+05</td> <td> 8.82e+04</td> <td>   -5.017</td> <td> 0.000</td> <td>-6.16e+05</td> <td> -2.7e+05</td>\n",
       "</tr>\n",
       "<tr>\n",
       "  <th>zipcode_98102</th> <td>-5.272e+04</td> <td> 1.05e+05</td> <td>   -0.504</td> <td> 0.614</td> <td>-2.58e+05</td> <td> 1.52e+05</td>\n",
       "</tr>\n",
       "<tr>\n",
       "  <th>zipcode_98103</th> <td>-2.005e+05</td> <td> 1.05e+05</td> <td>   -1.903</td> <td> 0.057</td> <td>-4.07e+05</td> <td> 6069.668</td>\n",
       "</tr>\n",
       "<tr>\n",
       "  <th>zipcode_98105</th> <td>-6.418e+04</td> <td> 1.03e+05</td> <td>   -0.622</td> <td> 0.534</td> <td>-2.67e+05</td> <td> 1.38e+05</td>\n",
       "</tr>\n",
       "<tr>\n",
       "  <th>zipcode_98106</th> <td>-3.415e+05</td> <td> 1.02e+05</td> <td>   -3.344</td> <td> 0.001</td> <td>-5.42e+05</td> <td>-1.41e+05</td>\n",
       "</tr>\n",
       "<tr>\n",
       "  <th>zipcode_98107</th> <td> -1.86e+05</td> <td> 1.07e+05</td> <td>   -1.742</td> <td> 0.081</td> <td>-3.95e+05</td> <td> 2.32e+04</td>\n",
       "</tr>\n",
       "<tr>\n",
       "  <th>zipcode_98108</th> <td> -3.68e+05</td> <td> 1.01e+05</td> <td>   -3.659</td> <td> 0.000</td> <td>-5.65e+05</td> <td>-1.71e+05</td>\n",
       "</tr>\n",
       "<tr>\n",
       "  <th>zipcode_98109</th> <td> -7.15e+04</td> <td> 1.05e+05</td> <td>   -0.678</td> <td> 0.498</td> <td>-2.78e+05</td> <td> 1.35e+05</td>\n",
       "</tr>\n",
       "<tr>\n",
       "  <th>zipcode_98112</th> <td> 1.172e+05</td> <td> 1.02e+05</td> <td>    1.147</td> <td> 0.251</td> <td>-8.31e+04</td> <td> 3.17e+05</td>\n",
       "</tr>\n",
       "<tr>\n",
       "  <th>zipcode_98115</th> <td>-1.886e+05</td> <td> 1.04e+05</td> <td>   -1.815</td> <td> 0.069</td> <td>-3.92e+05</td> <td>  1.5e+04</td>\n",
       "</tr>\n",
       "<tr>\n",
       "  <th>zipcode_98116</th> <td>-2.244e+05</td> <td> 1.05e+05</td> <td>   -2.144</td> <td> 0.032</td> <td> -4.3e+05</td> <td>-1.92e+04</td>\n",
       "</tr>\n",
       "<tr>\n",
       "  <th>zipcode_98117</th> <td>-2.154e+05</td> <td> 1.07e+05</td> <td>   -2.009</td> <td> 0.045</td> <td>-4.25e+05</td> <td>-5290.512</td>\n",
       "</tr>\n",
       "<tr>\n",
       "  <th>zipcode_98118</th> <td>-3.116e+05</td> <td> 9.85e+04</td> <td>   -3.163</td> <td> 0.002</td> <td>-5.05e+05</td> <td>-1.19e+05</td>\n",
       "</tr>\n",
       "<tr>\n",
       "  <th>zipcode_98119</th> <td>-4.811e+04</td> <td> 1.06e+05</td> <td>   -0.455</td> <td> 0.649</td> <td>-2.55e+05</td> <td> 1.59e+05</td>\n",
       "</tr>\n",
       "<tr>\n",
       "  <th>zipcode_98122</th> <td>-1.926e+05</td> <td> 1.02e+05</td> <td>   -1.894</td> <td> 0.058</td> <td>-3.92e+05</td> <td> 6687.216</td>\n",
       "</tr>\n",
       "<tr>\n",
       "  <th>zipcode_98125</th> <td>  -3.2e+05</td> <td> 1.05e+05</td> <td>   -3.047</td> <td> 0.002</td> <td>-5.26e+05</td> <td>-1.14e+05</td>\n",
       "</tr>\n",
       "<tr>\n",
       "  <th>zipcode_98126</th> <td>-2.975e+05</td> <td> 1.03e+05</td> <td>   -2.884</td> <td> 0.004</td> <td>   -5e+05</td> <td>-9.53e+04</td>\n",
       "</tr>\n",
       "<tr>\n",
       "  <th>zipcode_98133</th> <td>-3.669e+05</td> <td> 1.07e+05</td> <td>   -3.416</td> <td> 0.001</td> <td>-5.77e+05</td> <td>-1.56e+05</td>\n",
       "</tr>\n",
       "<tr>\n",
       "  <th>zipcode_98136</th> <td>-2.571e+05</td> <td> 1.04e+05</td> <td>   -2.480</td> <td> 0.013</td> <td> -4.6e+05</td> <td>-5.39e+04</td>\n",
       "</tr>\n",
       "<tr>\n",
       "  <th>zipcode_98144</th> <td>-2.289e+05</td> <td> 1.01e+05</td> <td>   -2.270</td> <td> 0.023</td> <td>-4.27e+05</td> <td>-3.13e+04</td>\n",
       "</tr>\n",
       "<tr>\n",
       "  <th>zipcode_98146</th> <td>-3.703e+05</td> <td> 1.01e+05</td> <td>   -3.653</td> <td> 0.000</td> <td>-5.69e+05</td> <td>-1.72e+05</td>\n",
       "</tr>\n",
       "<tr>\n",
       "  <th>zipcode_98148</th> <td> -3.95e+05</td> <td> 1.01e+05</td> <td>   -3.924</td> <td> 0.000</td> <td>-5.92e+05</td> <td>-1.98e+05</td>\n",
       "</tr>\n",
       "<tr>\n",
       "  <th>zipcode_98155</th> <td>-3.779e+05</td> <td> 1.06e+05</td> <td>   -3.549</td> <td> 0.000</td> <td>-5.87e+05</td> <td>-1.69e+05</td>\n",
       "</tr>\n",
       "<tr>\n",
       "  <th>zipcode_98166</th> <td>-4.068e+05</td> <td>    1e+05</td> <td>   -4.070</td> <td> 0.000</td> <td>-6.03e+05</td> <td>-2.11e+05</td>\n",
       "</tr>\n",
       "<tr>\n",
       "  <th>zipcode_98168</th> <td>-3.951e+05</td> <td> 9.89e+04</td> <td>   -3.995</td> <td> 0.000</td> <td>-5.89e+05</td> <td>-2.01e+05</td>\n",
       "</tr>\n",
       "<tr>\n",
       "  <th>zipcode_98177</th> <td>-3.063e+05</td> <td> 1.09e+05</td> <td>   -2.811</td> <td> 0.005</td> <td> -5.2e+05</td> <td>-9.27e+04</td>\n",
       "</tr>\n",
       "<tr>\n",
       "  <th>zipcode_98178</th> <td>-4.246e+05</td> <td> 9.64e+04</td> <td>   -4.406</td> <td> 0.000</td> <td>-6.14e+05</td> <td>-2.36e+05</td>\n",
       "</tr>\n",
       "<tr>\n",
       "  <th>zipcode_98188</th> <td>-4.215e+05</td> <td> 9.72e+04</td> <td>   -4.337</td> <td> 0.000</td> <td>-6.12e+05</td> <td>-2.31e+05</td>\n",
       "</tr>\n",
       "<tr>\n",
       "  <th>zipcode_98198</th> <td>-4.411e+05</td> <td> 9.69e+04</td> <td>   -4.550</td> <td> 0.000</td> <td>-6.31e+05</td> <td>-2.51e+05</td>\n",
       "</tr>\n",
       "<tr>\n",
       "  <th>zipcode_98199</th> <td>-1.369e+05</td> <td> 1.07e+05</td> <td>   -1.278</td> <td> 0.201</td> <td>-3.47e+05</td> <td>  7.3e+04</td>\n",
       "</tr>\n",
       "</table>\n",
       "<table class=\"simpletable\">\n",
       "<tr>\n",
       "  <th>Omnibus:</th>       <td>10006.539</td> <th>  Durbin-Watson:     </th>  <td>   1.992</td> \n",
       "</tr>\n",
       "<tr>\n",
       "  <th>Prob(Omnibus):</th>  <td> 0.000</td>   <th>  Jarque-Bera (JB):  </th> <td>361187.157</td>\n",
       "</tr>\n",
       "<tr>\n",
       "  <th>Skew:</th>           <td> 2.516</td>   <th>  Prob(JB):          </th>  <td>    0.00</td> \n",
       "</tr>\n",
       "<tr>\n",
       "  <th>Kurtosis:</th>       <td>25.921</td>   <th>  Cond. No.          </th>  <td>7.67e+17</td> \n",
       "</tr>\n",
       "</table><br/><br/>Notes:<br/>[1] Standard Errors assume that the covariance matrix of the errors is correctly specified.<br/>[2] The smallest eigenvalue is 3.48e-25. This might indicate that there are<br/>strong multicollinearity problems or that the design matrix is singular."
      ],
      "text/plain": [
       "<class 'statsmodels.iolib.summary.Summary'>\n",
       "\"\"\"\n",
       "                            OLS Regression Results                            \n",
       "==============================================================================\n",
       "Dep. Variable:                  price   R-squared:                       0.815\n",
       "Model:                            OLS   Adj. R-squared:                  0.814\n",
       "Method:                 Least Squares   F-statistic:                     841.6\n",
       "Date:                Thu, 07 Jan 2021   Prob (F-statistic):               0.00\n",
       "Time:                        14:32:33   Log-Likelihood:            -2.1000e+05\n",
       "No. Observations:               15741   AIC:                         4.202e+05\n",
       "Df Residuals:                   15658   BIC:                         4.208e+05\n",
       "Df Model:                          82                                         \n",
       "Covariance Type:            nonrobust                                         \n",
       "=================================================================================\n",
       "                    coef    std err          t      P>|t|      [0.025      0.975]\n",
       "---------------------------------------------------------------------------------\n",
       "Intercept     -1.943e+07   6.69e+06     -2.903      0.004   -3.25e+07   -6.31e+06\n",
       "bedrooms      -2.524e+04   1793.999    -14.070      0.000   -2.88e+04   -2.17e+04\n",
       "bathrooms      1.765e+04   2897.828      6.091      0.000     1.2e+04    2.33e+04\n",
       "sqft_living     159.6557      3.035     52.608      0.000     153.707     165.604\n",
       "floors        -6728.4399   3048.547     -2.207      0.027   -1.27e+04    -752.936\n",
       "waterfront     6.191e+05   1.58e+04     39.204      0.000    5.88e+05     6.5e+05\n",
       "view           4.982e+04   1928.086     25.840      0.000     4.6e+04    5.36e+04\n",
       "condition      2.337e+04   2113.129     11.059      0.000    1.92e+04    2.75e+04\n",
       "grade          6.803e+04   1983.793     34.292      0.000    6.41e+04    7.19e+04\n",
       "yr_built       -918.2849     71.018    -12.930      0.000   -1057.488    -779.082\n",
       "yr_renovated     13.0679      3.279      3.985      0.000       6.640      19.496\n",
       "lat            1.939e+05   6.96e+04      2.787      0.005    5.75e+04     3.3e+05\n",
       "long          -9.735e+04   5.06e+04     -1.925      0.054   -1.96e+05    1786.597\n",
       "sqft_living15    27.5701      3.191      8.639      0.000      21.315      33.825\n",
       "zipcode_98001 -4.222e+05   9.32e+04     -4.532      0.000   -6.05e+05    -2.4e+05\n",
       "zipcode_98002 -3.851e+05   9.08e+04     -4.241      0.000   -5.63e+05   -2.07e+05\n",
       "zipcode_98003 -4.517e+05   9.52e+04     -4.743      0.000   -6.38e+05   -2.65e+05\n",
       "zipcode_98004  2.617e+05   9.77e+04      2.677      0.007    7.01e+04    4.53e+05\n",
       "zipcode_98005 -1.829e+05   9.64e+04     -1.897      0.058   -3.72e+05    6069.652\n",
       "zipcode_98006  -2.13e+05   9.33e+04     -2.283      0.022   -3.96e+05   -3.01e+04\n",
       "zipcode_98007 -2.362e+05   9.55e+04     -2.473      0.013   -4.23e+05    -4.9e+04\n",
       "zipcode_98008 -2.244e+05   9.39e+04     -2.389      0.017   -4.08e+05   -4.03e+04\n",
       "zipcode_98010 -3.256e+05   8.24e+04     -3.951      0.000   -4.87e+05   -1.64e+05\n",
       "zipcode_98011 -3.914e+05   1.03e+05     -3.812      0.000   -5.93e+05    -1.9e+05\n",
       "zipcode_98014 -3.295e+05   8.62e+04     -3.822      0.000   -4.99e+05   -1.61e+05\n",
       "zipcode_98019 -3.893e+05   9.26e+04     -4.206      0.000   -5.71e+05   -2.08e+05\n",
       "zipcode_98022 -3.724e+05   7.87e+04     -4.729      0.000   -5.27e+05   -2.18e+05\n",
       "zipcode_98023 -4.692e+05   9.75e+04     -4.811      0.000    -6.6e+05   -2.78e+05\n",
       "zipcode_98024 -2.626e+05   8.49e+04     -3.094      0.002   -4.29e+05   -9.62e+04\n",
       "zipcode_98027 -2.882e+05   8.77e+04     -3.287      0.001    -4.6e+05   -1.16e+05\n",
       "zipcode_98028 -3.968e+05   1.04e+05     -3.808      0.000   -6.01e+05   -1.93e+05\n",
       "zipcode_98029   -2.5e+05   8.74e+04     -2.859      0.004   -4.21e+05   -7.86e+04\n",
       "zipcode_98030 -4.281e+05   9.07e+04     -4.719      0.000   -6.06e+05    -2.5e+05\n",
       "zipcode_98031 -4.258e+05   9.14e+04     -4.660      0.000   -6.05e+05   -2.47e+05\n",
       "zipcode_98032   -4.4e+05   9.54e+04     -4.610      0.000   -6.27e+05   -2.53e+05\n",
       "zipcode_98033 -1.367e+05    9.9e+04     -1.380      0.167   -3.31e+05    5.74e+04\n",
       "zipcode_98034 -2.972e+05   1.01e+05     -2.939      0.003   -4.95e+05    -9.9e+04\n",
       "zipcode_98038 -3.743e+05   8.31e+04     -4.507      0.000   -5.37e+05   -2.12e+05\n",
       "zipcode_98039  7.446e+05   1.02e+05      7.296      0.000    5.45e+05    9.45e+05\n",
       "zipcode_98040  1.925e+04    9.7e+04      0.198      0.843   -1.71e+05    2.09e+05\n",
       "zipcode_98042 -4.129e+05   8.69e+04     -4.753      0.000   -5.83e+05   -2.43e+05\n",
       "zipcode_98045 -3.006e+05   7.45e+04     -4.038      0.000   -4.47e+05   -1.55e+05\n",
       "zipcode_98052 -2.572e+05   9.61e+04     -2.677      0.007   -4.46e+05   -6.89e+04\n",
       "zipcode_98053 -2.607e+05   9.24e+04     -2.821      0.005   -4.42e+05   -7.96e+04\n",
       "zipcode_98055 -4.065e+05   9.33e+04     -4.359      0.000   -5.89e+05   -2.24e+05\n",
       "zipcode_98056 -3.567e+05   9.35e+04     -3.814      0.000    -5.4e+05   -1.73e+05\n",
       "zipcode_98058 -4.114e+05   9.02e+04     -4.560      0.000   -5.88e+05   -2.35e+05\n",
       "zipcode_98059 -3.555e+05   9.11e+04     -3.901      0.000   -5.34e+05   -1.77e+05\n",
       "zipcode_98065 -3.303e+05   8.05e+04     -4.101      0.000   -4.88e+05   -1.72e+05\n",
       "zipcode_98070 -4.526e+05   1.05e+05     -4.310      0.000   -6.58e+05   -2.47e+05\n",
       "zipcode_98072 -3.483e+05   9.94e+04     -3.503      0.000   -5.43e+05   -1.53e+05\n",
       "zipcode_98074 -2.902e+05   9.11e+04     -3.184      0.001   -4.69e+05   -1.12e+05\n",
       "zipcode_98075 -2.819e+05    8.9e+04     -3.167      0.002   -4.56e+05   -1.07e+05\n",
       "zipcode_98077 -3.586e+05   9.67e+04     -3.708      0.000   -5.48e+05   -1.69e+05\n",
       "zipcode_98092 -4.426e+05   8.82e+04     -5.017      0.000   -6.16e+05    -2.7e+05\n",
       "zipcode_98102 -5.272e+04   1.05e+05     -0.504      0.614   -2.58e+05    1.52e+05\n",
       "zipcode_98103 -2.005e+05   1.05e+05     -1.903      0.057   -4.07e+05    6069.668\n",
       "zipcode_98105 -6.418e+04   1.03e+05     -0.622      0.534   -2.67e+05    1.38e+05\n",
       "zipcode_98106 -3.415e+05   1.02e+05     -3.344      0.001   -5.42e+05   -1.41e+05\n",
       "zipcode_98107  -1.86e+05   1.07e+05     -1.742      0.081   -3.95e+05    2.32e+04\n",
       "zipcode_98108  -3.68e+05   1.01e+05     -3.659      0.000   -5.65e+05   -1.71e+05\n",
       "zipcode_98109  -7.15e+04   1.05e+05     -0.678      0.498   -2.78e+05    1.35e+05\n",
       "zipcode_98112  1.172e+05   1.02e+05      1.147      0.251   -8.31e+04    3.17e+05\n",
       "zipcode_98115 -1.886e+05   1.04e+05     -1.815      0.069   -3.92e+05     1.5e+04\n",
       "zipcode_98116 -2.244e+05   1.05e+05     -2.144      0.032    -4.3e+05   -1.92e+04\n",
       "zipcode_98117 -2.154e+05   1.07e+05     -2.009      0.045   -4.25e+05   -5290.512\n",
       "zipcode_98118 -3.116e+05   9.85e+04     -3.163      0.002   -5.05e+05   -1.19e+05\n",
       "zipcode_98119 -4.811e+04   1.06e+05     -0.455      0.649   -2.55e+05    1.59e+05\n",
       "zipcode_98122 -1.926e+05   1.02e+05     -1.894      0.058   -3.92e+05    6687.216\n",
       "zipcode_98125   -3.2e+05   1.05e+05     -3.047      0.002   -5.26e+05   -1.14e+05\n",
       "zipcode_98126 -2.975e+05   1.03e+05     -2.884      0.004      -5e+05   -9.53e+04\n",
       "zipcode_98133 -3.669e+05   1.07e+05     -3.416      0.001   -5.77e+05   -1.56e+05\n",
       "zipcode_98136 -2.571e+05   1.04e+05     -2.480      0.013    -4.6e+05   -5.39e+04\n",
       "zipcode_98144 -2.289e+05   1.01e+05     -2.270      0.023   -4.27e+05   -3.13e+04\n",
       "zipcode_98146 -3.703e+05   1.01e+05     -3.653      0.000   -5.69e+05   -1.72e+05\n",
       "zipcode_98148  -3.95e+05   1.01e+05     -3.924      0.000   -5.92e+05   -1.98e+05\n",
       "zipcode_98155 -3.779e+05   1.06e+05     -3.549      0.000   -5.87e+05   -1.69e+05\n",
       "zipcode_98166 -4.068e+05      1e+05     -4.070      0.000   -6.03e+05   -2.11e+05\n",
       "zipcode_98168 -3.951e+05   9.89e+04     -3.995      0.000   -5.89e+05   -2.01e+05\n",
       "zipcode_98177 -3.063e+05   1.09e+05     -2.811      0.005    -5.2e+05   -9.27e+04\n",
       "zipcode_98178 -4.246e+05   9.64e+04     -4.406      0.000   -6.14e+05   -2.36e+05\n",
       "zipcode_98188 -4.215e+05   9.72e+04     -4.337      0.000   -6.12e+05   -2.31e+05\n",
       "zipcode_98198 -4.411e+05   9.69e+04     -4.550      0.000   -6.31e+05   -2.51e+05\n",
       "zipcode_98199 -1.369e+05   1.07e+05     -1.278      0.201   -3.47e+05     7.3e+04\n",
       "==============================================================================\n",
       "Omnibus:                    10006.539   Durbin-Watson:                   1.992\n",
       "Prob(Omnibus):                  0.000   Jarque-Bera (JB):           361187.157\n",
       "Skew:                           2.516   Prob(JB):                         0.00\n",
       "Kurtosis:                      25.921   Cond. No.                     7.67e+17\n",
       "==============================================================================\n",
       "\n",
       "Notes:\n",
       "[1] Standard Errors assume that the covariance matrix of the errors is correctly specified.\n",
       "[2] The smallest eigenvalue is 3.48e-25. This might indicate that there are\n",
       "strong multicollinearity problems or that the design matrix is singular.\n",
       "\"\"\""
      ]
     },
     "execution_count": 26,
     "metadata": {},
     "output_type": "execute_result"
    }
   ],
   "source": [
    "model_2 = ols(formula= f, data = df_with_zip_dummies).fit()\n",
    "model_2.summary()"
   ]
  },
  {
   "cell_type": "code",
   "execution_count": 27,
   "metadata": {
    "ExecuteTime": {
     "end_time": "2021-01-07T19:32:34.256741Z",
     "start_time": "2021-01-07T19:32:33.701574Z"
    }
   },
   "outputs": [
    {
     "name": "stdout",
     "output_type": "stream",
     "text": [
      "Train MSE: 22196793427.689747\n",
      "Test MSE: 24364151772.97297\n",
      "RMSE Train: 148985.88331680873\n",
      "RMSE Test: 156090.20396223772\n"
     ]
    },
    {
     "data": {
      "image/png": "[encoded data removed]",
      "text/plain": [
       "<Figure size 432x288 with 1 Axes>"
      ]
     },
     "execution_count": 27,
     "metadata": {},
     "output_type": "execute_result"
    },
    {
     "data": {
      "image/png": "[encoded data removed]",
      "text/plain": [
       "<Figure size 432x288 with 1 Axes>"
      ]
     },
     "metadata": {
      "needs_background": "light"
     },
     "output_type": "display_data"
    }
   ],
   "source": [
    "data = df_with_zip_dummies.copy()\n",
    "\n",
    "y = data['price']\n",
    "X = data.drop(['price', 'date', 'id', 'zipcode', 'sqft_above'], axis = 1)\n",
    "\n",
    "X_train, X_test, y_train, y_test = train_test_split(X, y, test_size = 0.2)\n",
    "\n",
    "len(X_test)\n",
    "\n",
    "linreg = LinearRegression()\n",
    "linreg.fit(X_train, y_train)\n",
    "\n",
    "y_hat_train = linreg.predict(X_train)\n",
    "y_hat_test = linreg.predict(X_test)\n",
    "\n",
    "\n",
    "mse_train = mean_squared_error(y_train, y_hat_train)\n",
    "mse_test = mean_squared_error(y_test, y_hat_test)\n",
    "\n",
    "print('Train MSE:', mse_train)\n",
    "print('Test MSE:', mse_test)\n",
    "\n",
    "print('RMSE Train:', np.sqrt(mse_train))\n",
    "print('RMSE Test:', np.sqrt(mse_test))\n",
    "\n",
    "r2_score(y_test, y_hat_test)\n",
    "\n",
    "residuals = (y_test - y_hat_test)\n",
    "\n",
    "statsmodels.graphics.gofplots.qqplot(residuals, line = \"r\")"
   ]
  },
  {
   "cell_type": "markdown",
   "metadata": {},
   "source": [
    "## Model 3 - use the z score to drop outliers"
   ]
  },
  {
   "cell_type": "code",
   "execution_count": 28,
   "metadata": {
    "ExecuteTime": {
     "end_time": "2021-01-07T19:32:34.276257Z",
     "start_time": "2021-01-07T19:32:34.259762Z"
    }
   },
   "outputs": [
    {
     "name": "stdout",
     "output_type": "stream",
     "text": [
      "<class 'pandas.core.frame.DataFrame'>\n",
      "Int64Index: 15741 entries, 1 to 21596\n",
      "Data columns (total 20 columns):\n",
      " #   Column         Non-Null Count  Dtype  \n",
      "---  ------         --------------  -----  \n",
      " 0   id             15741 non-null  int64  \n",
      " 1   date           15741 non-null  object \n",
      " 2   price          15741 non-null  float64\n",
      " 3   bedrooms       15741 non-null  int64  \n",
      " 4   bathrooms      15741 non-null  float64\n",
      " 5   sqft_living    15741 non-null  int64  \n",
      " 6   sqft_lot       15741 non-null  int64  \n",
      " 7   floors         15741 non-null  float64\n",
      " 8   waterfront     15741 non-null  float64\n",
      " 9   view           15741 non-null  float64\n",
      " 10  condition      15741 non-null  int64  \n",
      " 11  grade          15741 non-null  int64  \n",
      " 12  sqft_above     15741 non-null  int64  \n",
      " 13  yr_built       15741 non-null  int64  \n",
      " 14  yr_renovated   15741 non-null  float64\n",
      " 15  zipcode        15741 non-null  int64  \n",
      " 16  lat            15741 non-null  float64\n",
      " 17  long           15741 non-null  float64\n",
      " 18  sqft_living15  15741 non-null  int64  \n",
      " 19  sqft_lot15     15741 non-null  int64  \n",
      "dtypes: float64(8), int64(11), object(1)\n",
      "memory usage: 2.5+ MB\n"
     ]
    }
   ],
   "source": [
    "df.info()"
   ]
  },
  {
   "cell_type": "code",
   "execution_count": 29,
   "metadata": {
    "ExecuteTime": {
     "end_time": "2021-01-07T19:32:34.284475Z",
     "start_time": "2021-01-07T19:32:34.279165Z"
    }
   },
   "outputs": [],
   "source": [
    "df.drop(columns=['date'], inplace= True)"
   ]
  },
  {
   "cell_type": "code",
   "execution_count": 30,
   "metadata": {
    "ExecuteTime": {
     "end_time": "2021-01-07T19:32:34.305966Z",
     "start_time": "2021-01-07T19:32:34.288342Z"
    }
   },
   "outputs": [],
   "source": [
    "from scipy import stats\n",
    "df_z_score = df[(np.abs(stats.zscore(df)) < 3).all(axis=1)]"
   ]
  },
  {
   "cell_type": "code",
   "execution_count": 32,
   "metadata": {
    "ExecuteTime": {
     "end_time": "2021-01-07T19:32:47.538679Z",
     "start_time": "2021-01-07T19:32:47.526587Z"
    }
   },
   "outputs": [
    {
     "name": "stdout",
     "output_type": "stream",
     "text": [
      "<class 'pandas.core.frame.DataFrame'>\n",
      "Int64Index: 13700 entries, 3 to 21596\n",
      "Data columns (total 19 columns):\n",
      " #   Column         Non-Null Count  Dtype  \n",
      "---  ------         --------------  -----  \n",
      " 0   id             13700 non-null  int64  \n",
      " 1   price          13700 non-null  float64\n",
      " 2   bedrooms       13700 non-null  int64  \n",
      " 3   bathrooms      13700 non-null  float64\n",
      " 4   sqft_living    13700 non-null  int64  \n",
      " 5   sqft_lot       13700 non-null  int64  \n",
      " 6   floors         13700 non-null  float64\n",
      " 7   waterfront     13700 non-null  float64\n",
      " 8   view           13700 non-null  float64\n",
      " 9   condition      13700 non-null  int64  \n",
      " 10  grade          13700 non-null  int64  \n",
      " 11  sqft_above     13700 non-null  int64  \n",
      " 12  yr_built       13700 non-null  int64  \n",
      " 13  yr_renovated   13700 non-null  float64\n",
      " 14  zipcode        13700 non-null  int64  \n",
      " 15  lat            13700 non-null  float64\n",
      " 16  long           13700 non-null  float64\n",
      " 17  sqft_living15  13700 non-null  int64  \n",
      " 18  sqft_lot15     13700 non-null  int64  \n",
      "dtypes: float64(8), int64(11)\n",
      "memory usage: 2.1 MB\n"
     ]
    }
   ],
   "source": [
    "df_z_score.info()"
   ]
  },
  {
   "cell_type": "code",
   "execution_count": 34,
   "metadata": {
    "ExecuteTime": {
     "end_time": "2021-01-07T19:34:07.893626Z",
     "start_time": "2021-01-07T19:34:05.672041Z"
    }
   },
   "outputs": [
    {
     "data": {
      "text/plain": [
       "array([[<AxesSubplot:title={'center':'id'}>,\n",
       "        <AxesSubplot:title={'center':'price'}>,\n",
       "        <AxesSubplot:title={'center':'bedrooms'}>,\n",
       "        <AxesSubplot:title={'center':'bathrooms'}>],\n",
       "       [<AxesSubplot:title={'center':'sqft_living'}>,\n",
       "        <AxesSubplot:title={'center':'sqft_lot'}>,\n",
       "        <AxesSubplot:title={'center':'floors'}>,\n",
       "        <AxesSubplot:title={'center':'waterfront'}>],\n",
       "       [<AxesSubplot:title={'center':'view'}>,\n",
       "        <AxesSubplot:title={'center':'condition'}>,\n",
       "        <AxesSubplot:title={'center':'grade'}>,\n",
       "        <AxesSubplot:title={'center':'sqft_above'}>],\n",
       "       [<AxesSubplot:title={'center':'yr_built'}>,\n",
       "        <AxesSubplot:title={'center':'yr_renovated'}>,\n",
       "        <AxesSubplot:title={'center':'zipcode'}>,\n",
       "        <AxesSubplot:title={'center':'lat'}>],\n",
       "       [<AxesSubplot:title={'center':'long'}>,\n",
       "        <AxesSubplot:title={'center':'sqft_living15'}>,\n",
       "        <AxesSubplot:title={'center':'sqft_lot15'}>, <AxesSubplot:>]],\n",
       "      dtype=object)"
      ]
     },
     "execution_count": 34,
     "metadata": {},
     "output_type": "execute_result"
    },
    {
     "data": {
      "image/png": "[encoded data removed]",
      "text/plain": [
       "<Figure size 1080x864 with 20 Axes>"
      ]
     },
     "metadata": {
      "needs_background": "light"
     },
     "output_type": "display_data"
    }
   ],
   "source": [
    "df_z_score.hist(figsize=(15,12))"
   ]
  },
  {
   "cell_type": "code",
   "execution_count": 36,
   "metadata": {
    "ExecuteTime": {
     "end_time": "2021-01-07T19:34:45.140626Z",
     "start_time": "2021-01-07T19:34:45.135710Z"
    }
   },
   "outputs": [],
   "source": [
    "outcome = 'price'\n",
    "x_cols = df_z_score.drop(['price' , 'id', 'zipcode', 'sqft_above', 'sqft_lot15', 'sqft_lot'], axis = 1).columns\n",
    "predictors = '+'.join(x_cols)\n",
    "\n",
    "f = outcome + '~' + predictors"
   ]
  },
  {
   "cell_type": "code",
   "execution_count": 38,
   "metadata": {
    "ExecuteTime": {
     "end_time": "2021-01-07T19:35:22.640432Z",
     "start_time": "2021-01-07T19:35:22.558326Z"
    }
   },
   "outputs": [
    {
     "data": {
      "text/html": [
       "<table class=\"simpletable\">\n",
       "<caption>OLS Regression Results</caption>\n",
       "<tr>\n",
       "  <th>Dep. Variable:</th>          <td>price</td>      <th>  R-squared:         </th>  <td>   0.680</td>  \n",
       "</tr>\n",
       "<tr>\n",
       "  <th>Model:</th>                   <td>OLS</td>       <th>  Adj. R-squared:    </th>  <td>   0.680</td>  \n",
       "</tr>\n",
       "<tr>\n",
       "  <th>Method:</th>             <td>Least Squares</td>  <th>  F-statistic:       </th>  <td>   2647.</td>  \n",
       "</tr>\n",
       "<tr>\n",
       "  <th>Date:</th>             <td>Thu, 07 Jan 2021</td> <th>  Prob (F-statistic):</th>   <td>  0.00</td>   \n",
       "</tr>\n",
       "<tr>\n",
       "  <th>Time:</th>                 <td>14:35:22</td>     <th>  Log-Likelihood:    </th> <td>-1.8078e+05</td>\n",
       "</tr>\n",
       "<tr>\n",
       "  <th>No. Observations:</th>      <td> 13700</td>      <th>  AIC:               </th>  <td>3.616e+05</td> \n",
       "</tr>\n",
       "<tr>\n",
       "  <th>Df Residuals:</th>          <td> 13688</td>      <th>  BIC:               </th>  <td>3.617e+05</td> \n",
       "</tr>\n",
       "<tr>\n",
       "  <th>Df Model:</th>              <td>    11</td>      <th>                     </th>      <td> </td>     \n",
       "</tr>\n",
       "<tr>\n",
       "  <th>Covariance Type:</th>      <td>nonrobust</td>    <th>                     </th>      <td> </td>     \n",
       "</tr>\n",
       "</table>\n",
       "<table class=\"simpletable\">\n",
       "<tr>\n",
       "        <td></td>           <th>coef</th>     <th>std err</th>      <th>t</th>      <th>P>|t|</th>  <th>[0.025</th>    <th>0.975]</th>  \n",
       "</tr>\n",
       "<tr>\n",
       "  <th>Intercept</th>     <td>-2.812e+07</td> <td> 1.36e+06</td> <td>  -20.616</td> <td> 0.000</td> <td>-3.08e+07</td> <td>-2.54e+07</td>\n",
       "</tr>\n",
       "<tr>\n",
       "  <th>bedrooms</th>      <td>-1.287e+04</td> <td> 1716.550</td> <td>   -7.495</td> <td> 0.000</td> <td>-1.62e+04</td> <td>-9501.034</td>\n",
       "</tr>\n",
       "<tr>\n",
       "  <th>bathrooms</th>     <td> 2.853e+04</td> <td> 2782.289</td> <td>   10.254</td> <td> 0.000</td> <td> 2.31e+04</td> <td>  3.4e+04</td>\n",
       "</tr>\n",
       "<tr>\n",
       "  <th>sqft_living</th>   <td>   91.1549</td> <td>    3.148</td> <td>   28.956</td> <td> 0.000</td> <td>   84.984</td> <td>   97.325</td>\n",
       "</tr>\n",
       "<tr>\n",
       "  <th>floors</th>        <td> 3.372e+04</td> <td> 2650.614</td> <td>   12.722</td> <td> 0.000</td> <td> 2.85e+04</td> <td> 3.89e+04</td>\n",
       "</tr>\n",
       "<tr>\n",
       "  <th>waterfront</th>    <td> 1.625e-06</td> <td> 7.88e-08</td> <td>   20.620</td> <td> 0.000</td> <td> 1.47e-06</td> <td> 1.78e-06</td>\n",
       "</tr>\n",
       "<tr>\n",
       "  <th>view</th>          <td>  3.97e+04</td> <td> 2859.994</td> <td>   13.881</td> <td> 0.000</td> <td> 3.41e+04</td> <td> 4.53e+04</td>\n",
       "</tr>\n",
       "<tr>\n",
       "  <th>condition</th>     <td> 3.072e+04</td> <td> 1913.626</td> <td>   16.051</td> <td> 0.000</td> <td>  2.7e+04</td> <td> 3.45e+04</td>\n",
       "</tr>\n",
       "<tr>\n",
       "  <th>grade</th>         <td> 8.412e+04</td> <td> 1834.858</td> <td>   45.844</td> <td> 0.000</td> <td> 8.05e+04</td> <td> 8.77e+04</td>\n",
       "</tr>\n",
       "<tr>\n",
       "  <th>yr_built</th>      <td>-2048.8429</td> <td>   60.667</td> <td>  -33.772</td> <td> 0.000</td> <td>-2167.758</td> <td>-1929.928</td>\n",
       "</tr>\n",
       "<tr>\n",
       "  <th>yr_renovated</th>  <td>-8.928e-08</td> <td> 4.33e-09</td> <td>  -20.596</td> <td> 0.000</td> <td>-9.78e-08</td> <td>-8.08e-08</td>\n",
       "</tr>\n",
       "<tr>\n",
       "  <th>lat</th>           <td> 5.513e+05</td> <td> 8315.905</td> <td>   66.294</td> <td> 0.000</td> <td> 5.35e+05</td> <td> 5.68e+05</td>\n",
       "</tr>\n",
       "<tr>\n",
       "  <th>long</th>          <td>-4.375e+04</td> <td> 1.04e+04</td> <td>   -4.206</td> <td> 0.000</td> <td>-6.41e+04</td> <td>-2.34e+04</td>\n",
       "</tr>\n",
       "<tr>\n",
       "  <th>sqft_living15</th> <td>   47.2849</td> <td>    3.141</td> <td>   15.055</td> <td> 0.000</td> <td>   41.129</td> <td>   53.441</td>\n",
       "</tr>\n",
       "</table>\n",
       "<table class=\"simpletable\">\n",
       "<tr>\n",
       "  <th>Omnibus:</th>       <td>3560.281</td> <th>  Durbin-Watson:     </th> <td>   1.982</td> \n",
       "</tr>\n",
       "<tr>\n",
       "  <th>Prob(Omnibus):</th>  <td> 0.000</td>  <th>  Jarque-Bera (JB):  </th> <td>15104.138</td>\n",
       "</tr>\n",
       "<tr>\n",
       "  <th>Skew:</th>           <td> 1.221</td>  <th>  Prob(JB):          </th> <td>    0.00</td> \n",
       "</tr>\n",
       "<tr>\n",
       "  <th>Kurtosis:</th>       <td> 7.527</td>  <th>  Cond. No.          </th> <td>1.27e+21</td> \n",
       "</tr>\n",
       "</table><br/><br/>Notes:<br/>[1] Standard Errors assume that the covariance matrix of the errors is correctly specified.<br/>[2] The smallest eigenvalue is 1.01e-31. This might indicate that there are<br/>strong multicollinearity problems or that the design matrix is singular."
      ],
      "text/plain": [
       "<class 'statsmodels.iolib.summary.Summary'>\n",
       "\"\"\"\n",
       "                            OLS Regression Results                            \n",
       "==============================================================================\n",
       "Dep. Variable:                  price   R-squared:                       0.680\n",
       "Model:                            OLS   Adj. R-squared:                  0.680\n",
       "Method:                 Least Squares   F-statistic:                     2647.\n",
       "Date:                Thu, 07 Jan 2021   Prob (F-statistic):               0.00\n",
       "Time:                        14:35:22   Log-Likelihood:            -1.8078e+05\n",
       "No. Observations:               13700   AIC:                         3.616e+05\n",
       "Df Residuals:                   13688   BIC:                         3.617e+05\n",
       "Df Model:                          11                                         \n",
       "Covariance Type:            nonrobust                                         \n",
       "=================================================================================\n",
       "                    coef    std err          t      P>|t|      [0.025      0.975]\n",
       "---------------------------------------------------------------------------------\n",
       "Intercept     -2.812e+07   1.36e+06    -20.616      0.000   -3.08e+07   -2.54e+07\n",
       "bedrooms      -1.287e+04   1716.550     -7.495      0.000   -1.62e+04   -9501.034\n",
       "bathrooms      2.853e+04   2782.289     10.254      0.000    2.31e+04     3.4e+04\n",
       "sqft_living      91.1549      3.148     28.956      0.000      84.984      97.325\n",
       "floors         3.372e+04   2650.614     12.722      0.000    2.85e+04    3.89e+04\n",
       "waterfront     1.625e-06   7.88e-08     20.620      0.000    1.47e-06    1.78e-06\n",
       "view            3.97e+04   2859.994     13.881      0.000    3.41e+04    4.53e+04\n",
       "condition      3.072e+04   1913.626     16.051      0.000     2.7e+04    3.45e+04\n",
       "grade          8.412e+04   1834.858     45.844      0.000    8.05e+04    8.77e+04\n",
       "yr_built      -2048.8429     60.667    -33.772      0.000   -2167.758   -1929.928\n",
       "yr_renovated  -8.928e-08   4.33e-09    -20.596      0.000   -9.78e-08   -8.08e-08\n",
       "lat            5.513e+05   8315.905     66.294      0.000    5.35e+05    5.68e+05\n",
       "long          -4.375e+04   1.04e+04     -4.206      0.000   -6.41e+04   -2.34e+04\n",
       "sqft_living15    47.2849      3.141     15.055      0.000      41.129      53.441\n",
       "==============================================================================\n",
       "Omnibus:                     3560.281   Durbin-Watson:                   1.982\n",
       "Prob(Omnibus):                  0.000   Jarque-Bera (JB):            15104.138\n",
       "Skew:                           1.221   Prob(JB):                         0.00\n",
       "Kurtosis:                       7.527   Cond. No.                     1.27e+21\n",
       "==============================================================================\n",
       "\n",
       "Notes:\n",
       "[1] Standard Errors assume that the covariance matrix of the errors is correctly specified.\n",
       "[2] The smallest eigenvalue is 1.01e-31. This might indicate that there are\n",
       "strong multicollinearity problems or that the design matrix is singular.\n",
       "\"\"\""
      ]
     },
     "execution_count": 38,
     "metadata": {},
     "output_type": "execute_result"
    }
   ],
   "source": [
    "model_3 = ols(formula= f, data = df_z_score).fit()\n",
    "model_3.summary()"
   ]
  },
  {
   "cell_type": "code",
   "execution_count": 40,
   "metadata": {
    "ExecuteTime": {
     "end_time": "2021-01-07T19:36:24.984598Z",
     "start_time": "2021-01-07T19:36:24.571949Z"
    }
   },
   "outputs": [
    {
     "name": "stdout",
     "output_type": "stream",
     "text": [
      "Train MSE: 16753970167.348076\n",
      "Test MSE: 17326902117.561115\n",
      "RMSE Train: 129437.12824127424\n",
      "RMSE Test: 131631.6911596942\n"
     ]
    },
    {
     "data": {
      "image/png": "[encoded data removed]",
      "text/plain": [
       "<Figure size 432x288 with 1 Axes>"
      ]
     },
     "execution_count": 40,
     "metadata": {},
     "output_type": "execute_result"
    },
    {
     "data": {
      "image/png": "[encoded data removed]",
      "text/plain": [
       "<Figure size 432x288 with 1 Axes>"
      ]
     },
     "metadata": {
      "needs_background": "light"
     },
     "output_type": "display_data"
    }
   ],
   "source": [
    "data = df_z_score.copy()\n",
    "\n",
    "y = data['price']\n",
    "X = data.drop(['price', 'id', 'zipcode', 'sqft_above'], axis = 1)\n",
    "\n",
    "X_train, X_test, y_train, y_test = train_test_split(X, y, test_size = 0.2)\n",
    "\n",
    "len(X_test)\n",
    "\n",
    "linreg = LinearRegression()\n",
    "linreg.fit(X_train, y_train)\n",
    "\n",
    "y_hat_train = linreg.predict(X_train)\n",
    "y_hat_test = linreg.predict(X_test)\n",
    "\n",
    "\n",
    "mse_train = mean_squared_error(y_train, y_hat_train)\n",
    "mse_test = mean_squared_error(y_test, y_hat_test)\n",
    "\n",
    "print('Train MSE:', mse_train)\n",
    "print('Test MSE:', mse_test)\n",
    "\n",
    "print('RMSE Train:', np.sqrt(mse_train))\n",
    "print('RMSE Test:', np.sqrt(mse_test))\n",
    "\n",
    "r2_score(y_test, y_hat_test)\n",
    "\n",
    "residuals = (y_test - y_hat_test)\n",
    "\n",
    "statsmodels.graphics.gofplots.qqplot(residuals, line = \"r\")"
   ]
  },
  {
   "cell_type": "code",
   "execution_count": 41,
   "metadata": {
    "ExecuteTime": {
     "end_time": "2021-01-07T19:37:10.057281Z",
     "start_time": "2021-01-07T19:37:10.052027Z"
    }
   },
   "outputs": [
    {
     "data": {
      "text/plain": [
       "538039.3447049108"
      ]
     },
     "execution_count": 41,
     "metadata": {},
     "output_type": "execute_result"
    }
   ],
   "source": [
    "df.price.mean()"
   ]
  },
  {
   "cell_type": "markdown",
   "metadata": {},
   "source": [
    "## Model 4 - with zip dummies, outliers dropped using z score"
   ]
  },
  {
   "cell_type": "code",
   "execution_count": 42,
   "metadata": {
    "ExecuteTime": {
     "end_time": "2021-01-07T19:38:57.493283Z",
     "start_time": "2021-01-07T19:38:57.489166Z"
    }
   },
   "outputs": [],
   "source": [
    "zip_dummies_2 = pd.get_dummies(df_z_score['zipcode'], prefix = 'zipcode')"
   ]
  },
  {
   "cell_type": "code",
   "execution_count": 43,
   "metadata": {
    "ExecuteTime": {
     "end_time": "2021-01-07T19:39:31.677929Z",
     "start_time": "2021-01-07T19:39:31.670434Z"
    }
   },
   "outputs": [],
   "source": [
    "df_z_score_zip_dummies = pd.concat([df_z_score, zip_dummies_2], axis = 1)"
   ]
  },
  {
   "cell_type": "code",
   "execution_count": 44,
   "metadata": {
    "ExecuteTime": {
     "end_time": "2021-01-07T19:39:39.397744Z",
     "start_time": "2021-01-07T19:39:39.372327Z"
    }
   },
   "outputs": [
    {
     "name": "stdout",
     "output_type": "stream",
     "text": [
      "<class 'pandas.core.frame.DataFrame'>\n",
      "Int64Index: 13700 entries, 3 to 21596\n",
      "Data columns (total 89 columns):\n",
      " #   Column         Non-Null Count  Dtype  \n",
      "---  ------         --------------  -----  \n",
      " 0   id             13700 non-null  int64  \n",
      " 1   price          13700 non-null  float64\n",
      " 2   bedrooms       13700 non-null  int64  \n",
      " 3   bathrooms      13700 non-null  float64\n",
      " 4   sqft_living    13700 non-null  int64  \n",
      " 5   sqft_lot       13700 non-null  int64  \n",
      " 6   floors         13700 non-null  float64\n",
      " 7   waterfront     13700 non-null  float64\n",
      " 8   view           13700 non-null  float64\n",
      " 9   condition      13700 non-null  int64  \n",
      " 10  grade          13700 non-null  int64  \n",
      " 11  sqft_above     13700 non-null  int64  \n",
      " 12  yr_built       13700 non-null  int64  \n",
      " 13  yr_renovated   13700 non-null  float64\n",
      " 14  zipcode        13700 non-null  int64  \n",
      " 15  lat            13700 non-null  float64\n",
      " 16  long           13700 non-null  float64\n",
      " 17  sqft_living15  13700 non-null  int64  \n",
      " 18  sqft_lot15     13700 non-null  int64  \n",
      " 19  zipcode_98001  13700 non-null  uint8  \n",
      " 20  zipcode_98002  13700 non-null  uint8  \n",
      " 21  zipcode_98003  13700 non-null  uint8  \n",
      " 22  zipcode_98004  13700 non-null  uint8  \n",
      " 23  zipcode_98005  13700 non-null  uint8  \n",
      " 24  zipcode_98006  13700 non-null  uint8  \n",
      " 25  zipcode_98007  13700 non-null  uint8  \n",
      " 26  zipcode_98008  13700 non-null  uint8  \n",
      " 27  zipcode_98010  13700 non-null  uint8  \n",
      " 28  zipcode_98011  13700 non-null  uint8  \n",
      " 29  zipcode_98014  13700 non-null  uint8  \n",
      " 30  zipcode_98019  13700 non-null  uint8  \n",
      " 31  zipcode_98022  13700 non-null  uint8  \n",
      " 32  zipcode_98023  13700 non-null  uint8  \n",
      " 33  zipcode_98024  13700 non-null  uint8  \n",
      " 34  zipcode_98027  13700 non-null  uint8  \n",
      " 35  zipcode_98028  13700 non-null  uint8  \n",
      " 36  zipcode_98029  13700 non-null  uint8  \n",
      " 37  zipcode_98030  13700 non-null  uint8  \n",
      " 38  zipcode_98031  13700 non-null  uint8  \n",
      " 39  zipcode_98032  13700 non-null  uint8  \n",
      " 40  zipcode_98033  13700 non-null  uint8  \n",
      " 41  zipcode_98034  13700 non-null  uint8  \n",
      " 42  zipcode_98038  13700 non-null  uint8  \n",
      " 43  zipcode_98039  13700 non-null  uint8  \n",
      " 44  zipcode_98040  13700 non-null  uint8  \n",
      " 45  zipcode_98042  13700 non-null  uint8  \n",
      " 46  zipcode_98045  13700 non-null  uint8  \n",
      " 47  zipcode_98052  13700 non-null  uint8  \n",
      " 48  zipcode_98053  13700 non-null  uint8  \n",
      " 49  zipcode_98055  13700 non-null  uint8  \n",
      " 50  zipcode_98056  13700 non-null  uint8  \n",
      " 51  zipcode_98058  13700 non-null  uint8  \n",
      " 52  zipcode_98059  13700 non-null  uint8  \n",
      " 53  zipcode_98065  13700 non-null  uint8  \n",
      " 54  zipcode_98070  13700 non-null  uint8  \n",
      " 55  zipcode_98072  13700 non-null  uint8  \n",
      " 56  zipcode_98074  13700 non-null  uint8  \n",
      " 57  zipcode_98075  13700 non-null  uint8  \n",
      " 58  zipcode_98077  13700 non-null  uint8  \n",
      " 59  zipcode_98092  13700 non-null  uint8  \n",
      " 60  zipcode_98102  13700 non-null  uint8  \n",
      " 61  zipcode_98103  13700 non-null  uint8  \n",
      " 62  zipcode_98105  13700 non-null  uint8  \n",
      " 63  zipcode_98106  13700 non-null  uint8  \n",
      " 64  zipcode_98107  13700 non-null  uint8  \n",
      " 65  zipcode_98108  13700 non-null  uint8  \n",
      " 66  zipcode_98109  13700 non-null  uint8  \n",
      " 67  zipcode_98112  13700 non-null  uint8  \n",
      " 68  zipcode_98115  13700 non-null  uint8  \n",
      " 69  zipcode_98116  13700 non-null  uint8  \n",
      " 70  zipcode_98117  13700 non-null  uint8  \n",
      " 71  zipcode_98118  13700 non-null  uint8  \n",
      " 72  zipcode_98119  13700 non-null  uint8  \n",
      " 73  zipcode_98122  13700 non-null  uint8  \n",
      " 74  zipcode_98125  13700 non-null  uint8  \n",
      " 75  zipcode_98126  13700 non-null  uint8  \n",
      " 76  zipcode_98133  13700 non-null  uint8  \n",
      " 77  zipcode_98136  13700 non-null  uint8  \n",
      " 78  zipcode_98144  13700 non-null  uint8  \n",
      " 79  zipcode_98146  13700 non-null  uint8  \n",
      " 80  zipcode_98148  13700 non-null  uint8  \n",
      " 81  zipcode_98155  13700 non-null  uint8  \n",
      " 82  zipcode_98166  13700 non-null  uint8  \n",
      " 83  zipcode_98168  13700 non-null  uint8  \n",
      " 84  zipcode_98177  13700 non-null  uint8  \n",
      " 85  zipcode_98178  13700 non-null  uint8  \n",
      " 86  zipcode_98188  13700 non-null  uint8  \n",
      " 87  zipcode_98198  13700 non-null  uint8  \n",
      " 88  zipcode_98199  13700 non-null  uint8  \n",
      "dtypes: float64(8), int64(11), uint8(70)\n",
      "memory usage: 3.0 MB\n"
     ]
    }
   ],
   "source": [
    "df_z_score_zip_dummies.info()"
   ]
  },
  {
   "cell_type": "code",
   "execution_count": 45,
   "metadata": {
    "ExecuteTime": {
     "end_time": "2021-01-07T19:40:15.927477Z",
     "start_time": "2021-01-07T19:40:15.922356Z"
    }
   },
   "outputs": [],
   "source": [
    "outcome = 'price'\n",
    "x_cols = df_z_score_zip_dummies.drop(['price' , 'id', 'zipcode', 'sqft_above', 'sqft_lot15', 'sqft_lot'], axis = 1).columns\n",
    "predictors = '+'.join(x_cols)\n",
    "\n",
    "f = outcome + '~' + predictors"
   ]
  },
  {
   "cell_type": "code",
   "execution_count": 46,
   "metadata": {
    "ExecuteTime": {
     "end_time": "2021-01-07T19:40:55.213363Z",
     "start_time": "2021-01-07T19:40:54.935145Z"
    },
    "scrolled": false
   },
   "outputs": [
    {
     "data": {
      "text/html": [
       "<table class=\"simpletable\">\n",
       "<caption>OLS Regression Results</caption>\n",
       "<tr>\n",
       "  <th>Dep. Variable:</th>          <td>price</td>      <th>  R-squared:         </th>  <td>   0.829</td>  \n",
       "</tr>\n",
       "<tr>\n",
       "  <th>Model:</th>                   <td>OLS</td>       <th>  Adj. R-squared:    </th>  <td>   0.828</td>  \n",
       "</tr>\n",
       "<tr>\n",
       "  <th>Method:</th>             <td>Least Squares</td>  <th>  F-statistic:       </th>  <td>   823.8</td>  \n",
       "</tr>\n",
       "<tr>\n",
       "  <th>Date:</th>             <td>Thu, 07 Jan 2021</td> <th>  Prob (F-statistic):</th>   <td>  0.00</td>   \n",
       "</tr>\n",
       "<tr>\n",
       "  <th>Time:</th>                 <td>14:40:55</td>     <th>  Log-Likelihood:    </th> <td>-1.7650e+05</td>\n",
       "</tr>\n",
       "<tr>\n",
       "  <th>No. Observations:</th>      <td> 13700</td>      <th>  AIC:               </th>  <td>3.532e+05</td> \n",
       "</tr>\n",
       "<tr>\n",
       "  <th>Df Residuals:</th>          <td> 13619</td>      <th>  BIC:               </th>  <td>3.538e+05</td> \n",
       "</tr>\n",
       "<tr>\n",
       "  <th>Df Model:</th>              <td>    80</td>      <th>                     </th>      <td> </td>     \n",
       "</tr>\n",
       "<tr>\n",
       "  <th>Covariance Type:</th>      <td>nonrobust</td>    <th>                     </th>      <td> </td>     \n",
       "</tr>\n",
       "</table>\n",
       "<table class=\"simpletable\">\n",
       "<tr>\n",
       "        <td></td>           <th>coef</th>     <th>std err</th>      <th>t</th>      <th>P>|t|</th>  <th>[0.025</th>    <th>0.975]</th>  \n",
       "</tr>\n",
       "<tr>\n",
       "  <th>Intercept</th>     <td> -1.19e+07</td> <td>  5.7e+06</td> <td>   -2.086</td> <td> 0.037</td> <td>-2.31e+07</td> <td>-7.19e+05</td>\n",
       "</tr>\n",
       "<tr>\n",
       "  <th>bedrooms</th>      <td>-6701.2504</td> <td> 1282.623</td> <td>   -5.225</td> <td> 0.000</td> <td>-9215.369</td> <td>-4187.132</td>\n",
       "</tr>\n",
       "<tr>\n",
       "  <th>bathrooms</th>     <td> 9453.3034</td> <td> 2078.948</td> <td>    4.547</td> <td> 0.000</td> <td> 5378.278</td> <td> 1.35e+04</td>\n",
       "</tr>\n",
       "<tr>\n",
       "  <th>sqft_living</th>   <td>  112.6118</td> <td>    2.354</td> <td>   47.836</td> <td> 0.000</td> <td>  107.997</td> <td>  117.226</td>\n",
       "</tr>\n",
       "<tr>\n",
       "  <th>floors</th>        <td> 2337.4581</td> <td> 2109.804</td> <td>    1.108</td> <td> 0.268</td> <td>-1798.050</td> <td> 6472.966</td>\n",
       "</tr>\n",
       "<tr>\n",
       "  <th>waterfront</th>    <td>   -0.0005</td> <td>    0.000</td> <td>   -2.086</td> <td> 0.037</td> <td>   -0.001</td> <td>-3.25e-05</td>\n",
       "</tr>\n",
       "<tr>\n",
       "  <th>view</th>          <td> 3.481e+04</td> <td> 2144.395</td> <td>   16.235</td> <td> 0.000</td> <td> 3.06e+04</td> <td>  3.9e+04</td>\n",
       "</tr>\n",
       "<tr>\n",
       "  <th>condition</th>     <td> 2.336e+04</td> <td> 1452.188</td> <td>   16.086</td> <td> 0.000</td> <td> 2.05e+04</td> <td> 2.62e+04</td>\n",
       "</tr>\n",
       "<tr>\n",
       "  <th>grade</th>         <td> 5.288e+04</td> <td> 1421.707</td> <td>   37.195</td> <td> 0.000</td> <td> 5.01e+04</td> <td> 5.57e+04</td>\n",
       "</tr>\n",
       "<tr>\n",
       "  <th>yr_built</th>      <td> -611.2530</td> <td>   49.739</td> <td>  -12.289</td> <td> 0.000</td> <td> -708.749</td> <td> -513.757</td>\n",
       "</tr>\n",
       "<tr>\n",
       "  <th>yr_renovated</th>  <td>    0.0005</td> <td>    0.000</td> <td>    2.086</td> <td> 0.037</td> <td> 3.18e-05</td> <td>    0.001</td>\n",
       "</tr>\n",
       "<tr>\n",
       "  <th>lat</th>           <td> 1.443e+05</td> <td> 4.91e+04</td> <td>    2.936</td> <td> 0.003</td> <td> 4.79e+04</td> <td> 2.41e+05</td>\n",
       "</tr>\n",
       "<tr>\n",
       "  <th>long</th>          <td>-5.018e+04</td> <td> 4.61e+04</td> <td>   -1.089</td> <td> 0.276</td> <td> -1.4e+05</td> <td> 4.01e+04</td>\n",
       "</tr>\n",
       "<tr>\n",
       "  <th>sqft_living15</th> <td>   35.2918</td> <td>    2.425</td> <td>   14.551</td> <td> 0.000</td> <td>   30.538</td> <td>   40.046</td>\n",
       "</tr>\n",
       "<tr>\n",
       "  <th>zipcode_98001</th> <td>-3.192e+05</td> <td>  8.2e+04</td> <td>   -3.894</td> <td> 0.000</td> <td> -4.8e+05</td> <td>-1.59e+05</td>\n",
       "</tr>\n",
       "<tr>\n",
       "  <th>zipcode_98002</th> <td>-2.981e+05</td> <td> 7.96e+04</td> <td>   -3.747</td> <td> 0.000</td> <td>-4.54e+05</td> <td>-1.42e+05</td>\n",
       "</tr>\n",
       "<tr>\n",
       "  <th>zipcode_98003</th> <td>-3.313e+05</td> <td> 8.37e+04</td> <td>   -3.957</td> <td> 0.000</td> <td>-4.95e+05</td> <td>-1.67e+05</td>\n",
       "</tr>\n",
       "<tr>\n",
       "  <th>zipcode_98004</th> <td>  2.26e+05</td> <td> 8.23e+04</td> <td>    2.747</td> <td> 0.006</td> <td> 6.48e+04</td> <td> 3.87e+05</td>\n",
       "</tr>\n",
       "<tr>\n",
       "  <th>zipcode_98005</th> <td>-3.976e+04</td> <td> 8.09e+04</td> <td>   -0.491</td> <td> 0.623</td> <td>-1.98e+05</td> <td> 1.19e+05</td>\n",
       "</tr>\n",
       "<tr>\n",
       "  <th>zipcode_98006</th> <td>-9.963e+04</td> <td> 7.92e+04</td> <td>   -1.258</td> <td> 0.208</td> <td>-2.55e+05</td> <td> 5.56e+04</td>\n",
       "</tr>\n",
       "<tr>\n",
       "  <th>zipcode_98007</th> <td>-1.055e+05</td> <td> 7.99e+04</td> <td>   -1.321</td> <td> 0.187</td> <td>-2.62e+05</td> <td> 5.11e+04</td>\n",
       "</tr>\n",
       "<tr>\n",
       "  <th>zipcode_98008</th> <td>-1.274e+05</td> <td> 7.86e+04</td> <td>   -1.620</td> <td> 0.105</td> <td>-2.82e+05</td> <td> 2.68e+04</td>\n",
       "</tr>\n",
       "<tr>\n",
       "  <th>zipcode_98010</th> <td>-2.209e+05</td> <td> 7.16e+04</td> <td>   -3.083</td> <td> 0.002</td> <td>-3.61e+05</td> <td>-8.05e+04</td>\n",
       "</tr>\n",
       "<tr>\n",
       "  <th>zipcode_98011</th> <td>-2.451e+05</td> <td> 8.46e+04</td> <td>   -2.896</td> <td> 0.004</td> <td>-4.11e+05</td> <td>-7.92e+04</td>\n",
       "</tr>\n",
       "<tr>\n",
       "  <th>zipcode_98014</th> <td>-2.177e+05</td> <td> 7.23e+04</td> <td>   -3.012</td> <td> 0.003</td> <td>-3.59e+05</td> <td> -7.6e+04</td>\n",
       "</tr>\n",
       "<tr>\n",
       "  <th>zipcode_98019</th> <td>-2.785e+05</td> <td> 7.51e+04</td> <td>   -3.706</td> <td> 0.000</td> <td>-4.26e+05</td> <td>-1.31e+05</td>\n",
       "</tr>\n",
       "<tr>\n",
       "  <th>zipcode_98022</th> <td>-2.872e+05</td> <td> 6.96e+04</td> <td>   -4.129</td> <td> 0.000</td> <td>-4.24e+05</td> <td>-1.51e+05</td>\n",
       "</tr>\n",
       "<tr>\n",
       "  <th>zipcode_98023</th> <td>-3.516e+05</td> <td> 8.61e+04</td> <td>   -4.086</td> <td> 0.000</td> <td> -5.2e+05</td> <td>-1.83e+05</td>\n",
       "</tr>\n",
       "<tr>\n",
       "  <th>zipcode_98024</th> <td>-1.835e+05</td> <td> 7.07e+04</td> <td>   -2.594</td> <td> 0.009</td> <td>-3.22e+05</td> <td>-4.48e+04</td>\n",
       "</tr>\n",
       "<tr>\n",
       "  <th>zipcode_98027</th> <td>-1.575e+05</td> <td> 7.43e+04</td> <td>   -2.120</td> <td> 0.034</td> <td>-3.03e+05</td> <td>-1.19e+04</td>\n",
       "</tr>\n",
       "<tr>\n",
       "  <th>zipcode_98028</th> <td>-2.545e+05</td> <td> 8.62e+04</td> <td>   -2.953</td> <td> 0.003</td> <td>-4.24e+05</td> <td>-8.56e+04</td>\n",
       "</tr>\n",
       "<tr>\n",
       "  <th>zipcode_98029</th> <td>-1.278e+05</td> <td> 7.32e+04</td> <td>   -1.746</td> <td> 0.081</td> <td>-2.71e+05</td> <td> 1.57e+04</td>\n",
       "</tr>\n",
       "<tr>\n",
       "  <th>zipcode_98030</th> <td>-3.237e+05</td> <td> 7.89e+04</td> <td>   -4.103</td> <td> 0.000</td> <td>-4.78e+05</td> <td>-1.69e+05</td>\n",
       "</tr>\n",
       "<tr>\n",
       "  <th>zipcode_98031</th> <td>-3.205e+05</td> <td> 7.91e+04</td> <td>   -4.051</td> <td> 0.000</td> <td>-4.76e+05</td> <td>-1.65e+05</td>\n",
       "</tr>\n",
       "<tr>\n",
       "  <th>zipcode_98032</th> <td>-3.336e+05</td> <td>  8.3e+04</td> <td>   -4.017</td> <td> 0.000</td> <td>-4.96e+05</td> <td>-1.71e+05</td>\n",
       "</tr>\n",
       "<tr>\n",
       "  <th>zipcode_98033</th> <td>-3.097e+04</td> <td> 8.25e+04</td> <td>   -0.375</td> <td> 0.707</td> <td>-1.93e+05</td> <td> 1.31e+05</td>\n",
       "</tr>\n",
       "<tr>\n",
       "  <th>zipcode_98034</th> <td>-1.898e+05</td> <td> 8.39e+04</td> <td>   -2.262</td> <td> 0.024</td> <td>-3.54e+05</td> <td>-2.53e+04</td>\n",
       "</tr>\n",
       "<tr>\n",
       "  <th>zipcode_98038</th> <td>-2.809e+05</td> <td> 7.19e+04</td> <td>   -3.907</td> <td> 0.000</td> <td>-4.22e+05</td> <td> -1.4e+05</td>\n",
       "</tr>\n",
       "<tr>\n",
       "  <th>zipcode_98039</th> <td> 4.226e+05</td> <td> 8.91e+04</td> <td>    4.742</td> <td> 0.000</td> <td> 2.48e+05</td> <td> 5.97e+05</td>\n",
       "</tr>\n",
       "<tr>\n",
       "  <th>zipcode_98040</th> <td>  1.01e+05</td> <td> 8.25e+04</td> <td>    1.225</td> <td> 0.221</td> <td>-6.06e+04</td> <td> 2.63e+05</td>\n",
       "</tr>\n",
       "<tr>\n",
       "  <th>zipcode_98042</th> <td>-3.161e+05</td> <td> 7.55e+04</td> <td>   -4.186</td> <td> 0.000</td> <td>-4.64e+05</td> <td>-1.68e+05</td>\n",
       "</tr>\n",
       "<tr>\n",
       "  <th>zipcode_98045</th> <td>-2.392e+05</td> <td> 7.07e+04</td> <td>   -3.382</td> <td> 0.001</td> <td>-3.78e+05</td> <td>-1.01e+05</td>\n",
       "</tr>\n",
       "<tr>\n",
       "  <th>zipcode_98052</th> <td>-1.165e+05</td> <td> 7.97e+04</td> <td>   -1.461</td> <td> 0.144</td> <td>-2.73e+05</td> <td> 3.98e+04</td>\n",
       "</tr>\n",
       "<tr>\n",
       "  <th>zipcode_98053</th> <td>-1.203e+05</td> <td> 7.61e+04</td> <td>   -1.580</td> <td> 0.114</td> <td>-2.69e+05</td> <td> 2.89e+04</td>\n",
       "</tr>\n",
       "<tr>\n",
       "  <th>zipcode_98055</th> <td>-3.013e+05</td> <td> 8.02e+04</td> <td>   -3.757</td> <td> 0.000</td> <td>-4.58e+05</td> <td>-1.44e+05</td>\n",
       "</tr>\n",
       "<tr>\n",
       "  <th>zipcode_98056</th> <td>-2.464e+05</td> <td> 7.99e+04</td> <td>   -3.085</td> <td> 0.002</td> <td>-4.03e+05</td> <td>-8.99e+04</td>\n",
       "</tr>\n",
       "<tr>\n",
       "  <th>zipcode_98058</th> <td>-3.076e+05</td> <td> 7.77e+04</td> <td>   -3.958</td> <td> 0.000</td> <td> -4.6e+05</td> <td>-1.55e+05</td>\n",
       "</tr>\n",
       "<tr>\n",
       "  <th>zipcode_98059</th> <td>-2.356e+05</td> <td> 7.79e+04</td> <td>   -3.024</td> <td> 0.002</td> <td>-3.88e+05</td> <td>-8.29e+04</td>\n",
       "</tr>\n",
       "<tr>\n",
       "  <th>zipcode_98065</th> <td>-2.068e+05</td> <td> 6.72e+04</td> <td>   -3.075</td> <td> 0.002</td> <td>-3.39e+05</td> <td>-7.49e+04</td>\n",
       "</tr>\n",
       "<tr>\n",
       "  <th>zipcode_98070</th> <td>-2.141e+05</td> <td> 9.19e+04</td> <td>   -2.330</td> <td> 0.020</td> <td>-3.94e+05</td> <td>-3.39e+04</td>\n",
       "</tr>\n",
       "<tr>\n",
       "  <th>zipcode_98072</th> <td>-2.034e+05</td> <td> 8.17e+04</td> <td>   -2.489</td> <td> 0.013</td> <td>-3.64e+05</td> <td>-4.32e+04</td>\n",
       "</tr>\n",
       "<tr>\n",
       "  <th>zipcode_98074</th> <td>-1.502e+05</td> <td> 7.58e+04</td> <td>   -1.981</td> <td> 0.048</td> <td>-2.99e+05</td> <td>-1573.572</td>\n",
       "</tr>\n",
       "<tr>\n",
       "  <th>zipcode_98075</th> <td>-1.292e+05</td> <td> 7.43e+04</td> <td>   -1.737</td> <td> 0.082</td> <td>-2.75e+05</td> <td> 1.66e+04</td>\n",
       "</tr>\n",
       "<tr>\n",
       "  <th>zipcode_98077</th> <td>-2.053e+05</td> <td> 7.91e+04</td> <td>   -2.594</td> <td> 0.010</td> <td> -3.6e+05</td> <td>-5.02e+04</td>\n",
       "</tr>\n",
       "<tr>\n",
       "  <th>zipcode_98092</th> <td> -3.39e+05</td> <td> 7.79e+04</td> <td>   -4.355</td> <td> 0.000</td> <td>-4.92e+05</td> <td>-1.86e+05</td>\n",
       "</tr>\n",
       "<tr>\n",
       "  <th>zipcode_98102</th> <td> 3.851e+04</td> <td>  8.8e+04</td> <td>    0.438</td> <td> 0.662</td> <td>-1.34e+05</td> <td> 2.11e+05</td>\n",
       "</tr>\n",
       "<tr>\n",
       "  <th>zipcode_98103</th> <td> -7.62e+04</td> <td> 8.87e+04</td> <td>   -0.859</td> <td> 0.391</td> <td> -2.5e+05</td> <td> 9.77e+04</td>\n",
       "</tr>\n",
       "<tr>\n",
       "  <th>zipcode_98105</th> <td>  3.56e+04</td> <td> 8.68e+04</td> <td>    0.410</td> <td> 0.682</td> <td>-1.35e+05</td> <td> 2.06e+05</td>\n",
       "</tr>\n",
       "<tr>\n",
       "  <th>zipcode_98106</th> <td>-2.374e+05</td> <td> 8.76e+04</td> <td>   -2.709</td> <td> 0.007</td> <td>-4.09e+05</td> <td>-6.56e+04</td>\n",
       "</tr>\n",
       "<tr>\n",
       "  <th>zipcode_98107</th> <td>-7.708e+04</td> <td> 9.01e+04</td> <td>   -0.856</td> <td> 0.392</td> <td>-2.54e+05</td> <td> 9.95e+04</td>\n",
       "</tr>\n",
       "<tr>\n",
       "  <th>zipcode_98108</th> <td> -2.51e+05</td> <td> 8.58e+04</td> <td>   -2.927</td> <td> 0.003</td> <td>-4.19e+05</td> <td>-8.29e+04</td>\n",
       "</tr>\n",
       "<tr>\n",
       "  <th>zipcode_98109</th> <td>  4.98e+04</td> <td>  8.9e+04</td> <td>    0.560</td> <td> 0.576</td> <td>-1.25e+05</td> <td> 2.24e+05</td>\n",
       "</tr>\n",
       "<tr>\n",
       "  <th>zipcode_98112</th> <td> 1.288e+05</td> <td> 8.64e+04</td> <td>    1.490</td> <td> 0.136</td> <td>-4.06e+04</td> <td> 2.98e+05</td>\n",
       "</tr>\n",
       "<tr>\n",
       "  <th>zipcode_98115</th> <td>-5.941e+04</td> <td> 8.72e+04</td> <td>   -0.681</td> <td> 0.496</td> <td> -2.3e+05</td> <td> 1.11e+05</td>\n",
       "</tr>\n",
       "<tr>\n",
       "  <th>zipcode_98116</th> <td>-9.177e+04</td> <td> 8.96e+04</td> <td>   -1.025</td> <td> 0.305</td> <td>-2.67e+05</td> <td> 8.38e+04</td>\n",
       "</tr>\n",
       "<tr>\n",
       "  <th>zipcode_98117</th> <td>-8.111e+04</td> <td> 9.03e+04</td> <td>   -0.898</td> <td> 0.369</td> <td>-2.58e+05</td> <td> 9.59e+04</td>\n",
       "</tr>\n",
       "<tr>\n",
       "  <th>zipcode_98118</th> <td>-1.965e+05</td> <td> 8.42e+04</td> <td>   -2.335</td> <td> 0.020</td> <td>-3.62e+05</td> <td>-3.16e+04</td>\n",
       "</tr>\n",
       "<tr>\n",
       "  <th>zipcode_98119</th> <td>  4.68e+04</td> <td> 8.95e+04</td> <td>    0.523</td> <td> 0.601</td> <td>-1.29e+05</td> <td> 2.22e+05</td>\n",
       "</tr>\n",
       "<tr>\n",
       "  <th>zipcode_98122</th> <td>-6.678e+04</td> <td> 8.62e+04</td> <td>   -0.775</td> <td> 0.438</td> <td>-2.36e+05</td> <td> 1.02e+05</td>\n",
       "</tr>\n",
       "<tr>\n",
       "  <th>zipcode_98125</th> <td>-1.917e+05</td> <td> 8.78e+04</td> <td>   -2.184</td> <td> 0.029</td> <td>-3.64e+05</td> <td>-1.96e+04</td>\n",
       "</tr>\n",
       "<tr>\n",
       "  <th>zipcode_98126</th> <td>-1.739e+05</td> <td> 8.84e+04</td> <td>   -1.966</td> <td> 0.049</td> <td>-3.47e+05</td> <td> -516.024</td>\n",
       "</tr>\n",
       "<tr>\n",
       "  <th>zipcode_98133</th> <td>-2.431e+05</td> <td> 8.97e+04</td> <td>   -2.709</td> <td> 0.007</td> <td>-4.19e+05</td> <td>-6.72e+04</td>\n",
       "</tr>\n",
       "<tr>\n",
       "  <th>zipcode_98136</th> <td>-1.224e+05</td> <td>  8.9e+04</td> <td>   -1.375</td> <td> 0.169</td> <td>-2.97e+05</td> <td> 5.21e+04</td>\n",
       "</tr>\n",
       "<tr>\n",
       "  <th>zipcode_98144</th> <td>-1.453e+05</td> <td> 8.58e+04</td> <td>   -1.695</td> <td> 0.090</td> <td>-3.13e+05</td> <td> 2.28e+04</td>\n",
       "</tr>\n",
       "<tr>\n",
       "  <th>zipcode_98146</th> <td> -2.52e+05</td> <td> 8.73e+04</td> <td>   -2.887</td> <td> 0.004</td> <td>-4.23e+05</td> <td>-8.09e+04</td>\n",
       "</tr>\n",
       "<tr>\n",
       "  <th>zipcode_98148</th> <td> -2.88e+05</td> <td> 8.65e+04</td> <td>   -3.329</td> <td> 0.001</td> <td>-4.58e+05</td> <td>-1.18e+05</td>\n",
       "</tr>\n",
       "<tr>\n",
       "  <th>zipcode_98155</th> <td>-2.507e+05</td> <td> 8.86e+04</td> <td>   -2.831</td> <td> 0.005</td> <td>-4.24e+05</td> <td>-7.71e+04</td>\n",
       "</tr>\n",
       "<tr>\n",
       "  <th>zipcode_98166</th> <td>-2.553e+05</td> <td> 8.66e+04</td> <td>   -2.949</td> <td> 0.003</td> <td>-4.25e+05</td> <td>-8.56e+04</td>\n",
       "</tr>\n",
       "<tr>\n",
       "  <th>zipcode_98168</th> <td>-2.955e+05</td> <td> 8.51e+04</td> <td>   -3.473</td> <td> 0.001</td> <td>-4.62e+05</td> <td>-1.29e+05</td>\n",
       "</tr>\n",
       "<tr>\n",
       "  <th>zipcode_98177</th> <td>-1.858e+05</td> <td>  9.1e+04</td> <td>   -2.041</td> <td> 0.041</td> <td>-3.64e+05</td> <td>-7381.392</td>\n",
       "</tr>\n",
       "<tr>\n",
       "  <th>zipcode_98178</th> <td>-2.981e+05</td> <td> 8.26e+04</td> <td>   -3.607</td> <td> 0.000</td> <td> -4.6e+05</td> <td>-1.36e+05</td>\n",
       "</tr>\n",
       "<tr>\n",
       "  <th>zipcode_98188</th> <td>-3.107e+05</td> <td> 8.38e+04</td> <td>   -3.708</td> <td> 0.000</td> <td>-4.75e+05</td> <td>-1.46e+05</td>\n",
       "</tr>\n",
       "<tr>\n",
       "  <th>zipcode_98198</th> <td>-3.094e+05</td> <td> 8.45e+04</td> <td>   -3.661</td> <td> 0.000</td> <td>-4.75e+05</td> <td>-1.44e+05</td>\n",
       "</tr>\n",
       "<tr>\n",
       "  <th>zipcode_98199</th> <td> -3.04e+04</td> <td> 9.08e+04</td> <td>   -0.335</td> <td> 0.738</td> <td>-2.08e+05</td> <td> 1.47e+05</td>\n",
       "</tr>\n",
       "</table>\n",
       "<table class=\"simpletable\">\n",
       "<tr>\n",
       "  <th>Omnibus:</th>       <td>3132.718</td> <th>  Durbin-Watson:     </th> <td>   1.989</td> \n",
       "</tr>\n",
       "<tr>\n",
       "  <th>Prob(Omnibus):</th>  <td> 0.000</td>  <th>  Jarque-Bera (JB):  </th> <td>17614.911</td>\n",
       "</tr>\n",
       "<tr>\n",
       "  <th>Skew:</th>           <td> 0.983</td>  <th>  Prob(JB):          </th> <td>    0.00</td> \n",
       "</tr>\n",
       "<tr>\n",
       "  <th>Kurtosis:</th>       <td> 8.196</td>  <th>  Cond. No.          </th> <td>3.53e+19</td> \n",
       "</tr>\n",
       "</table><br/><br/>Notes:<br/>[1] Standard Errors assume that the covariance matrix of the errors is correctly specified.<br/>[2] The smallest eigenvalue is 1.31e-28. This might indicate that there are<br/>strong multicollinearity problems or that the design matrix is singular."
      ],
      "text/plain": [
       "<class 'statsmodels.iolib.summary.Summary'>\n",
       "\"\"\"\n",
       "                            OLS Regression Results                            \n",
       "==============================================================================\n",
       "Dep. Variable:                  price   R-squared:                       0.829\n",
       "Model:                            OLS   Adj. R-squared:                  0.828\n",
       "Method:                 Least Squares   F-statistic:                     823.8\n",
       "Date:                Thu, 07 Jan 2021   Prob (F-statistic):               0.00\n",
       "Time:                        14:40:55   Log-Likelihood:            -1.7650e+05\n",
       "No. Observations:               13700   AIC:                         3.532e+05\n",
       "Df Residuals:                   13619   BIC:                         3.538e+05\n",
       "Df Model:                          80                                         \n",
       "Covariance Type:            nonrobust                                         \n",
       "=================================================================================\n",
       "                    coef    std err          t      P>|t|      [0.025      0.975]\n",
       "---------------------------------------------------------------------------------\n",
       "Intercept      -1.19e+07    5.7e+06     -2.086      0.037   -2.31e+07   -7.19e+05\n",
       "bedrooms      -6701.2504   1282.623     -5.225      0.000   -9215.369   -4187.132\n",
       "bathrooms      9453.3034   2078.948      4.547      0.000    5378.278    1.35e+04\n",
       "sqft_living     112.6118      2.354     47.836      0.000     107.997     117.226\n",
       "floors         2337.4581   2109.804      1.108      0.268   -1798.050    6472.966\n",
       "waterfront       -0.0005      0.000     -2.086      0.037      -0.001   -3.25e-05\n",
       "view           3.481e+04   2144.395     16.235      0.000    3.06e+04     3.9e+04\n",
       "condition      2.336e+04   1452.188     16.086      0.000    2.05e+04    2.62e+04\n",
       "grade          5.288e+04   1421.707     37.195      0.000    5.01e+04    5.57e+04\n",
       "yr_built       -611.2530     49.739    -12.289      0.000    -708.749    -513.757\n",
       "yr_renovated      0.0005      0.000      2.086      0.037    3.18e-05       0.001\n",
       "lat            1.443e+05   4.91e+04      2.936      0.003    4.79e+04    2.41e+05\n",
       "long          -5.018e+04   4.61e+04     -1.089      0.276    -1.4e+05    4.01e+04\n",
       "sqft_living15    35.2918      2.425     14.551      0.000      30.538      40.046\n",
       "zipcode_98001 -3.192e+05    8.2e+04     -3.894      0.000    -4.8e+05   -1.59e+05\n",
       "zipcode_98002 -2.981e+05   7.96e+04     -3.747      0.000   -4.54e+05   -1.42e+05\n",
       "zipcode_98003 -3.313e+05   8.37e+04     -3.957      0.000   -4.95e+05   -1.67e+05\n",
       "zipcode_98004   2.26e+05   8.23e+04      2.747      0.006    6.48e+04    3.87e+05\n",
       "zipcode_98005 -3.976e+04   8.09e+04     -0.491      0.623   -1.98e+05    1.19e+05\n",
       "zipcode_98006 -9.963e+04   7.92e+04     -1.258      0.208   -2.55e+05    5.56e+04\n",
       "zipcode_98007 -1.055e+05   7.99e+04     -1.321      0.187   -2.62e+05    5.11e+04\n",
       "zipcode_98008 -1.274e+05   7.86e+04     -1.620      0.105   -2.82e+05    2.68e+04\n",
       "zipcode_98010 -2.209e+05   7.16e+04     -3.083      0.002   -3.61e+05   -8.05e+04\n",
       "zipcode_98011 -2.451e+05   8.46e+04     -2.896      0.004   -4.11e+05   -7.92e+04\n",
       "zipcode_98014 -2.177e+05   7.23e+04     -3.012      0.003   -3.59e+05    -7.6e+04\n",
       "zipcode_98019 -2.785e+05   7.51e+04     -3.706      0.000   -4.26e+05   -1.31e+05\n",
       "zipcode_98022 -2.872e+05   6.96e+04     -4.129      0.000   -4.24e+05   -1.51e+05\n",
       "zipcode_98023 -3.516e+05   8.61e+04     -4.086      0.000    -5.2e+05   -1.83e+05\n",
       "zipcode_98024 -1.835e+05   7.07e+04     -2.594      0.009   -3.22e+05   -4.48e+04\n",
       "zipcode_98027 -1.575e+05   7.43e+04     -2.120      0.034   -3.03e+05   -1.19e+04\n",
       "zipcode_98028 -2.545e+05   8.62e+04     -2.953      0.003   -4.24e+05   -8.56e+04\n",
       "zipcode_98029 -1.278e+05   7.32e+04     -1.746      0.081   -2.71e+05    1.57e+04\n",
       "zipcode_98030 -3.237e+05   7.89e+04     -4.103      0.000   -4.78e+05   -1.69e+05\n",
       "zipcode_98031 -3.205e+05   7.91e+04     -4.051      0.000   -4.76e+05   -1.65e+05\n",
       "zipcode_98032 -3.336e+05    8.3e+04     -4.017      0.000   -4.96e+05   -1.71e+05\n",
       "zipcode_98033 -3.097e+04   8.25e+04     -0.375      0.707   -1.93e+05    1.31e+05\n",
       "zipcode_98034 -1.898e+05   8.39e+04     -2.262      0.024   -3.54e+05   -2.53e+04\n",
       "zipcode_98038 -2.809e+05   7.19e+04     -3.907      0.000   -4.22e+05    -1.4e+05\n",
       "zipcode_98039  4.226e+05   8.91e+04      4.742      0.000    2.48e+05    5.97e+05\n",
       "zipcode_98040   1.01e+05   8.25e+04      1.225      0.221   -6.06e+04    2.63e+05\n",
       "zipcode_98042 -3.161e+05   7.55e+04     -4.186      0.000   -4.64e+05   -1.68e+05\n",
       "zipcode_98045 -2.392e+05   7.07e+04     -3.382      0.001   -3.78e+05   -1.01e+05\n",
       "zipcode_98052 -1.165e+05   7.97e+04     -1.461      0.144   -2.73e+05    3.98e+04\n",
       "zipcode_98053 -1.203e+05   7.61e+04     -1.580      0.114   -2.69e+05    2.89e+04\n",
       "zipcode_98055 -3.013e+05   8.02e+04     -3.757      0.000   -4.58e+05   -1.44e+05\n",
       "zipcode_98056 -2.464e+05   7.99e+04     -3.085      0.002   -4.03e+05   -8.99e+04\n",
       "zipcode_98058 -3.076e+05   7.77e+04     -3.958      0.000    -4.6e+05   -1.55e+05\n",
       "zipcode_98059 -2.356e+05   7.79e+04     -3.024      0.002   -3.88e+05   -8.29e+04\n",
       "zipcode_98065 -2.068e+05   6.72e+04     -3.075      0.002   -3.39e+05   -7.49e+04\n",
       "zipcode_98070 -2.141e+05   9.19e+04     -2.330      0.020   -3.94e+05   -3.39e+04\n",
       "zipcode_98072 -2.034e+05   8.17e+04     -2.489      0.013   -3.64e+05   -4.32e+04\n",
       "zipcode_98074 -1.502e+05   7.58e+04     -1.981      0.048   -2.99e+05   -1573.572\n",
       "zipcode_98075 -1.292e+05   7.43e+04     -1.737      0.082   -2.75e+05    1.66e+04\n",
       "zipcode_98077 -2.053e+05   7.91e+04     -2.594      0.010    -3.6e+05   -5.02e+04\n",
       "zipcode_98092  -3.39e+05   7.79e+04     -4.355      0.000   -4.92e+05   -1.86e+05\n",
       "zipcode_98102  3.851e+04    8.8e+04      0.438      0.662   -1.34e+05    2.11e+05\n",
       "zipcode_98103  -7.62e+04   8.87e+04     -0.859      0.391    -2.5e+05    9.77e+04\n",
       "zipcode_98105   3.56e+04   8.68e+04      0.410      0.682   -1.35e+05    2.06e+05\n",
       "zipcode_98106 -2.374e+05   8.76e+04     -2.709      0.007   -4.09e+05   -6.56e+04\n",
       "zipcode_98107 -7.708e+04   9.01e+04     -0.856      0.392   -2.54e+05    9.95e+04\n",
       "zipcode_98108  -2.51e+05   8.58e+04     -2.927      0.003   -4.19e+05   -8.29e+04\n",
       "zipcode_98109   4.98e+04    8.9e+04      0.560      0.576   -1.25e+05    2.24e+05\n",
       "zipcode_98112  1.288e+05   8.64e+04      1.490      0.136   -4.06e+04    2.98e+05\n",
       "zipcode_98115 -5.941e+04   8.72e+04     -0.681      0.496    -2.3e+05    1.11e+05\n",
       "zipcode_98116 -9.177e+04   8.96e+04     -1.025      0.305   -2.67e+05    8.38e+04\n",
       "zipcode_98117 -8.111e+04   9.03e+04     -0.898      0.369   -2.58e+05    9.59e+04\n",
       "zipcode_98118 -1.965e+05   8.42e+04     -2.335      0.020   -3.62e+05   -3.16e+04\n",
       "zipcode_98119   4.68e+04   8.95e+04      0.523      0.601   -1.29e+05    2.22e+05\n",
       "zipcode_98122 -6.678e+04   8.62e+04     -0.775      0.438   -2.36e+05    1.02e+05\n",
       "zipcode_98125 -1.917e+05   8.78e+04     -2.184      0.029   -3.64e+05   -1.96e+04\n",
       "zipcode_98126 -1.739e+05   8.84e+04     -1.966      0.049   -3.47e+05    -516.024\n",
       "zipcode_98133 -2.431e+05   8.97e+04     -2.709      0.007   -4.19e+05   -6.72e+04\n",
       "zipcode_98136 -1.224e+05    8.9e+04     -1.375      0.169   -2.97e+05    5.21e+04\n",
       "zipcode_98144 -1.453e+05   8.58e+04     -1.695      0.090   -3.13e+05    2.28e+04\n",
       "zipcode_98146  -2.52e+05   8.73e+04     -2.887      0.004   -4.23e+05   -8.09e+04\n",
       "zipcode_98148  -2.88e+05   8.65e+04     -3.329      0.001   -4.58e+05   -1.18e+05\n",
       "zipcode_98155 -2.507e+05   8.86e+04     -2.831      0.005   -4.24e+05   -7.71e+04\n",
       "zipcode_98166 -2.553e+05   8.66e+04     -2.949      0.003   -4.25e+05   -8.56e+04\n",
       "zipcode_98168 -2.955e+05   8.51e+04     -3.473      0.001   -4.62e+05   -1.29e+05\n",
       "zipcode_98177 -1.858e+05    9.1e+04     -2.041      0.041   -3.64e+05   -7381.392\n",
       "zipcode_98178 -2.981e+05   8.26e+04     -3.607      0.000    -4.6e+05   -1.36e+05\n",
       "zipcode_98188 -3.107e+05   8.38e+04     -3.708      0.000   -4.75e+05   -1.46e+05\n",
       "zipcode_98198 -3.094e+05   8.45e+04     -3.661      0.000   -4.75e+05   -1.44e+05\n",
       "zipcode_98199  -3.04e+04   9.08e+04     -0.335      0.738   -2.08e+05    1.47e+05\n",
       "==============================================================================\n",
       "Omnibus:                     3132.718   Durbin-Watson:                   1.989\n",
       "Prob(Omnibus):                  0.000   Jarque-Bera (JB):            17614.911\n",
       "Skew:                           0.983   Prob(JB):                         0.00\n",
       "Kurtosis:                       8.196   Cond. No.                     3.53e+19\n",
       "==============================================================================\n",
       "\n",
       "Notes:\n",
       "[1] Standard Errors assume that the covariance matrix of the errors is correctly specified.\n",
       "[2] The smallest eigenvalue is 1.31e-28. This might indicate that there are\n",
       "strong multicollinearity problems or that the design matrix is singular.\n",
       "\"\"\""
      ]
     },
     "execution_count": 46,
     "metadata": {},
     "output_type": "execute_result"
    }
   ],
   "source": [
    "model_4 = ols(formula= f, data = df_z_score_zip_dummies).fit()\n",
    "model_4.summary()"
   ]
  },
  {
   "cell_type": "code",
   "execution_count": 47,
   "metadata": {
    "ExecuteTime": {
     "end_time": "2021-01-07T19:41:20.547676Z",
     "start_time": "2021-01-07T19:41:20.186115Z"
    }
   },
   "outputs": [
    {
     "name": "stdout",
     "output_type": "stream",
     "text": [
      "Train MSE: 9036968690.778343\n",
      "Test MSE: 9055062470.232922\n",
      "RMSE Train: 95062.97223829235\n",
      "RMSE Test: 95158.09198503783\n"
     ]
    },
    {
     "data": {
      "image/png": "[encoded data removed]",
      "text/plain": [
       "<Figure size 432x288 with 1 Axes>"
      ]
     },
     "execution_count": 47,
     "metadata": {},
     "output_type": "execute_result"
    },
    {
     "data": {
      "image/png": "[encoded data removed]",
      "text/plain": [
       "<Figure size 432x288 with 1 Axes>"
      ]
     },
     "metadata": {
      "needs_background": "light"
     },
     "output_type": "display_data"
    }
   ],
   "source": [
    "data = df_z_score_zip_dummies.copy()\n",
    "\n",
    "y = data['price']\n",
    "X = data.drop(['price', 'id', 'zipcode', 'sqft_above'], axis = 1)\n",
    "\n",
    "X_train, X_test, y_train, y_test = train_test_split(X, y, test_size = 0.2)\n",
    "\n",
    "len(X_test)\n",
    "\n",
    "linreg = LinearRegression()\n",
    "linreg.fit(X_train, y_train)\n",
    "\n",
    "y_hat_train = linreg.predict(X_train)\n",
    "y_hat_test = linreg.predict(X_test)\n",
    "\n",
    "\n",
    "mse_train = mean_squared_error(y_train, y_hat_train)\n",
    "mse_test = mean_squared_error(y_test, y_hat_test)\n",
    "\n",
    "print('Train MSE:', mse_train)\n",
    "print('Test MSE:', mse_test)\n",
    "\n",
    "print('RMSE Train:', np.sqrt(mse_train))\n",
    "print('RMSE Test:', np.sqrt(mse_test))\n",
    "\n",
    "r2_score(y_test, y_hat_test)\n",
    "\n",
    "residuals = (y_test - y_hat_test)\n",
    "\n",
    "statsmodels.graphics.gofplots.qqplot(residuals, line = \"r\")"
   ]
  },
  {
   "cell_type": "code",
   "execution_count": 49,
   "metadata": {
    "ExecuteTime": {
     "end_time": "2021-01-07T19:42:45.782377Z",
     "start_time": "2021-01-07T19:42:45.776512Z"
    }
   },
   "outputs": [
    {
     "data": {
      "text/plain": [
       "0.17686084283897036"
      ]
     },
     "execution_count": 49,
     "metadata": {},
     "output_type": "execute_result"
    }
   ],
   "source": [
    "np.sqrt(mse_test) / df.price.mean()"
   ]
  },
  {
   "cell_type": "markdown",
   "metadata": {},
   "source": [
    "## Model 5 - model 1 plus log transforms"
   ]
  },
  {
   "cell_type": "code",
   "execution_count": 51,
   "metadata": {
    "ExecuteTime": {
     "end_time": "2021-01-07T19:45:17.669492Z",
     "start_time": "2021-01-07T19:45:15.239282Z"
    },
    "scrolled": false
   },
   "outputs": [
    {
     "data": {
      "text/plain": [
       "array([[<AxesSubplot:title={'center':'id'}>,\n",
       "        <AxesSubplot:title={'center':'price'}>,\n",
       "        <AxesSubplot:title={'center':'bedrooms'}>,\n",
       "        <AxesSubplot:title={'center':'bathrooms'}>],\n",
       "       [<AxesSubplot:title={'center':'sqft_living'}>,\n",
       "        <AxesSubplot:title={'center':'sqft_lot'}>,\n",
       "        <AxesSubplot:title={'center':'floors'}>,\n",
       "        <AxesSubplot:title={'center':'waterfront'}>],\n",
       "       [<AxesSubplot:title={'center':'view'}>,\n",
       "        <AxesSubplot:title={'center':'condition'}>,\n",
       "        <AxesSubplot:title={'center':'grade'}>,\n",
       "        <AxesSubplot:title={'center':'sqft_above'}>],\n",
       "       [<AxesSubplot:title={'center':'yr_built'}>,\n",
       "        <AxesSubplot:title={'center':'yr_renovated'}>,\n",
       "        <AxesSubplot:title={'center':'zipcode'}>,\n",
       "        <AxesSubplot:title={'center':'lat'}>],\n",
       "       [<AxesSubplot:title={'center':'long'}>,\n",
       "        <AxesSubplot:title={'center':'sqft_living15'}>,\n",
       "        <AxesSubplot:title={'center':'sqft_lot15'}>, <AxesSubplot:>]],\n",
       "      dtype=object)"
      ]
     },
     "execution_count": 51,
     "metadata": {},
     "output_type": "execute_result"
    },
    {
     "data": {
      "image/png": "[encoded data removed]",
      "text/plain": [
       "<Figure size 1080x864 with 20 Axes>"
      ]
     },
     "metadata": {
      "needs_background": "light"
     },
     "output_type": "display_data"
    }
   ],
   "source": [
    "df.hist(figsize=(15,12))"
   ]
  },
  {
   "cell_type": "code",
   "execution_count": 55,
   "metadata": {
    "ExecuteTime": {
     "end_time": "2021-01-07T19:46:55.194211Z",
     "start_time": "2021-01-07T19:46:54.992228Z"
    }
   },
   "outputs": [
    {
     "data": {
      "text/plain": [
       "<AxesSubplot:>"
      ]
     },
     "execution_count": 55,
     "metadata": {},
     "output_type": "execute_result"
    },
    {
     "data": {
      "image/png": "[encoded data removed]",
      "text/plain": [
       "<Figure size 432x288 with 1 Axes>"
      ]
     },
     "metadata": {
      "needs_background": "light"
     },
     "output_type": "display_data"
    }
   ],
   "source": [
    "df.sqft_living.hist()"
   ]
  },
  {
   "cell_type": "code",
   "execution_count": 53,
   "metadata": {
    "ExecuteTime": {
     "end_time": "2021-01-07T19:46:35.303123Z",
     "start_time": "2021-01-07T19:46:35.298977Z"
    }
   },
   "outputs": [],
   "source": [
    "df['log_sqft_living'] = np.log(df['sqft_living'])"
   ]
  },
  {
   "cell_type": "code",
   "execution_count": 54,
   "metadata": {
    "ExecuteTime": {
     "end_time": "2021-01-07T19:46:42.718599Z",
     "start_time": "2021-01-07T19:46:42.535876Z"
    }
   },
   "outputs": [
    {
     "data": {
      "text/plain": [
       "<AxesSubplot:>"
      ]
     },
     "execution_count": 54,
     "metadata": {},
     "output_type": "execute_result"
    },
    {
     "data": {
      "image/png": "[encoded data removed]",
      "text/plain": [
       "<Figure size 432x288 with 1 Axes>"
      ]
     },
     "metadata": {
      "needs_background": "light"
     },
     "output_type": "display_data"
    }
   ],
   "source": [
    "df.log_sqft_living.hist()"
   ]
  },
  {
   "cell_type": "code",
   "execution_count": 69,
   "metadata": {
    "ExecuteTime": {
     "end_time": "2021-01-07T20:10:48.907339Z",
     "start_time": "2021-01-07T20:10:47.119134Z"
    }
   },
   "outputs": [
    {
     "data": {
      "text/plain": [
       "<AxesSubplot:xlabel='log_sqft_lot', ylabel='price'>"
      ]
     },
     "execution_count": 69,
     "metadata": {},
     "output_type": "execute_result"
    },
    {
     "data": {
      "image/png": "[encoded data removed]",
      "text/plain": [
       "<Figure size 432x288 with 1 Axes>"
      ]
     },
     "metadata": {
      "needs_background": "light"
     },
     "output_type": "display_data"
    }
   ],
   "source": [
    "sns.regplot(x = \"log_sqft_lot\", y= \"price\", data = df)"
   ]
  },
  {
   "cell_type": "code",
   "execution_count": 56,
   "metadata": {
    "ExecuteTime": {
     "end_time": "2021-01-07T19:47:29.190581Z",
     "start_time": "2021-01-07T19:47:29.185656Z"
    }
   },
   "outputs": [],
   "source": [
    "df['log_sqft_living15'] = np.log(df['sqft_living15'])"
   ]
  },
  {
   "cell_type": "code",
   "execution_count": 57,
   "metadata": {
    "ExecuteTime": {
     "end_time": "2021-01-07T19:48:52.711420Z",
     "start_time": "2021-01-07T19:48:52.705261Z"
    }
   },
   "outputs": [],
   "source": [
    "df['log_bathrooms'] = np.log(df['bathrooms'])\n",
    "df['log_sqft_lot'] = np.log(df['sqft_lot'])\n",
    "df['log_sqft_lot15'] = np.log(df['sqft_lot15'])"
   ]
  },
  {
   "cell_type": "code",
   "execution_count": 65,
   "metadata": {
    "ExecuteTime": {
     "end_time": "2021-01-07T19:55:05.693595Z",
     "start_time": "2021-01-07T19:55:05.665911Z"
    }
   },
   "outputs": [
    {
     "data": {
      "text/html": [
       "<div>\n",
       "<style scoped>\n",
       "    .dataframe tbody tr th:only-of-type {\n",
       "        vertical-align: middle;\n",
       "    }\n",
       "\n",
       "    .dataframe tbody tr th {\n",
       "        vertical-align: top;\n",
       "    }\n",
       "\n",
       "    .dataframe thead th {\n",
       "        text-align: right;\n",
       "    }\n",
       "</style>\n",
       "<table border=\"1\" class=\"dataframe\">\n",
       "  <thead>\n",
       "    <tr style=\"text-align: right;\">\n",
       "      <th></th>\n",
       "      <th>id</th>\n",
       "      <th>price</th>\n",
       "      <th>bedrooms</th>\n",
       "      <th>bathrooms</th>\n",
       "      <th>sqft_living</th>\n",
       "      <th>sqft_lot</th>\n",
       "      <th>floors</th>\n",
       "      <th>waterfront</th>\n",
       "      <th>view</th>\n",
       "      <th>condition</th>\n",
       "      <th>...</th>\n",
       "      <th>zipcode</th>\n",
       "      <th>lat</th>\n",
       "      <th>long</th>\n",
       "      <th>sqft_living15</th>\n",
       "      <th>sqft_lot15</th>\n",
       "      <th>log_sqft_living</th>\n",
       "      <th>log_sqft_living15</th>\n",
       "      <th>log_bathrooms</th>\n",
       "      <th>log_sqft_lot</th>\n",
       "      <th>log_sqft_lot15</th>\n",
       "    </tr>\n",
       "  </thead>\n",
       "  <tbody>\n",
       "    <tr>\n",
       "      <th>1</th>\n",
       "      <td>6414100192</td>\n",
       "      <td>538000.0</td>\n",
       "      <td>3</td>\n",
       "      <td>2.25</td>\n",
       "      <td>2570</td>\n",
       "      <td>7242</td>\n",
       "      <td>2.0</td>\n",
       "      <td>0.0</td>\n",
       "      <td>0.0</td>\n",
       "      <td>3</td>\n",
       "      <td>...</td>\n",
       "      <td>98125</td>\n",
       "      <td>47.7210</td>\n",
       "      <td>-122.319</td>\n",
       "      <td>1690</td>\n",
       "      <td>7639</td>\n",
       "      <td>7.851661</td>\n",
       "      <td>7.432484</td>\n",
       "      <td>0.810930</td>\n",
       "      <td>8.887653</td>\n",
       "      <td>8.941022</td>\n",
       "    </tr>\n",
       "    <tr>\n",
       "      <th>3</th>\n",
       "      <td>2487200875</td>\n",
       "      <td>604000.0</td>\n",
       "      <td>4</td>\n",
       "      <td>3.00</td>\n",
       "      <td>1960</td>\n",
       "      <td>5000</td>\n",
       "      <td>1.0</td>\n",
       "      <td>0.0</td>\n",
       "      <td>0.0</td>\n",
       "      <td>5</td>\n",
       "      <td>...</td>\n",
       "      <td>98136</td>\n",
       "      <td>47.5208</td>\n",
       "      <td>-122.393</td>\n",
       "      <td>1360</td>\n",
       "      <td>5000</td>\n",
       "      <td>7.580700</td>\n",
       "      <td>7.215240</td>\n",
       "      <td>1.098612</td>\n",
       "      <td>8.517193</td>\n",
       "      <td>8.517193</td>\n",
       "    </tr>\n",
       "    <tr>\n",
       "      <th>4</th>\n",
       "      <td>1954400510</td>\n",
       "      <td>510000.0</td>\n",
       "      <td>3</td>\n",
       "      <td>2.00</td>\n",
       "      <td>1680</td>\n",
       "      <td>8080</td>\n",
       "      <td>1.0</td>\n",
       "      <td>0.0</td>\n",
       "      <td>0.0</td>\n",
       "      <td>3</td>\n",
       "      <td>...</td>\n",
       "      <td>98074</td>\n",
       "      <td>47.6168</td>\n",
       "      <td>-122.045</td>\n",
       "      <td>1800</td>\n",
       "      <td>7503</td>\n",
       "      <td>7.426549</td>\n",
       "      <td>7.495542</td>\n",
       "      <td>0.693147</td>\n",
       "      <td>8.997147</td>\n",
       "      <td>8.923058</td>\n",
       "    </tr>\n",
       "    <tr>\n",
       "      <th>5</th>\n",
       "      <td>7237550310</td>\n",
       "      <td>1230000.0</td>\n",
       "      <td>4</td>\n",
       "      <td>4.50</td>\n",
       "      <td>5420</td>\n",
       "      <td>101930</td>\n",
       "      <td>1.0</td>\n",
       "      <td>0.0</td>\n",
       "      <td>0.0</td>\n",
       "      <td>3</td>\n",
       "      <td>...</td>\n",
       "      <td>98053</td>\n",
       "      <td>47.6561</td>\n",
       "      <td>-122.005</td>\n",
       "      <td>4760</td>\n",
       "      <td>101930</td>\n",
       "      <td>8.597851</td>\n",
       "      <td>8.468003</td>\n",
       "      <td>1.504077</td>\n",
       "      <td>11.532042</td>\n",
       "      <td>11.532042</td>\n",
       "    </tr>\n",
       "    <tr>\n",
       "      <th>6</th>\n",
       "      <td>1321400060</td>\n",
       "      <td>257500.0</td>\n",
       "      <td>3</td>\n",
       "      <td>2.25</td>\n",
       "      <td>1715</td>\n",
       "      <td>6819</td>\n",
       "      <td>2.0</td>\n",
       "      <td>0.0</td>\n",
       "      <td>0.0</td>\n",
       "      <td>3</td>\n",
       "      <td>...</td>\n",
       "      <td>98003</td>\n",
       "      <td>47.3097</td>\n",
       "      <td>-122.327</td>\n",
       "      <td>2238</td>\n",
       "      <td>6819</td>\n",
       "      <td>7.447168</td>\n",
       "      <td>7.713338</td>\n",
       "      <td>0.810930</td>\n",
       "      <td>8.827468</td>\n",
       "      <td>8.827468</td>\n",
       "    </tr>\n",
       "  </tbody>\n",
       "</table>\n",
       "<p>5 rows × 24 columns</p>\n",
       "</div>"
      ],
      "text/plain": [
       "           id      price  bedrooms  bathrooms  sqft_living  sqft_lot  floors  \\\n",
       "1  6414100192   538000.0         3       2.25         2570      7242     2.0   \n",
       "3  2487200875   604000.0         4       3.00         1960      5000     1.0   \n",
       "4  1954400510   510000.0         3       2.00         1680      8080     1.0   \n",
       "5  7237550310  1230000.0         4       4.50         5420    101930     1.0   \n",
       "6  1321400060   257500.0         3       2.25         1715      6819     2.0   \n",
       "\n",
       "   waterfront  view  condition  ...  zipcode      lat     long  sqft_living15  \\\n",
       "1         0.0   0.0          3  ...    98125  47.7210 -122.319           1690   \n",
       "3         0.0   0.0          5  ...    98136  47.5208 -122.393           1360   \n",
       "4         0.0   0.0          3  ...    98074  47.6168 -122.045           1800   \n",
       "5         0.0   0.0          3  ...    98053  47.6561 -122.005           4760   \n",
       "6         0.0   0.0          3  ...    98003  47.3097 -122.327           2238   \n",
       "\n",
       "   sqft_lot15  log_sqft_living  log_sqft_living15  log_bathrooms  \\\n",
       "1        7639         7.851661           7.432484       0.810930   \n",
       "3        5000         7.580700           7.215240       1.098612   \n",
       "4        7503         7.426549           7.495542       0.693147   \n",
       "5      101930         8.597851           8.468003       1.504077   \n",
       "6        6819         7.447168           7.713338       0.810930   \n",
       "\n",
       "   log_sqft_lot  log_sqft_lot15  \n",
       "1      8.887653        8.941022  \n",
       "3      8.517193        8.517193  \n",
       "4      8.997147        8.923058  \n",
       "5     11.532042       11.532042  \n",
       "6      8.827468        8.827468  \n",
       "\n",
       "[5 rows x 24 columns]"
      ]
     },
     "execution_count": 65,
     "metadata": {},
     "output_type": "execute_result"
    }
   ],
   "source": [
    "df.head()"
   ]
  },
  {
   "cell_type": "code",
   "execution_count": 60,
   "metadata": {
    "ExecuteTime": {
     "end_time": "2021-01-07T19:50:32.952318Z",
     "start_time": "2021-01-07T19:50:32.945586Z"
    }
   },
   "outputs": [],
   "source": [
    "outcome = 'price'\n",
    "x_cols = df.drop(['price' , 'id', 'zipcode', 'sqft_above', 'sqft_lot15', 'sqft_lot', 'sqft_living',\n",
    "                                     'bathrooms', 'sqft_living15'], axis = 1).columns\n",
    "predictors = '+'.join(x_cols)\n",
    "\n",
    "f = outcome + '~' + predictors"
   ]
  },
  {
   "cell_type": "code",
   "execution_count": 61,
   "metadata": {
    "ExecuteTime": {
     "end_time": "2021-01-07T19:50:57.660380Z",
     "start_time": "2021-01-07T19:50:57.585853Z"
    }
   },
   "outputs": [
    {
     "data": {
      "text/html": [
       "<table class=\"simpletable\">\n",
       "<caption>OLS Regression Results</caption>\n",
       "<tr>\n",
       "  <th>Dep. Variable:</th>          <td>price</td>      <th>  R-squared:         </th>  <td>   0.666</td>  \n",
       "</tr>\n",
       "<tr>\n",
       "  <th>Model:</th>                   <td>OLS</td>       <th>  Adj. R-squared:    </th>  <td>   0.666</td>  \n",
       "</tr>\n",
       "<tr>\n",
       "  <th>Method:</th>             <td>Least Squares</td>  <th>  F-statistic:       </th>  <td>   2093.</td>  \n",
       "</tr>\n",
       "<tr>\n",
       "  <th>Date:</th>             <td>Thu, 07 Jan 2021</td> <th>  Prob (F-statistic):</th>   <td>  0.00</td>   \n",
       "</tr>\n",
       "<tr>\n",
       "  <th>Time:</th>                 <td>14:50:57</td>     <th>  Log-Likelihood:    </th> <td>-2.1465e+05</td>\n",
       "</tr>\n",
       "<tr>\n",
       "  <th>No. Observations:</th>      <td> 15741</td>      <th>  AIC:               </th>  <td>4.293e+05</td> \n",
       "</tr>\n",
       "<tr>\n",
       "  <th>Df Residuals:</th>          <td> 15725</td>      <th>  BIC:               </th>  <td>4.295e+05</td> \n",
       "</tr>\n",
       "<tr>\n",
       "  <th>Df Model:</th>              <td>    15</td>      <th>                     </th>      <td> </td>     \n",
       "</tr>\n",
       "<tr>\n",
       "  <th>Covariance Type:</th>      <td>nonrobust</td>    <th>                     </th>      <td> </td>     \n",
       "</tr>\n",
       "</table>\n",
       "<table class=\"simpletable\">\n",
       "<tr>\n",
       "          <td></td>             <th>coef</th>     <th>std err</th>      <th>t</th>      <th>P>|t|</th>  <th>[0.025</th>    <th>0.975]</th>  \n",
       "</tr>\n",
       "<tr>\n",
       "  <th>Intercept</th>         <td>-2.966e+07</td> <td> 1.92e+06</td> <td>  -15.456</td> <td> 0.000</td> <td>-3.34e+07</td> <td>-2.59e+07</td>\n",
       "</tr>\n",
       "<tr>\n",
       "  <th>bedrooms</th>          <td>-9587.3634</td> <td> 2454.271</td> <td>   -3.906</td> <td> 0.000</td> <td>-1.44e+04</td> <td>-4776.709</td>\n",
       "</tr>\n",
       "<tr>\n",
       "  <th>floors</th>            <td> 2.302e+04</td> <td> 4006.180</td> <td>    5.746</td> <td> 0.000</td> <td> 1.52e+04</td> <td> 3.09e+04</td>\n",
       "</tr>\n",
       "<tr>\n",
       "  <th>waterfront</th>        <td> 5.794e+05</td> <td> 2.08e+04</td> <td>   27.918</td> <td> 0.000</td> <td> 5.39e+05</td> <td>  6.2e+05</td>\n",
       "</tr>\n",
       "<tr>\n",
       "  <th>view</th>              <td> 5.783e+04</td> <td> 2486.347</td> <td>   23.258</td> <td> 0.000</td> <td>  5.3e+04</td> <td> 6.27e+04</td>\n",
       "</tr>\n",
       "<tr>\n",
       "  <th>condition</th>         <td> 3.239e+04</td> <td> 2766.686</td> <td>   11.706</td> <td> 0.000</td> <td>  2.7e+04</td> <td> 3.78e+04</td>\n",
       "</tr>\n",
       "<tr>\n",
       "  <th>grade</th>             <td> 1.402e+05</td> <td> 2413.437</td> <td>   58.094</td> <td> 0.000</td> <td> 1.35e+05</td> <td> 1.45e+05</td>\n",
       "</tr>\n",
       "<tr>\n",
       "  <th>yr_built</th>          <td>-2607.8908</td> <td>   86.242</td> <td>  -30.239</td> <td> 0.000</td> <td>-2776.936</td> <td>-2438.846</td>\n",
       "</tr>\n",
       "<tr>\n",
       "  <th>yr_renovated</th>      <td>   22.7509</td> <td>    4.363</td> <td>    5.214</td> <td> 0.000</td> <td>   14.198</td> <td>   31.303</td>\n",
       "</tr>\n",
       "<tr>\n",
       "  <th>lat</th>               <td> 5.487e+05</td> <td> 1.23e+04</td> <td>   44.456</td> <td> 0.000</td> <td> 5.25e+05</td> <td> 5.73e+05</td>\n",
       "</tr>\n",
       "<tr>\n",
       "  <th>long</th>              <td>-4.943e+04</td> <td> 1.43e+04</td> <td>   -3.464</td> <td> 0.001</td> <td>-7.74e+04</td> <td>-2.15e+04</td>\n",
       "</tr>\n",
       "<tr>\n",
       "  <th>log_sqft_living</th>   <td> 1.806e+05</td> <td> 8960.767</td> <td>   20.158</td> <td> 0.000</td> <td> 1.63e+05</td> <td> 1.98e+05</td>\n",
       "</tr>\n",
       "<tr>\n",
       "  <th>log_sqft_living15</th> <td> 8.795e+04</td> <td> 8348.899</td> <td>   10.534</td> <td> 0.000</td> <td> 7.16e+04</td> <td> 1.04e+05</td>\n",
       "</tr>\n",
       "<tr>\n",
       "  <th>log_bathrooms</th>     <td> 3.979e+04</td> <td> 7547.477</td> <td>    5.271</td> <td> 0.000</td> <td>  2.5e+04</td> <td> 5.46e+04</td>\n",
       "</tr>\n",
       "<tr>\n",
       "  <th>log_sqft_lot</th>      <td> 1.222e+04</td> <td> 4638.040</td> <td>    2.635</td> <td> 0.008</td> <td> 3130.191</td> <td> 2.13e+04</td>\n",
       "</tr>\n",
       "<tr>\n",
       "  <th>log_sqft_lot15</th>    <td>-1.916e+04</td> <td> 5071.938</td> <td>   -3.777</td> <td> 0.000</td> <td>-2.91e+04</td> <td>-9217.574</td>\n",
       "</tr>\n",
       "</table>\n",
       "<table class=\"simpletable\">\n",
       "<tr>\n",
       "  <th>Omnibus:</th>       <td>10415.148</td> <th>  Durbin-Watson:     </th>  <td>   1.975</td> \n",
       "</tr>\n",
       "<tr>\n",
       "  <th>Prob(Omnibus):</th>  <td> 0.000</td>   <th>  Jarque-Bera (JB):  </th> <td>264746.813</td>\n",
       "</tr>\n",
       "<tr>\n",
       "  <th>Skew:</th>           <td> 2.800</td>   <th>  Prob(JB):          </th>  <td>    0.00</td> \n",
       "</tr>\n",
       "<tr>\n",
       "  <th>Kurtosis:</th>       <td>22.295</td>   <th>  Cond. No.          </th>  <td>2.35e+06</td> \n",
       "</tr>\n",
       "</table><br/><br/>Notes:<br/>[1] Standard Errors assume that the covariance matrix of the errors is correctly specified.<br/>[2] The condition number is large, 2.35e+06. This might indicate that there are<br/>strong multicollinearity or other numerical problems."
      ],
      "text/plain": [
       "<class 'statsmodels.iolib.summary.Summary'>\n",
       "\"\"\"\n",
       "                            OLS Regression Results                            \n",
       "==============================================================================\n",
       "Dep. Variable:                  price   R-squared:                       0.666\n",
       "Model:                            OLS   Adj. R-squared:                  0.666\n",
       "Method:                 Least Squares   F-statistic:                     2093.\n",
       "Date:                Thu, 07 Jan 2021   Prob (F-statistic):               0.00\n",
       "Time:                        14:50:57   Log-Likelihood:            -2.1465e+05\n",
       "No. Observations:               15741   AIC:                         4.293e+05\n",
       "Df Residuals:                   15725   BIC:                         4.295e+05\n",
       "Df Model:                          15                                         \n",
       "Covariance Type:            nonrobust                                         \n",
       "=====================================================================================\n",
       "                        coef    std err          t      P>|t|      [0.025      0.975]\n",
       "-------------------------------------------------------------------------------------\n",
       "Intercept         -2.966e+07   1.92e+06    -15.456      0.000   -3.34e+07   -2.59e+07\n",
       "bedrooms          -9587.3634   2454.271     -3.906      0.000   -1.44e+04   -4776.709\n",
       "floors             2.302e+04   4006.180      5.746      0.000    1.52e+04    3.09e+04\n",
       "waterfront         5.794e+05   2.08e+04     27.918      0.000    5.39e+05     6.2e+05\n",
       "view               5.783e+04   2486.347     23.258      0.000     5.3e+04    6.27e+04\n",
       "condition          3.239e+04   2766.686     11.706      0.000     2.7e+04    3.78e+04\n",
       "grade              1.402e+05   2413.437     58.094      0.000    1.35e+05    1.45e+05\n",
       "yr_built          -2607.8908     86.242    -30.239      0.000   -2776.936   -2438.846\n",
       "yr_renovated         22.7509      4.363      5.214      0.000      14.198      31.303\n",
       "lat                5.487e+05   1.23e+04     44.456      0.000    5.25e+05    5.73e+05\n",
       "long              -4.943e+04   1.43e+04     -3.464      0.001   -7.74e+04   -2.15e+04\n",
       "log_sqft_living    1.806e+05   8960.767     20.158      0.000    1.63e+05    1.98e+05\n",
       "log_sqft_living15  8.795e+04   8348.899     10.534      0.000    7.16e+04    1.04e+05\n",
       "log_bathrooms      3.979e+04   7547.477      5.271      0.000     2.5e+04    5.46e+04\n",
       "log_sqft_lot       1.222e+04   4638.040      2.635      0.008    3130.191    2.13e+04\n",
       "log_sqft_lot15    -1.916e+04   5071.938     -3.777      0.000   -2.91e+04   -9217.574\n",
       "==============================================================================\n",
       "Omnibus:                    10415.148   Durbin-Watson:                   1.975\n",
       "Prob(Omnibus):                  0.000   Jarque-Bera (JB):           264746.813\n",
       "Skew:                           2.800   Prob(JB):                         0.00\n",
       "Kurtosis:                      22.295   Cond. No.                     2.35e+06\n",
       "==============================================================================\n",
       "\n",
       "Notes:\n",
       "[1] Standard Errors assume that the covariance matrix of the errors is correctly specified.\n",
       "[2] The condition number is large, 2.35e+06. This might indicate that there are\n",
       "strong multicollinearity or other numerical problems.\n",
       "\"\"\""
      ]
     },
     "execution_count": 61,
     "metadata": {},
     "output_type": "execute_result"
    }
   ],
   "source": [
    "model_5 = ols(formula= f, data = df).fit()\n",
    "model_5.summary()"
   ]
  },
  {
   "cell_type": "code",
   "execution_count": 64,
   "metadata": {
    "ExecuteTime": {
     "end_time": "2021-01-07T19:53:29.267329Z",
     "start_time": "2021-01-07T19:53:28.896841Z"
    }
   },
   "outputs": [
    {
     "name": "stdout",
     "output_type": "stream",
     "text": [
      "Train MSE: 39251505638.970604\n",
      "Test MSE: 47724115295.462585\n",
      "RMSE Train: 198119.9274151154\n",
      "RMSE Test: 218458.4978788021\n"
     ]
    },
    {
     "data": {
      "image/png": "[encoded data removed]",
      "text/plain": [
       "<Figure size 432x288 with 1 Axes>"
      ]
     },
     "execution_count": 64,
     "metadata": {},
     "output_type": "execute_result"
    },
    {
     "data": {
      "image/png": "[encoded data removed]",
      "text/plain": [
       "<Figure size 432x288 with 1 Axes>"
      ]
     },
     "metadata": {
      "needs_background": "light"
     },
     "output_type": "display_data"
    }
   ],
   "source": [
    "data = df.copy()\n",
    "\n",
    "y = data['price']\n",
    "X = data.drop(['price', 'id', 'zipcode', 'sqft_above', 'sqft_lot15', 'sqft_lot', 'sqft_living',\n",
    "                                     'bathrooms', 'sqft_living15'], axis = 1)\n",
    "\n",
    "X_train, X_test, y_train, y_test = train_test_split(X, y, test_size = 0.2)\n",
    "\n",
    "len(X_test)\n",
    "\n",
    "linreg = LinearRegression()\n",
    "linreg.fit(X_train, y_train)\n",
    "\n",
    "y_hat_train = linreg.predict(X_train)\n",
    "y_hat_test = linreg.predict(X_test)\n",
    "\n",
    "\n",
    "mse_train = mean_squared_error(y_train, y_hat_train)\n",
    "mse_test = mean_squared_error(y_test, y_hat_test)\n",
    "\n",
    "print('Train MSE:', mse_train)\n",
    "print('Test MSE:', mse_test)\n",
    "\n",
    "print('RMSE Train:', np.sqrt(mse_train))\n",
    "print('RMSE Test:', np.sqrt(mse_test))\n",
    "\n",
    "r2_score(y_test, y_hat_test)\n",
    "\n",
    "residuals = (y_test - y_hat_test)\n",
    "\n",
    "statsmodels.graphics.gofplots.qqplot(residuals, line = \"r\")"
   ]
  },
  {
   "attachments": {
    "image.png": {
     "image/png": "[encoded data removed]"
    }
   },
   "cell_type": "markdown",
   "metadata": {},
   "source": [
    "#### plot from model 1\n",
    "\n",
    "![image.png](attachment:image.png)"
   ]
  },
  {
   "cell_type": "code",
   "execution_count": null,
   "metadata": {},
   "outputs": [],
   "source": [
    "np.exp()"
   ]
  }
 ],
 "metadata": {
  "kernelspec": {
   "display_name": "Python 3",
   "language": "python",
   "name": "python3"
  },
  "language_info": {
   "codemirror_mode": {
    "name": "ipython",
    "version": 3
   },
   "file_extension": ".py",
   "mimetype": "text/x-python",
   "name": "python",
   "nbconvert_exporter": "python",
   "pygments_lexer": "ipython3",
   "version": "3.8.5"
  },
  "toc": {
   "base_numbering": 1,
   "nav_menu": {},
   "number_sections": true,
   "sideBar": true,
   "skip_h1_title": false,
   "title_cell": "Table of Contents",
   "title_sidebar": "Contents",
   "toc_cell": false,
   "toc_position": {},
   "toc_section_display": true,
   "toc_window_display": false
  },
  "varInspector": {
   "cols": {
    "lenName": 16,
    "lenType": 16,
    "lenVar": 40
   },
   "kernels_config": {
    "python": {
     "delete_cmd_postfix": "",
     "delete_cmd_prefix": "del ",
     "library": "var_list.py",
     "varRefreshCmd": "print(var_dic_list())"
    },
    "r": {
     "delete_cmd_postfix": ") ",
     "delete_cmd_prefix": "rm(",
     "library": "var_list.r",
     "varRefreshCmd": "cat(var_dic_list()) "
    }
   },
   "types_to_exclude": [
    "module",
    "function",
    "builtin_function_or_method",
    "instance",
    "_Feature"
   ],
   "window_display": false
  }
 },
 "nbformat": 4,
 "nbformat_minor": 4
}
