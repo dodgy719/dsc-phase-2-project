{
 "cells": [
  {
   "cell_type": "code",
   "execution_count": 1,
   "metadata": {
    "ExecuteTime": {
     "end_time": "2021-01-05T19:03:07.960980Z",
     "start_time": "2021-01-05T19:03:06.404216Z"
    }
   },
   "outputs": [],
   "source": [
    "import pandas as pd\n",
    "import numpy as np\n",
    "import matplotlib.pyplot as plt\n",
    "import seaborn as sns"
   ]
  },
  {
   "cell_type": "code",
   "execution_count": 2,
   "metadata": {
    "ExecuteTime": {
     "end_time": "2021-01-05T19:03:07.965706Z",
     "start_time": "2021-01-05T19:03:07.962781Z"
    }
   },
   "outputs": [],
   "source": [
    "pd.set_option(\"display.max_columns\", 100)"
   ]
  },
  {
   "cell_type": "code",
   "execution_count": 3,
   "metadata": {
    "ExecuteTime": {
     "end_time": "2021-01-05T19:03:08.014797Z",
     "start_time": "2021-01-05T19:03:07.968698Z"
    }
   },
   "outputs": [],
   "source": [
    "df = pd.read_csv(\"data/kc_house_data.csv\")"
   ]
  },
  {
   "cell_type": "code",
   "execution_count": 4,
   "metadata": {
    "ExecuteTime": {
     "end_time": "2021-01-05T19:03:08.025585Z",
     "start_time": "2021-01-05T19:03:08.016461Z"
    }
   },
   "outputs": [
    {
     "name": "stdout",
     "output_type": "stream",
     "text": [
      "<class 'pandas.core.frame.DataFrame'>\n",
      "RangeIndex: 21597 entries, 0 to 21596\n",
      "Data columns (total 21 columns):\n",
      " #   Column         Non-Null Count  Dtype  \n",
      "---  ------         --------------  -----  \n",
      " 0   id             21597 non-null  int64  \n",
      " 1   date           21597 non-null  object \n",
      " 2   price          21597 non-null  float64\n",
      " 3   bedrooms       21597 non-null  int64  \n",
      " 4   bathrooms      21597 non-null  float64\n",
      " 5   sqft_living    21597 non-null  int64  \n",
      " 6   sqft_lot       21597 non-null  int64  \n",
      " 7   floors         21597 non-null  float64\n",
      " 8   waterfront     19221 non-null  float64\n",
      " 9   view           21534 non-null  float64\n",
      " 10  condition      21597 non-null  int64  \n",
      " 11  grade          21597 non-null  int64  \n",
      " 12  sqft_above     21597 non-null  int64  \n",
      " 13  sqft_basement  21597 non-null  object \n",
      " 14  yr_built       21597 non-null  int64  \n",
      " 15  yr_renovated   17755 non-null  float64\n",
      " 16  zipcode        21597 non-null  int64  \n",
      " 17  lat            21597 non-null  float64\n",
      " 18  long           21597 non-null  float64\n",
      " 19  sqft_living15  21597 non-null  int64  \n",
      " 20  sqft_lot15     21597 non-null  int64  \n",
      "dtypes: float64(8), int64(11), object(2)\n",
      "memory usage: 3.5+ MB\n"
     ]
    }
   ],
   "source": [
    "df.info()"
   ]
  },
  {
   "cell_type": "markdown",
   "metadata": {},
   "source": [
    "# Column Names and descriptions for Kings County Data Set\n",
    "* **id** - unique identified for a house\n",
    "* **dateDate** - house was sold\n",
    "* **pricePrice** -  is prediction target\n",
    "* **bedroomsNumber** -  of Bedrooms/House\n",
    "* **bathroomsNumber** -  of bathrooms/bedrooms\n",
    "* **sqft_livingsquare** -  footage of the home\n",
    "* **sqft_lotsquare** -  footage of the lot\n",
    "* **floorsTotal** -  floors (levels) in house\n",
    "* **waterfront** - House which has a view to a waterfront\n",
    "* **view** - Has been viewed\n",
    "* **condition** - How good the condition is ( Overall )\n",
    "* **grade** - overall grade given to the housing unit, based on King County grading system\n",
    "* **sqft_above** - square footage of house apart from basement\n",
    "* **sqft_basement** - square footage of the basement\n",
    "* **yr_built** - Built Year\n",
    "* **yr_renovated** - Year when house was renovated\n",
    "* **zipcode** - zip\n",
    "* **lat** - Latitude coordinate\n",
    "* **long** - Longitude coordinate\n",
    "* **sqft_living15** - The square footage of interior housing living space for the nearest 15 neighbors\n",
    "* **sqft_lot15** - The square footage of the land lots of the nearest 15 neighbors"
   ]
  },
  {
   "cell_type": "code",
   "execution_count": 5,
   "metadata": {
    "ExecuteTime": {
     "end_time": "2021-01-05T19:03:08.045836Z",
     "start_time": "2021-01-05T19:03:08.027470Z"
    }
   },
   "outputs": [
    {
     "data": {
      "text/html": [
       "<div>\n",
       "<style scoped>\n",
       "    .dataframe tbody tr th:only-of-type {\n",
       "        vertical-align: middle;\n",
       "    }\n",
       "\n",
       "    .dataframe tbody tr th {\n",
       "        vertical-align: top;\n",
       "    }\n",
       "\n",
       "    .dataframe thead th {\n",
       "        text-align: right;\n",
       "    }\n",
       "</style>\n",
       "<table border=\"1\" class=\"dataframe\">\n",
       "  <thead>\n",
       "    <tr style=\"text-align: right;\">\n",
       "      <th></th>\n",
       "      <th>id</th>\n",
       "      <th>date</th>\n",
       "      <th>price</th>\n",
       "      <th>bedrooms</th>\n",
       "      <th>bathrooms</th>\n",
       "      <th>sqft_living</th>\n",
       "      <th>sqft_lot</th>\n",
       "      <th>floors</th>\n",
       "      <th>waterfront</th>\n",
       "      <th>view</th>\n",
       "      <th>condition</th>\n",
       "      <th>grade</th>\n",
       "      <th>sqft_above</th>\n",
       "      <th>sqft_basement</th>\n",
       "      <th>yr_built</th>\n",
       "      <th>yr_renovated</th>\n",
       "      <th>zipcode</th>\n",
       "      <th>lat</th>\n",
       "      <th>long</th>\n",
       "      <th>sqft_living15</th>\n",
       "      <th>sqft_lot15</th>\n",
       "    </tr>\n",
       "  </thead>\n",
       "  <tbody>\n",
       "    <tr>\n",
       "      <th>0</th>\n",
       "      <td>7129300520</td>\n",
       "      <td>10/13/2014</td>\n",
       "      <td>221900.0</td>\n",
       "      <td>3</td>\n",
       "      <td>1.00</td>\n",
       "      <td>1180</td>\n",
       "      <td>5650</td>\n",
       "      <td>1.0</td>\n",
       "      <td>NaN</td>\n",
       "      <td>0.0</td>\n",
       "      <td>3</td>\n",
       "      <td>7</td>\n",
       "      <td>1180</td>\n",
       "      <td>0.0</td>\n",
       "      <td>1955</td>\n",
       "      <td>0.0</td>\n",
       "      <td>98178</td>\n",
       "      <td>47.5112</td>\n",
       "      <td>-122.257</td>\n",
       "      <td>1340</td>\n",
       "      <td>5650</td>\n",
       "    </tr>\n",
       "    <tr>\n",
       "      <th>1</th>\n",
       "      <td>6414100192</td>\n",
       "      <td>12/9/2014</td>\n",
       "      <td>538000.0</td>\n",
       "      <td>3</td>\n",
       "      <td>2.25</td>\n",
       "      <td>2570</td>\n",
       "      <td>7242</td>\n",
       "      <td>2.0</td>\n",
       "      <td>0.0</td>\n",
       "      <td>0.0</td>\n",
       "      <td>3</td>\n",
       "      <td>7</td>\n",
       "      <td>2170</td>\n",
       "      <td>400.0</td>\n",
       "      <td>1951</td>\n",
       "      <td>1991.0</td>\n",
       "      <td>98125</td>\n",
       "      <td>47.7210</td>\n",
       "      <td>-122.319</td>\n",
       "      <td>1690</td>\n",
       "      <td>7639</td>\n",
       "    </tr>\n",
       "    <tr>\n",
       "      <th>2</th>\n",
       "      <td>5631500400</td>\n",
       "      <td>2/25/2015</td>\n",
       "      <td>180000.0</td>\n",
       "      <td>2</td>\n",
       "      <td>1.00</td>\n",
       "      <td>770</td>\n",
       "      <td>10000</td>\n",
       "      <td>1.0</td>\n",
       "      <td>0.0</td>\n",
       "      <td>0.0</td>\n",
       "      <td>3</td>\n",
       "      <td>6</td>\n",
       "      <td>770</td>\n",
       "      <td>0.0</td>\n",
       "      <td>1933</td>\n",
       "      <td>NaN</td>\n",
       "      <td>98028</td>\n",
       "      <td>47.7379</td>\n",
       "      <td>-122.233</td>\n",
       "      <td>2720</td>\n",
       "      <td>8062</td>\n",
       "    </tr>\n",
       "    <tr>\n",
       "      <th>3</th>\n",
       "      <td>2487200875</td>\n",
       "      <td>12/9/2014</td>\n",
       "      <td>604000.0</td>\n",
       "      <td>4</td>\n",
       "      <td>3.00</td>\n",
       "      <td>1960</td>\n",
       "      <td>5000</td>\n",
       "      <td>1.0</td>\n",
       "      <td>0.0</td>\n",
       "      <td>0.0</td>\n",
       "      <td>5</td>\n",
       "      <td>7</td>\n",
       "      <td>1050</td>\n",
       "      <td>910.0</td>\n",
       "      <td>1965</td>\n",
       "      <td>0.0</td>\n",
       "      <td>98136</td>\n",
       "      <td>47.5208</td>\n",
       "      <td>-122.393</td>\n",
       "      <td>1360</td>\n",
       "      <td>5000</td>\n",
       "    </tr>\n",
       "    <tr>\n",
       "      <th>4</th>\n",
       "      <td>1954400510</td>\n",
       "      <td>2/18/2015</td>\n",
       "      <td>510000.0</td>\n",
       "      <td>3</td>\n",
       "      <td>2.00</td>\n",
       "      <td>1680</td>\n",
       "      <td>8080</td>\n",
       "      <td>1.0</td>\n",
       "      <td>0.0</td>\n",
       "      <td>0.0</td>\n",
       "      <td>3</td>\n",
       "      <td>8</td>\n",
       "      <td>1680</td>\n",
       "      <td>0.0</td>\n",
       "      <td>1987</td>\n",
       "      <td>0.0</td>\n",
       "      <td>98074</td>\n",
       "      <td>47.6168</td>\n",
       "      <td>-122.045</td>\n",
       "      <td>1800</td>\n",
       "      <td>7503</td>\n",
       "    </tr>\n",
       "  </tbody>\n",
       "</table>\n",
       "</div>"
      ],
      "text/plain": [
       "           id        date     price  bedrooms  bathrooms  sqft_living  \\\n",
       "0  7129300520  10/13/2014  221900.0         3       1.00         1180   \n",
       "1  6414100192   12/9/2014  538000.0         3       2.25         2570   \n",
       "2  5631500400   2/25/2015  180000.0         2       1.00          770   \n",
       "3  2487200875   12/9/2014  604000.0         4       3.00         1960   \n",
       "4  1954400510   2/18/2015  510000.0         3       2.00         1680   \n",
       "\n",
       "   sqft_lot  floors  waterfront  view  condition  grade  sqft_above  \\\n",
       "0      5650     1.0         NaN   0.0          3      7        1180   \n",
       "1      7242     2.0         0.0   0.0          3      7        2170   \n",
       "2     10000     1.0         0.0   0.0          3      6         770   \n",
       "3      5000     1.0         0.0   0.0          5      7        1050   \n",
       "4      8080     1.0         0.0   0.0          3      8        1680   \n",
       "\n",
       "  sqft_basement  yr_built  yr_renovated  zipcode      lat     long  \\\n",
       "0           0.0      1955           0.0    98178  47.5112 -122.257   \n",
       "1         400.0      1951        1991.0    98125  47.7210 -122.319   \n",
       "2           0.0      1933           NaN    98028  47.7379 -122.233   \n",
       "3         910.0      1965           0.0    98136  47.5208 -122.393   \n",
       "4           0.0      1987           0.0    98074  47.6168 -122.045   \n",
       "\n",
       "   sqft_living15  sqft_lot15  \n",
       "0           1340        5650  \n",
       "1           1690        7639  \n",
       "2           2720        8062  \n",
       "3           1360        5000  \n",
       "4           1800        7503  "
      ]
     },
     "execution_count": 5,
     "metadata": {},
     "output_type": "execute_result"
    }
   ],
   "source": [
    "df.head()"
   ]
  },
  {
   "cell_type": "code",
   "execution_count": 6,
   "metadata": {
    "ExecuteTime": {
     "end_time": "2021-01-05T19:03:08.053151Z",
     "start_time": "2021-01-05T19:03:08.048459Z"
    }
   },
   "outputs": [
    {
     "data": {
      "text/plain": [
       "array([ 0., nan,  3.,  4.,  2.,  1.])"
      ]
     },
     "execution_count": 6,
     "metadata": {},
     "output_type": "execute_result"
    }
   ],
   "source": [
    "df.view.unique()"
   ]
  },
  {
   "cell_type": "code",
   "execution_count": 7,
   "metadata": {
    "ExecuteTime": {
     "end_time": "2021-01-05T19:03:08.130701Z",
     "start_time": "2021-01-05T19:03:08.055318Z"
    }
   },
   "outputs": [
    {
     "data": {
      "text/html": [
       "<div>\n",
       "<style scoped>\n",
       "    .dataframe tbody tr th:only-of-type {\n",
       "        vertical-align: middle;\n",
       "    }\n",
       "\n",
       "    .dataframe tbody tr th {\n",
       "        vertical-align: top;\n",
       "    }\n",
       "\n",
       "    .dataframe thead th {\n",
       "        text-align: right;\n",
       "    }\n",
       "</style>\n",
       "<table border=\"1\" class=\"dataframe\">\n",
       "  <thead>\n",
       "    <tr style=\"text-align: right;\">\n",
       "      <th></th>\n",
       "      <th>id</th>\n",
       "      <th>price</th>\n",
       "      <th>bedrooms</th>\n",
       "      <th>bathrooms</th>\n",
       "      <th>sqft_living</th>\n",
       "      <th>sqft_lot</th>\n",
       "      <th>floors</th>\n",
       "      <th>waterfront</th>\n",
       "      <th>view</th>\n",
       "      <th>condition</th>\n",
       "      <th>grade</th>\n",
       "      <th>sqft_above</th>\n",
       "      <th>yr_built</th>\n",
       "      <th>yr_renovated</th>\n",
       "      <th>zipcode</th>\n",
       "      <th>lat</th>\n",
       "      <th>long</th>\n",
       "      <th>sqft_living15</th>\n",
       "      <th>sqft_lot15</th>\n",
       "    </tr>\n",
       "  </thead>\n",
       "  <tbody>\n",
       "    <tr>\n",
       "      <th>count</th>\n",
       "      <td>2.159700e+04</td>\n",
       "      <td>2.159700e+04</td>\n",
       "      <td>21597.000000</td>\n",
       "      <td>21597.000000</td>\n",
       "      <td>21597.000000</td>\n",
       "      <td>2.159700e+04</td>\n",
       "      <td>21597.000000</td>\n",
       "      <td>19221.000000</td>\n",
       "      <td>21534.000000</td>\n",
       "      <td>21597.000000</td>\n",
       "      <td>21597.000000</td>\n",
       "      <td>21597.000000</td>\n",
       "      <td>21597.000000</td>\n",
       "      <td>17755.000000</td>\n",
       "      <td>21597.000000</td>\n",
       "      <td>21597.000000</td>\n",
       "      <td>21597.000000</td>\n",
       "      <td>21597.000000</td>\n",
       "      <td>21597.000000</td>\n",
       "    </tr>\n",
       "    <tr>\n",
       "      <th>mean</th>\n",
       "      <td>4.580474e+09</td>\n",
       "      <td>5.402966e+05</td>\n",
       "      <td>3.373200</td>\n",
       "      <td>2.115826</td>\n",
       "      <td>2080.321850</td>\n",
       "      <td>1.509941e+04</td>\n",
       "      <td>1.494096</td>\n",
       "      <td>0.007596</td>\n",
       "      <td>0.233863</td>\n",
       "      <td>3.409825</td>\n",
       "      <td>7.657915</td>\n",
       "      <td>1788.596842</td>\n",
       "      <td>1970.999676</td>\n",
       "      <td>83.636778</td>\n",
       "      <td>98077.951845</td>\n",
       "      <td>47.560093</td>\n",
       "      <td>-122.213982</td>\n",
       "      <td>1986.620318</td>\n",
       "      <td>12758.283512</td>\n",
       "    </tr>\n",
       "    <tr>\n",
       "      <th>std</th>\n",
       "      <td>2.876736e+09</td>\n",
       "      <td>3.673681e+05</td>\n",
       "      <td>0.926299</td>\n",
       "      <td>0.768984</td>\n",
       "      <td>918.106125</td>\n",
       "      <td>4.141264e+04</td>\n",
       "      <td>0.539683</td>\n",
       "      <td>0.086825</td>\n",
       "      <td>0.765686</td>\n",
       "      <td>0.650546</td>\n",
       "      <td>1.173200</td>\n",
       "      <td>827.759761</td>\n",
       "      <td>29.375234</td>\n",
       "      <td>399.946414</td>\n",
       "      <td>53.513072</td>\n",
       "      <td>0.138552</td>\n",
       "      <td>0.140724</td>\n",
       "      <td>685.230472</td>\n",
       "      <td>27274.441950</td>\n",
       "    </tr>\n",
       "    <tr>\n",
       "      <th>min</th>\n",
       "      <td>1.000102e+06</td>\n",
       "      <td>7.800000e+04</td>\n",
       "      <td>1.000000</td>\n",
       "      <td>0.500000</td>\n",
       "      <td>370.000000</td>\n",
       "      <td>5.200000e+02</td>\n",
       "      <td>1.000000</td>\n",
       "      <td>0.000000</td>\n",
       "      <td>0.000000</td>\n",
       "      <td>1.000000</td>\n",
       "      <td>3.000000</td>\n",
       "      <td>370.000000</td>\n",
       "      <td>1900.000000</td>\n",
       "      <td>0.000000</td>\n",
       "      <td>98001.000000</td>\n",
       "      <td>47.155900</td>\n",
       "      <td>-122.519000</td>\n",
       "      <td>399.000000</td>\n",
       "      <td>651.000000</td>\n",
       "    </tr>\n",
       "    <tr>\n",
       "      <th>25%</th>\n",
       "      <td>2.123049e+09</td>\n",
       "      <td>3.220000e+05</td>\n",
       "      <td>3.000000</td>\n",
       "      <td>1.750000</td>\n",
       "      <td>1430.000000</td>\n",
       "      <td>5.040000e+03</td>\n",
       "      <td>1.000000</td>\n",
       "      <td>0.000000</td>\n",
       "      <td>0.000000</td>\n",
       "      <td>3.000000</td>\n",
       "      <td>7.000000</td>\n",
       "      <td>1190.000000</td>\n",
       "      <td>1951.000000</td>\n",
       "      <td>0.000000</td>\n",
       "      <td>98033.000000</td>\n",
       "      <td>47.471100</td>\n",
       "      <td>-122.328000</td>\n",
       "      <td>1490.000000</td>\n",
       "      <td>5100.000000</td>\n",
       "    </tr>\n",
       "    <tr>\n",
       "      <th>50%</th>\n",
       "      <td>3.904930e+09</td>\n",
       "      <td>4.500000e+05</td>\n",
       "      <td>3.000000</td>\n",
       "      <td>2.250000</td>\n",
       "      <td>1910.000000</td>\n",
       "      <td>7.618000e+03</td>\n",
       "      <td>1.500000</td>\n",
       "      <td>0.000000</td>\n",
       "      <td>0.000000</td>\n",
       "      <td>3.000000</td>\n",
       "      <td>7.000000</td>\n",
       "      <td>1560.000000</td>\n",
       "      <td>1975.000000</td>\n",
       "      <td>0.000000</td>\n",
       "      <td>98065.000000</td>\n",
       "      <td>47.571800</td>\n",
       "      <td>-122.231000</td>\n",
       "      <td>1840.000000</td>\n",
       "      <td>7620.000000</td>\n",
       "    </tr>\n",
       "    <tr>\n",
       "      <th>75%</th>\n",
       "      <td>7.308900e+09</td>\n",
       "      <td>6.450000e+05</td>\n",
       "      <td>4.000000</td>\n",
       "      <td>2.500000</td>\n",
       "      <td>2550.000000</td>\n",
       "      <td>1.068500e+04</td>\n",
       "      <td>2.000000</td>\n",
       "      <td>0.000000</td>\n",
       "      <td>0.000000</td>\n",
       "      <td>4.000000</td>\n",
       "      <td>8.000000</td>\n",
       "      <td>2210.000000</td>\n",
       "      <td>1997.000000</td>\n",
       "      <td>0.000000</td>\n",
       "      <td>98118.000000</td>\n",
       "      <td>47.678000</td>\n",
       "      <td>-122.125000</td>\n",
       "      <td>2360.000000</td>\n",
       "      <td>10083.000000</td>\n",
       "    </tr>\n",
       "    <tr>\n",
       "      <th>max</th>\n",
       "      <td>9.900000e+09</td>\n",
       "      <td>7.700000e+06</td>\n",
       "      <td>33.000000</td>\n",
       "      <td>8.000000</td>\n",
       "      <td>13540.000000</td>\n",
       "      <td>1.651359e+06</td>\n",
       "      <td>3.500000</td>\n",
       "      <td>1.000000</td>\n",
       "      <td>4.000000</td>\n",
       "      <td>5.000000</td>\n",
       "      <td>13.000000</td>\n",
       "      <td>9410.000000</td>\n",
       "      <td>2015.000000</td>\n",
       "      <td>2015.000000</td>\n",
       "      <td>98199.000000</td>\n",
       "      <td>47.777600</td>\n",
       "      <td>-121.315000</td>\n",
       "      <td>6210.000000</td>\n",
       "      <td>871200.000000</td>\n",
       "    </tr>\n",
       "  </tbody>\n",
       "</table>\n",
       "</div>"
      ],
      "text/plain": [
       "                 id         price      bedrooms     bathrooms   sqft_living  \\\n",
       "count  2.159700e+04  2.159700e+04  21597.000000  21597.000000  21597.000000   \n",
       "mean   4.580474e+09  5.402966e+05      3.373200      2.115826   2080.321850   \n",
       "std    2.876736e+09  3.673681e+05      0.926299      0.768984    918.106125   \n",
       "min    1.000102e+06  7.800000e+04      1.000000      0.500000    370.000000   \n",
       "25%    2.123049e+09  3.220000e+05      3.000000      1.750000   1430.000000   \n",
       "50%    3.904930e+09  4.500000e+05      3.000000      2.250000   1910.000000   \n",
       "75%    7.308900e+09  6.450000e+05      4.000000      2.500000   2550.000000   \n",
       "max    9.900000e+09  7.700000e+06     33.000000      8.000000  13540.000000   \n",
       "\n",
       "           sqft_lot        floors    waterfront          view     condition  \\\n",
       "count  2.159700e+04  21597.000000  19221.000000  21534.000000  21597.000000   \n",
       "mean   1.509941e+04      1.494096      0.007596      0.233863      3.409825   \n",
       "std    4.141264e+04      0.539683      0.086825      0.765686      0.650546   \n",
       "min    5.200000e+02      1.000000      0.000000      0.000000      1.000000   \n",
       "25%    5.040000e+03      1.000000      0.000000      0.000000      3.000000   \n",
       "50%    7.618000e+03      1.500000      0.000000      0.000000      3.000000   \n",
       "75%    1.068500e+04      2.000000      0.000000      0.000000      4.000000   \n",
       "max    1.651359e+06      3.500000      1.000000      4.000000      5.000000   \n",
       "\n",
       "              grade    sqft_above      yr_built  yr_renovated       zipcode  \\\n",
       "count  21597.000000  21597.000000  21597.000000  17755.000000  21597.000000   \n",
       "mean       7.657915   1788.596842   1970.999676     83.636778  98077.951845   \n",
       "std        1.173200    827.759761     29.375234    399.946414     53.513072   \n",
       "min        3.000000    370.000000   1900.000000      0.000000  98001.000000   \n",
       "25%        7.000000   1190.000000   1951.000000      0.000000  98033.000000   \n",
       "50%        7.000000   1560.000000   1975.000000      0.000000  98065.000000   \n",
       "75%        8.000000   2210.000000   1997.000000      0.000000  98118.000000   \n",
       "max       13.000000   9410.000000   2015.000000   2015.000000  98199.000000   \n",
       "\n",
       "                lat          long  sqft_living15     sqft_lot15  \n",
       "count  21597.000000  21597.000000   21597.000000   21597.000000  \n",
       "mean      47.560093   -122.213982    1986.620318   12758.283512  \n",
       "std        0.138552      0.140724     685.230472   27274.441950  \n",
       "min       47.155900   -122.519000     399.000000     651.000000  \n",
       "25%       47.471100   -122.328000    1490.000000    5100.000000  \n",
       "50%       47.571800   -122.231000    1840.000000    7620.000000  \n",
       "75%       47.678000   -122.125000    2360.000000   10083.000000  \n",
       "max       47.777600   -121.315000    6210.000000  871200.000000  "
      ]
     },
     "execution_count": 7,
     "metadata": {},
     "output_type": "execute_result"
    }
   ],
   "source": [
    "df.describe()"
   ]
  },
  {
   "cell_type": "code",
   "execution_count": 8,
   "metadata": {
    "ExecuteTime": {
     "end_time": "2021-01-05T19:03:08.182489Z",
     "start_time": "2021-01-05T19:03:08.137225Z"
    }
   },
   "outputs": [
    {
     "data": {
      "text/html": [
       "<div>\n",
       "<style scoped>\n",
       "    .dataframe tbody tr th:only-of-type {\n",
       "        vertical-align: middle;\n",
       "    }\n",
       "\n",
       "    .dataframe tbody tr th {\n",
       "        vertical-align: top;\n",
       "    }\n",
       "\n",
       "    .dataframe thead th {\n",
       "        text-align: right;\n",
       "    }\n",
       "</style>\n",
       "<table border=\"1\" class=\"dataframe\">\n",
       "  <thead>\n",
       "    <tr style=\"text-align: right;\">\n",
       "      <th></th>\n",
       "      <th>id</th>\n",
       "      <th>price</th>\n",
       "      <th>bedrooms</th>\n",
       "      <th>bathrooms</th>\n",
       "      <th>sqft_living</th>\n",
       "      <th>sqft_lot</th>\n",
       "      <th>floors</th>\n",
       "      <th>waterfront</th>\n",
       "      <th>view</th>\n",
       "      <th>condition</th>\n",
       "      <th>grade</th>\n",
       "      <th>sqft_above</th>\n",
       "      <th>yr_built</th>\n",
       "      <th>yr_renovated</th>\n",
       "      <th>zipcode</th>\n",
       "      <th>lat</th>\n",
       "      <th>long</th>\n",
       "      <th>sqft_living15</th>\n",
       "      <th>sqft_lot15</th>\n",
       "    </tr>\n",
       "  </thead>\n",
       "  <tbody>\n",
       "    <tr>\n",
       "      <th>id</th>\n",
       "      <td>1.000000</td>\n",
       "      <td>-0.016772</td>\n",
       "      <td>0.001150</td>\n",
       "      <td>0.005162</td>\n",
       "      <td>-0.012241</td>\n",
       "      <td>-0.131911</td>\n",
       "      <td>0.018608</td>\n",
       "      <td>-0.004176</td>\n",
       "      <td>0.011592</td>\n",
       "      <td>-0.023803</td>\n",
       "      <td>0.008188</td>\n",
       "      <td>-0.010799</td>\n",
       "      <td>0.021617</td>\n",
       "      <td>-0.012010</td>\n",
       "      <td>-0.008211</td>\n",
       "      <td>-0.001798</td>\n",
       "      <td>0.020672</td>\n",
       "      <td>-0.002701</td>\n",
       "      <td>-0.138557</td>\n",
       "    </tr>\n",
       "    <tr>\n",
       "      <th>price</th>\n",
       "      <td>-0.016772</td>\n",
       "      <td>1.000000</td>\n",
       "      <td>0.308787</td>\n",
       "      <td>0.525906</td>\n",
       "      <td>0.701917</td>\n",
       "      <td>0.089876</td>\n",
       "      <td>0.256804</td>\n",
       "      <td>0.276295</td>\n",
       "      <td>0.395734</td>\n",
       "      <td>0.036056</td>\n",
       "      <td>0.667951</td>\n",
       "      <td>0.605368</td>\n",
       "      <td>0.053953</td>\n",
       "      <td>0.129599</td>\n",
       "      <td>-0.053402</td>\n",
       "      <td>0.306692</td>\n",
       "      <td>0.022036</td>\n",
       "      <td>0.585241</td>\n",
       "      <td>0.082845</td>\n",
       "    </tr>\n",
       "    <tr>\n",
       "      <th>bedrooms</th>\n",
       "      <td>0.001150</td>\n",
       "      <td>0.308787</td>\n",
       "      <td>1.000000</td>\n",
       "      <td>0.514508</td>\n",
       "      <td>0.578212</td>\n",
       "      <td>0.032471</td>\n",
       "      <td>0.177944</td>\n",
       "      <td>-0.002386</td>\n",
       "      <td>0.078523</td>\n",
       "      <td>0.026496</td>\n",
       "      <td>0.356563</td>\n",
       "      <td>0.479386</td>\n",
       "      <td>0.155670</td>\n",
       "      <td>0.018495</td>\n",
       "      <td>-0.154092</td>\n",
       "      <td>-0.009951</td>\n",
       "      <td>0.132054</td>\n",
       "      <td>0.393406</td>\n",
       "      <td>0.030690</td>\n",
       "    </tr>\n",
       "    <tr>\n",
       "      <th>bathrooms</th>\n",
       "      <td>0.005162</td>\n",
       "      <td>0.525906</td>\n",
       "      <td>0.514508</td>\n",
       "      <td>1.000000</td>\n",
       "      <td>0.755758</td>\n",
       "      <td>0.088373</td>\n",
       "      <td>0.502582</td>\n",
       "      <td>0.067282</td>\n",
       "      <td>0.186451</td>\n",
       "      <td>-0.126479</td>\n",
       "      <td>0.665838</td>\n",
       "      <td>0.686668</td>\n",
       "      <td>0.507173</td>\n",
       "      <td>0.051050</td>\n",
       "      <td>-0.204786</td>\n",
       "      <td>0.024280</td>\n",
       "      <td>0.224903</td>\n",
       "      <td>0.569884</td>\n",
       "      <td>0.088303</td>\n",
       "    </tr>\n",
       "    <tr>\n",
       "      <th>sqft_living</th>\n",
       "      <td>-0.012241</td>\n",
       "      <td>0.701917</td>\n",
       "      <td>0.578212</td>\n",
       "      <td>0.755758</td>\n",
       "      <td>1.000000</td>\n",
       "      <td>0.173453</td>\n",
       "      <td>0.353953</td>\n",
       "      <td>0.110230</td>\n",
       "      <td>0.282532</td>\n",
       "      <td>-0.059445</td>\n",
       "      <td>0.762779</td>\n",
       "      <td>0.876448</td>\n",
       "      <td>0.318152</td>\n",
       "      <td>0.055660</td>\n",
       "      <td>-0.199802</td>\n",
       "      <td>0.052155</td>\n",
       "      <td>0.241214</td>\n",
       "      <td>0.756402</td>\n",
       "      <td>0.184342</td>\n",
       "    </tr>\n",
       "    <tr>\n",
       "      <th>sqft_lot</th>\n",
       "      <td>-0.131911</td>\n",
       "      <td>0.089876</td>\n",
       "      <td>0.032471</td>\n",
       "      <td>0.088373</td>\n",
       "      <td>0.173453</td>\n",
       "      <td>1.000000</td>\n",
       "      <td>-0.004814</td>\n",
       "      <td>0.023143</td>\n",
       "      <td>0.075298</td>\n",
       "      <td>-0.008830</td>\n",
       "      <td>0.114731</td>\n",
       "      <td>0.184139</td>\n",
       "      <td>0.052946</td>\n",
       "      <td>0.004513</td>\n",
       "      <td>-0.129586</td>\n",
       "      <td>-0.085514</td>\n",
       "      <td>0.230227</td>\n",
       "      <td>0.144763</td>\n",
       "      <td>0.718204</td>\n",
       "    </tr>\n",
       "    <tr>\n",
       "      <th>floors</th>\n",
       "      <td>0.018608</td>\n",
       "      <td>0.256804</td>\n",
       "      <td>0.177944</td>\n",
       "      <td>0.502582</td>\n",
       "      <td>0.353953</td>\n",
       "      <td>-0.004814</td>\n",
       "      <td>1.000000</td>\n",
       "      <td>0.021883</td>\n",
       "      <td>0.028436</td>\n",
       "      <td>-0.264075</td>\n",
       "      <td>0.458794</td>\n",
       "      <td>0.523989</td>\n",
       "      <td>0.489193</td>\n",
       "      <td>0.003535</td>\n",
       "      <td>-0.059541</td>\n",
       "      <td>0.049239</td>\n",
       "      <td>0.125943</td>\n",
       "      <td>0.280102</td>\n",
       "      <td>-0.010722</td>\n",
       "    </tr>\n",
       "    <tr>\n",
       "      <th>waterfront</th>\n",
       "      <td>-0.004176</td>\n",
       "      <td>0.276295</td>\n",
       "      <td>-0.002386</td>\n",
       "      <td>0.067282</td>\n",
       "      <td>0.110230</td>\n",
       "      <td>0.023143</td>\n",
       "      <td>0.021883</td>\n",
       "      <td>1.000000</td>\n",
       "      <td>0.406654</td>\n",
       "      <td>0.017642</td>\n",
       "      <td>0.087383</td>\n",
       "      <td>0.075463</td>\n",
       "      <td>-0.026079</td>\n",
       "      <td>0.087244</td>\n",
       "      <td>0.031057</td>\n",
       "      <td>-0.012772</td>\n",
       "      <td>-0.039864</td>\n",
       "      <td>0.088860</td>\n",
       "      <td>0.032002</td>\n",
       "    </tr>\n",
       "    <tr>\n",
       "      <th>view</th>\n",
       "      <td>0.011592</td>\n",
       "      <td>0.395734</td>\n",
       "      <td>0.078523</td>\n",
       "      <td>0.186451</td>\n",
       "      <td>0.282532</td>\n",
       "      <td>0.075298</td>\n",
       "      <td>0.028436</td>\n",
       "      <td>0.406654</td>\n",
       "      <td>1.000000</td>\n",
       "      <td>0.045735</td>\n",
       "      <td>0.249727</td>\n",
       "      <td>0.166299</td>\n",
       "      <td>-0.054564</td>\n",
       "      <td>0.100964</td>\n",
       "      <td>0.085277</td>\n",
       "      <td>0.006141</td>\n",
       "      <td>-0.077894</td>\n",
       "      <td>0.279561</td>\n",
       "      <td>0.073332</td>\n",
       "    </tr>\n",
       "    <tr>\n",
       "      <th>condition</th>\n",
       "      <td>-0.023803</td>\n",
       "      <td>0.036056</td>\n",
       "      <td>0.026496</td>\n",
       "      <td>-0.126479</td>\n",
       "      <td>-0.059445</td>\n",
       "      <td>-0.008830</td>\n",
       "      <td>-0.264075</td>\n",
       "      <td>0.017642</td>\n",
       "      <td>0.045735</td>\n",
       "      <td>1.000000</td>\n",
       "      <td>-0.146896</td>\n",
       "      <td>-0.158904</td>\n",
       "      <td>-0.361592</td>\n",
       "      <td>-0.061858</td>\n",
       "      <td>0.002888</td>\n",
       "      <td>-0.015102</td>\n",
       "      <td>-0.105877</td>\n",
       "      <td>-0.093072</td>\n",
       "      <td>-0.003126</td>\n",
       "    </tr>\n",
       "    <tr>\n",
       "      <th>grade</th>\n",
       "      <td>0.008188</td>\n",
       "      <td>0.667951</td>\n",
       "      <td>0.356563</td>\n",
       "      <td>0.665838</td>\n",
       "      <td>0.762779</td>\n",
       "      <td>0.114731</td>\n",
       "      <td>0.458794</td>\n",
       "      <td>0.087383</td>\n",
       "      <td>0.249727</td>\n",
       "      <td>-0.146896</td>\n",
       "      <td>1.000000</td>\n",
       "      <td>0.756073</td>\n",
       "      <td>0.447865</td>\n",
       "      <td>0.016669</td>\n",
       "      <td>-0.185771</td>\n",
       "      <td>0.113575</td>\n",
       "      <td>0.200341</td>\n",
       "      <td>0.713867</td>\n",
       "      <td>0.120981</td>\n",
       "    </tr>\n",
       "    <tr>\n",
       "      <th>sqft_above</th>\n",
       "      <td>-0.010799</td>\n",
       "      <td>0.605368</td>\n",
       "      <td>0.479386</td>\n",
       "      <td>0.686668</td>\n",
       "      <td>0.876448</td>\n",
       "      <td>0.184139</td>\n",
       "      <td>0.523989</td>\n",
       "      <td>0.075463</td>\n",
       "      <td>0.166299</td>\n",
       "      <td>-0.158904</td>\n",
       "      <td>0.756073</td>\n",
       "      <td>1.000000</td>\n",
       "      <td>0.424037</td>\n",
       "      <td>0.022137</td>\n",
       "      <td>-0.261570</td>\n",
       "      <td>-0.001199</td>\n",
       "      <td>0.344842</td>\n",
       "      <td>0.731767</td>\n",
       "      <td>0.195077</td>\n",
       "    </tr>\n",
       "    <tr>\n",
       "      <th>yr_built</th>\n",
       "      <td>0.021617</td>\n",
       "      <td>0.053953</td>\n",
       "      <td>0.155670</td>\n",
       "      <td>0.507173</td>\n",
       "      <td>0.318152</td>\n",
       "      <td>0.052946</td>\n",
       "      <td>0.489193</td>\n",
       "      <td>-0.026079</td>\n",
       "      <td>-0.054564</td>\n",
       "      <td>-0.361592</td>\n",
       "      <td>0.447865</td>\n",
       "      <td>0.424037</td>\n",
       "      <td>1.000000</td>\n",
       "      <td>-0.225209</td>\n",
       "      <td>-0.347210</td>\n",
       "      <td>-0.148370</td>\n",
       "      <td>0.409993</td>\n",
       "      <td>0.326377</td>\n",
       "      <td>0.070777</td>\n",
       "    </tr>\n",
       "    <tr>\n",
       "      <th>yr_renovated</th>\n",
       "      <td>-0.012010</td>\n",
       "      <td>0.129599</td>\n",
       "      <td>0.018495</td>\n",
       "      <td>0.051050</td>\n",
       "      <td>0.055660</td>\n",
       "      <td>0.004513</td>\n",
       "      <td>0.003535</td>\n",
       "      <td>0.087244</td>\n",
       "      <td>0.100964</td>\n",
       "      <td>-0.061858</td>\n",
       "      <td>0.016669</td>\n",
       "      <td>0.022137</td>\n",
       "      <td>-0.225209</td>\n",
       "      <td>1.000000</td>\n",
       "      <td>0.069846</td>\n",
       "      <td>0.032145</td>\n",
       "      <td>-0.072156</td>\n",
       "      <td>-0.000247</td>\n",
       "      <td>0.003852</td>\n",
       "    </tr>\n",
       "    <tr>\n",
       "      <th>zipcode</th>\n",
       "      <td>-0.008211</td>\n",
       "      <td>-0.053402</td>\n",
       "      <td>-0.154092</td>\n",
       "      <td>-0.204786</td>\n",
       "      <td>-0.199802</td>\n",
       "      <td>-0.129586</td>\n",
       "      <td>-0.059541</td>\n",
       "      <td>0.031057</td>\n",
       "      <td>0.085277</td>\n",
       "      <td>0.002888</td>\n",
       "      <td>-0.185771</td>\n",
       "      <td>-0.261570</td>\n",
       "      <td>-0.347210</td>\n",
       "      <td>0.069846</td>\n",
       "      <td>1.000000</td>\n",
       "      <td>0.266742</td>\n",
       "      <td>-0.564259</td>\n",
       "      <td>-0.279299</td>\n",
       "      <td>-0.147294</td>\n",
       "    </tr>\n",
       "    <tr>\n",
       "      <th>lat</th>\n",
       "      <td>-0.001798</td>\n",
       "      <td>0.306692</td>\n",
       "      <td>-0.009951</td>\n",
       "      <td>0.024280</td>\n",
       "      <td>0.052155</td>\n",
       "      <td>-0.085514</td>\n",
       "      <td>0.049239</td>\n",
       "      <td>-0.012772</td>\n",
       "      <td>0.006141</td>\n",
       "      <td>-0.015102</td>\n",
       "      <td>0.113575</td>\n",
       "      <td>-0.001199</td>\n",
       "      <td>-0.148370</td>\n",
       "      <td>0.032145</td>\n",
       "      <td>0.266742</td>\n",
       "      <td>1.000000</td>\n",
       "      <td>-0.135371</td>\n",
       "      <td>0.048679</td>\n",
       "      <td>-0.086139</td>\n",
       "    </tr>\n",
       "    <tr>\n",
       "      <th>long</th>\n",
       "      <td>0.020672</td>\n",
       "      <td>0.022036</td>\n",
       "      <td>0.132054</td>\n",
       "      <td>0.224903</td>\n",
       "      <td>0.241214</td>\n",
       "      <td>0.230227</td>\n",
       "      <td>0.125943</td>\n",
       "      <td>-0.039864</td>\n",
       "      <td>-0.077894</td>\n",
       "      <td>-0.105877</td>\n",
       "      <td>0.200341</td>\n",
       "      <td>0.344842</td>\n",
       "      <td>0.409993</td>\n",
       "      <td>-0.072156</td>\n",
       "      <td>-0.564259</td>\n",
       "      <td>-0.135371</td>\n",
       "      <td>1.000000</td>\n",
       "      <td>0.335626</td>\n",
       "      <td>0.255586</td>\n",
       "    </tr>\n",
       "    <tr>\n",
       "      <th>sqft_living15</th>\n",
       "      <td>-0.002701</td>\n",
       "      <td>0.585241</td>\n",
       "      <td>0.393406</td>\n",
       "      <td>0.569884</td>\n",
       "      <td>0.756402</td>\n",
       "      <td>0.144763</td>\n",
       "      <td>0.280102</td>\n",
       "      <td>0.088860</td>\n",
       "      <td>0.279561</td>\n",
       "      <td>-0.093072</td>\n",
       "      <td>0.713867</td>\n",
       "      <td>0.731767</td>\n",
       "      <td>0.326377</td>\n",
       "      <td>-0.000247</td>\n",
       "      <td>-0.279299</td>\n",
       "      <td>0.048679</td>\n",
       "      <td>0.335626</td>\n",
       "      <td>1.000000</td>\n",
       "      <td>0.183515</td>\n",
       "    </tr>\n",
       "    <tr>\n",
       "      <th>sqft_lot15</th>\n",
       "      <td>-0.138557</td>\n",
       "      <td>0.082845</td>\n",
       "      <td>0.030690</td>\n",
       "      <td>0.088303</td>\n",
       "      <td>0.184342</td>\n",
       "      <td>0.718204</td>\n",
       "      <td>-0.010722</td>\n",
       "      <td>0.032002</td>\n",
       "      <td>0.073332</td>\n",
       "      <td>-0.003126</td>\n",
       "      <td>0.120981</td>\n",
       "      <td>0.195077</td>\n",
       "      <td>0.070777</td>\n",
       "      <td>0.003852</td>\n",
       "      <td>-0.147294</td>\n",
       "      <td>-0.086139</td>\n",
       "      <td>0.255586</td>\n",
       "      <td>0.183515</td>\n",
       "      <td>1.000000</td>\n",
       "    </tr>\n",
       "  </tbody>\n",
       "</table>\n",
       "</div>"
      ],
      "text/plain": [
       "                     id     price  bedrooms  bathrooms  sqft_living  sqft_lot  \\\n",
       "id             1.000000 -0.016772  0.001150   0.005162    -0.012241 -0.131911   \n",
       "price         -0.016772  1.000000  0.308787   0.525906     0.701917  0.089876   \n",
       "bedrooms       0.001150  0.308787  1.000000   0.514508     0.578212  0.032471   \n",
       "bathrooms      0.005162  0.525906  0.514508   1.000000     0.755758  0.088373   \n",
       "sqft_living   -0.012241  0.701917  0.578212   0.755758     1.000000  0.173453   \n",
       "sqft_lot      -0.131911  0.089876  0.032471   0.088373     0.173453  1.000000   \n",
       "floors         0.018608  0.256804  0.177944   0.502582     0.353953 -0.004814   \n",
       "waterfront    -0.004176  0.276295 -0.002386   0.067282     0.110230  0.023143   \n",
       "view           0.011592  0.395734  0.078523   0.186451     0.282532  0.075298   \n",
       "condition     -0.023803  0.036056  0.026496  -0.126479    -0.059445 -0.008830   \n",
       "grade          0.008188  0.667951  0.356563   0.665838     0.762779  0.114731   \n",
       "sqft_above    -0.010799  0.605368  0.479386   0.686668     0.876448  0.184139   \n",
       "yr_built       0.021617  0.053953  0.155670   0.507173     0.318152  0.052946   \n",
       "yr_renovated  -0.012010  0.129599  0.018495   0.051050     0.055660  0.004513   \n",
       "zipcode       -0.008211 -0.053402 -0.154092  -0.204786    -0.199802 -0.129586   \n",
       "lat           -0.001798  0.306692 -0.009951   0.024280     0.052155 -0.085514   \n",
       "long           0.020672  0.022036  0.132054   0.224903     0.241214  0.230227   \n",
       "sqft_living15 -0.002701  0.585241  0.393406   0.569884     0.756402  0.144763   \n",
       "sqft_lot15    -0.138557  0.082845  0.030690   0.088303     0.184342  0.718204   \n",
       "\n",
       "                 floors  waterfront      view  condition     grade  \\\n",
       "id             0.018608   -0.004176  0.011592  -0.023803  0.008188   \n",
       "price          0.256804    0.276295  0.395734   0.036056  0.667951   \n",
       "bedrooms       0.177944   -0.002386  0.078523   0.026496  0.356563   \n",
       "bathrooms      0.502582    0.067282  0.186451  -0.126479  0.665838   \n",
       "sqft_living    0.353953    0.110230  0.282532  -0.059445  0.762779   \n",
       "sqft_lot      -0.004814    0.023143  0.075298  -0.008830  0.114731   \n",
       "floors         1.000000    0.021883  0.028436  -0.264075  0.458794   \n",
       "waterfront     0.021883    1.000000  0.406654   0.017642  0.087383   \n",
       "view           0.028436    0.406654  1.000000   0.045735  0.249727   \n",
       "condition     -0.264075    0.017642  0.045735   1.000000 -0.146896   \n",
       "grade          0.458794    0.087383  0.249727  -0.146896  1.000000   \n",
       "sqft_above     0.523989    0.075463  0.166299  -0.158904  0.756073   \n",
       "yr_built       0.489193   -0.026079 -0.054564  -0.361592  0.447865   \n",
       "yr_renovated   0.003535    0.087244  0.100964  -0.061858  0.016669   \n",
       "zipcode       -0.059541    0.031057  0.085277   0.002888 -0.185771   \n",
       "lat            0.049239   -0.012772  0.006141  -0.015102  0.113575   \n",
       "long           0.125943   -0.039864 -0.077894  -0.105877  0.200341   \n",
       "sqft_living15  0.280102    0.088860  0.279561  -0.093072  0.713867   \n",
       "sqft_lot15    -0.010722    0.032002  0.073332  -0.003126  0.120981   \n",
       "\n",
       "               sqft_above  yr_built  yr_renovated   zipcode       lat  \\\n",
       "id              -0.010799  0.021617     -0.012010 -0.008211 -0.001798   \n",
       "price            0.605368  0.053953      0.129599 -0.053402  0.306692   \n",
       "bedrooms         0.479386  0.155670      0.018495 -0.154092 -0.009951   \n",
       "bathrooms        0.686668  0.507173      0.051050 -0.204786  0.024280   \n",
       "sqft_living      0.876448  0.318152      0.055660 -0.199802  0.052155   \n",
       "sqft_lot         0.184139  0.052946      0.004513 -0.129586 -0.085514   \n",
       "floors           0.523989  0.489193      0.003535 -0.059541  0.049239   \n",
       "waterfront       0.075463 -0.026079      0.087244  0.031057 -0.012772   \n",
       "view             0.166299 -0.054564      0.100964  0.085277  0.006141   \n",
       "condition       -0.158904 -0.361592     -0.061858  0.002888 -0.015102   \n",
       "grade            0.756073  0.447865      0.016669 -0.185771  0.113575   \n",
       "sqft_above       1.000000  0.424037      0.022137 -0.261570 -0.001199   \n",
       "yr_built         0.424037  1.000000     -0.225209 -0.347210 -0.148370   \n",
       "yr_renovated     0.022137 -0.225209      1.000000  0.069846  0.032145   \n",
       "zipcode         -0.261570 -0.347210      0.069846  1.000000  0.266742   \n",
       "lat             -0.001199 -0.148370      0.032145  0.266742  1.000000   \n",
       "long             0.344842  0.409993     -0.072156 -0.564259 -0.135371   \n",
       "sqft_living15    0.731767  0.326377     -0.000247 -0.279299  0.048679   \n",
       "sqft_lot15       0.195077  0.070777      0.003852 -0.147294 -0.086139   \n",
       "\n",
       "                   long  sqft_living15  sqft_lot15  \n",
       "id             0.020672      -0.002701   -0.138557  \n",
       "price          0.022036       0.585241    0.082845  \n",
       "bedrooms       0.132054       0.393406    0.030690  \n",
       "bathrooms      0.224903       0.569884    0.088303  \n",
       "sqft_living    0.241214       0.756402    0.184342  \n",
       "sqft_lot       0.230227       0.144763    0.718204  \n",
       "floors         0.125943       0.280102   -0.010722  \n",
       "waterfront    -0.039864       0.088860    0.032002  \n",
       "view          -0.077894       0.279561    0.073332  \n",
       "condition     -0.105877      -0.093072   -0.003126  \n",
       "grade          0.200341       0.713867    0.120981  \n",
       "sqft_above     0.344842       0.731767    0.195077  \n",
       "yr_built       0.409993       0.326377    0.070777  \n",
       "yr_renovated  -0.072156      -0.000247    0.003852  \n",
       "zipcode       -0.564259      -0.279299   -0.147294  \n",
       "lat           -0.135371       0.048679   -0.086139  \n",
       "long           1.000000       0.335626    0.255586  \n",
       "sqft_living15  0.335626       1.000000    0.183515  \n",
       "sqft_lot15     0.255586       0.183515    1.000000  "
      ]
     },
     "execution_count": 8,
     "metadata": {},
     "output_type": "execute_result"
    }
   ],
   "source": [
    "df.corr()"
   ]
  },
  {
   "cell_type": "code",
   "execution_count": 9,
   "metadata": {
    "ExecuteTime": {
     "end_time": "2021-01-05T19:03:08.629279Z",
     "start_time": "2021-01-05T19:03:08.185316Z"
    }
   },
   "outputs": [
    {
     "data": {
      "text/plain": [
       "<AxesSubplot:>"
      ]
     },
     "execution_count": 9,
     "metadata": {},
     "output_type": "execute_result"
    },
    {
     "data": {
      "image/png": "[encoded data removed]",
      "text/plain": [
       "<Figure size 864x648 with 2 Axes>"
      ]
     },
     "metadata": {
      "needs_background": "light"
     },
     "output_type": "display_data"
    }
   ],
   "source": [
    "plt.figure(figsize=(12,9))\n",
    "sns.heatmap(df.corr())"
   ]
  },
  {
   "cell_type": "code",
   "execution_count": 10,
   "metadata": {
    "ExecuteTime": {
     "end_time": "2021-01-05T19:03:08.638437Z",
     "start_time": "2021-01-05T19:03:08.631260Z"
    }
   },
   "outputs": [
    {
     "data": {
      "text/plain": [
       "id                  0\n",
       "date                0\n",
       "price               0\n",
       "bedrooms            0\n",
       "bathrooms           0\n",
       "sqft_living         0\n",
       "sqft_lot            0\n",
       "floors              0\n",
       "waterfront       2376\n",
       "view               63\n",
       "condition           0\n",
       "grade               0\n",
       "sqft_above          0\n",
       "sqft_basement       0\n",
       "yr_built            0\n",
       "yr_renovated     3842\n",
       "zipcode             0\n",
       "lat                 0\n",
       "long                0\n",
       "sqft_living15       0\n",
       "sqft_lot15          0\n",
       "dtype: int64"
      ]
     },
     "execution_count": 10,
     "metadata": {},
     "output_type": "execute_result"
    }
   ],
   "source": [
    "df.isna().sum()"
   ]
  },
  {
   "cell_type": "code",
   "execution_count": 11,
   "metadata": {
    "ExecuteTime": {
     "end_time": "2021-01-05T19:03:08.642886Z",
     "start_time": "2021-01-05T19:03:08.639718Z"
    }
   },
   "outputs": [],
   "source": [
    "df.drop(columns=[\"sqft_above\"], inplace= True)"
   ]
  },
  {
   "cell_type": "code",
   "execution_count": 12,
   "metadata": {
    "ExecuteTime": {
     "end_time": "2021-01-05T19:03:08.655463Z",
     "start_time": "2021-01-05T19:03:08.644418Z"
    }
   },
   "outputs": [
    {
     "name": "stdout",
     "output_type": "stream",
     "text": [
      "<class 'pandas.core.frame.DataFrame'>\n",
      "RangeIndex: 21597 entries, 0 to 21596\n",
      "Data columns (total 20 columns):\n",
      " #   Column         Non-Null Count  Dtype  \n",
      "---  ------         --------------  -----  \n",
      " 0   id             21597 non-null  int64  \n",
      " 1   date           21597 non-null  object \n",
      " 2   price          21597 non-null  float64\n",
      " 3   bedrooms       21597 non-null  int64  \n",
      " 4   bathrooms      21597 non-null  float64\n",
      " 5   sqft_living    21597 non-null  int64  \n",
      " 6   sqft_lot       21597 non-null  int64  \n",
      " 7   floors         21597 non-null  float64\n",
      " 8   waterfront     19221 non-null  float64\n",
      " 9   view           21534 non-null  float64\n",
      " 10  condition      21597 non-null  int64  \n",
      " 11  grade          21597 non-null  int64  \n",
      " 12  sqft_basement  21597 non-null  object \n",
      " 13  yr_built       21597 non-null  int64  \n",
      " 14  yr_renovated   17755 non-null  float64\n",
      " 15  zipcode        21597 non-null  int64  \n",
      " 16  lat            21597 non-null  float64\n",
      " 17  long           21597 non-null  float64\n",
      " 18  sqft_living15  21597 non-null  int64  \n",
      " 19  sqft_lot15     21597 non-null  int64  \n",
      "dtypes: float64(8), int64(10), object(2)\n",
      "memory usage: 3.3+ MB\n"
     ]
    }
   ],
   "source": [
    "df.info()"
   ]
  },
  {
   "cell_type": "code",
   "execution_count": 13,
   "metadata": {
    "ExecuteTime": {
     "end_time": "2021-01-05T19:03:08.682309Z",
     "start_time": "2021-01-05T19:03:08.658067Z"
    }
   },
   "outputs": [],
   "source": [
    "df.dropna(inplace=True)"
   ]
  },
  {
   "cell_type": "code",
   "execution_count": 14,
   "metadata": {
    "ExecuteTime": {
     "end_time": "2021-01-05T19:03:08.695428Z",
     "start_time": "2021-01-05T19:03:08.683962Z"
    }
   },
   "outputs": [
    {
     "name": "stdout",
     "output_type": "stream",
     "text": [
      "<class 'pandas.core.frame.DataFrame'>\n",
      "Int64Index: 15762 entries, 1 to 21596\n",
      "Data columns (total 20 columns):\n",
      " #   Column         Non-Null Count  Dtype  \n",
      "---  ------         --------------  -----  \n",
      " 0   id             15762 non-null  int64  \n",
      " 1   date           15762 non-null  object \n",
      " 2   price          15762 non-null  float64\n",
      " 3   bedrooms       15762 non-null  int64  \n",
      " 4   bathrooms      15762 non-null  float64\n",
      " 5   sqft_living    15762 non-null  int64  \n",
      " 6   sqft_lot       15762 non-null  int64  \n",
      " 7   floors         15762 non-null  float64\n",
      " 8   waterfront     15762 non-null  float64\n",
      " 9   view           15762 non-null  float64\n",
      " 10  condition      15762 non-null  int64  \n",
      " 11  grade          15762 non-null  int64  \n",
      " 12  sqft_basement  15762 non-null  object \n",
      " 13  yr_built       15762 non-null  int64  \n",
      " 14  yr_renovated   15762 non-null  float64\n",
      " 15  zipcode        15762 non-null  int64  \n",
      " 16  lat            15762 non-null  float64\n",
      " 17  long           15762 non-null  float64\n",
      " 18  sqft_living15  15762 non-null  int64  \n",
      " 19  sqft_lot15     15762 non-null  int64  \n",
      "dtypes: float64(8), int64(10), object(2)\n",
      "memory usage: 2.5+ MB\n"
     ]
    }
   ],
   "source": [
    "df.info()"
   ]
  },
  {
   "cell_type": "code",
   "execution_count": 15,
   "metadata": {
    "ExecuteTime": {
     "end_time": "2021-01-05T19:03:08.701100Z",
     "start_time": "2021-01-05T19:03:08.697401Z"
    }
   },
   "outputs": [],
   "source": [
    "df.reset_index(inplace= True)"
   ]
  },
  {
   "cell_type": "code",
   "execution_count": 16,
   "metadata": {
    "ExecuteTime": {
     "end_time": "2021-01-05T19:03:08.716156Z",
     "start_time": "2021-01-05T19:03:08.703156Z"
    }
   },
   "outputs": [
    {
     "name": "stdout",
     "output_type": "stream",
     "text": [
      "<class 'pandas.core.frame.DataFrame'>\n",
      "RangeIndex: 15762 entries, 0 to 15761\n",
      "Data columns (total 21 columns):\n",
      " #   Column         Non-Null Count  Dtype  \n",
      "---  ------         --------------  -----  \n",
      " 0   index          15762 non-null  int64  \n",
      " 1   id             15762 non-null  int64  \n",
      " 2   date           15762 non-null  object \n",
      " 3   price          15762 non-null  float64\n",
      " 4   bedrooms       15762 non-null  int64  \n",
      " 5   bathrooms      15762 non-null  float64\n",
      " 6   sqft_living    15762 non-null  int64  \n",
      " 7   sqft_lot       15762 non-null  int64  \n",
      " 8   floors         15762 non-null  float64\n",
      " 9   waterfront     15762 non-null  float64\n",
      " 10  view           15762 non-null  float64\n",
      " 11  condition      15762 non-null  int64  \n",
      " 12  grade          15762 non-null  int64  \n",
      " 13  sqft_basement  15762 non-null  object \n",
      " 14  yr_built       15762 non-null  int64  \n",
      " 15  yr_renovated   15762 non-null  float64\n",
      " 16  zipcode        15762 non-null  int64  \n",
      " 17  lat            15762 non-null  float64\n",
      " 18  long           15762 non-null  float64\n",
      " 19  sqft_living15  15762 non-null  int64  \n",
      " 20  sqft_lot15     15762 non-null  int64  \n",
      "dtypes: float64(8), int64(11), object(2)\n",
      "memory usage: 2.5+ MB\n"
     ]
    }
   ],
   "source": [
    "df.info()"
   ]
  },
  {
   "cell_type": "code",
   "execution_count": 17,
   "metadata": {
    "ExecuteTime": {
     "end_time": "2021-01-05T19:03:08.923374Z",
     "start_time": "2021-01-05T19:03:08.718683Z"
    }
   },
   "outputs": [
    {
     "data": {
      "text/plain": [
       "<AxesSubplot:xlabel='bedrooms', ylabel='price'>"
      ]
     },
     "execution_count": 17,
     "metadata": {},
     "output_type": "execute_result"
    },
    {
     "data": {
      "image/png": "[encoded data removed]",
      "text/plain": [
       "<Figure size 432x288 with 1 Axes>"
      ]
     },
     "metadata": {
      "needs_background": "light"
     },
     "output_type": "display_data"
    }
   ],
   "source": [
    "df.plot.scatter(x = \"bedrooms\", y = \"price\")"
   ]
  },
  {
   "cell_type": "code",
   "execution_count": 18,
   "metadata": {
    "ExecuteTime": {
     "end_time": "2021-01-05T19:03:08.936087Z",
     "start_time": "2021-01-05T19:03:08.925221Z"
    },
    "scrolled": true
   },
   "outputs": [
    {
     "data": {
      "text/plain": [
       "0.0       9362\n",
       "?          333\n",
       "600.0      155\n",
       "500.0      151\n",
       "700.0      148\n",
       "          ... \n",
       "784.0        1\n",
       "2120.0       1\n",
       "2220.0       1\n",
       "3260.0       1\n",
       "374.0        1\n",
       "Name: sqft_basement, Length: 283, dtype: int64"
      ]
     },
     "execution_count": 18,
     "metadata": {},
     "output_type": "execute_result"
    }
   ],
   "source": [
    "df.sqft_basement.value_counts()"
   ]
  },
  {
   "cell_type": "code",
   "execution_count": 19,
   "metadata": {
    "ExecuteTime": {
     "end_time": "2021-01-05T19:03:12.323962Z",
     "start_time": "2021-01-05T19:03:08.938187Z"
    }
   },
   "outputs": [
    {
     "data": {
      "text/plain": [
       "<AxesSubplot:>"
      ]
     },
     "execution_count": 19,
     "metadata": {},
     "output_type": "execute_result"
    },
    {
     "data": {
      "image/png": "[encoded data removed]",
      "text/plain": [
       "<Figure size 432x288 with 1 Axes>"
      ]
     },
     "metadata": {
      "needs_background": "light"
     },
     "output_type": "display_data"
    }
   ],
   "source": [
    "df.sqft_basement.hist()"
   ]
  },
  {
   "cell_type": "code",
   "execution_count": 40,
   "metadata": {
    "ExecuteTime": {
     "end_time": "2021-01-05T19:09:05.885005Z",
     "start_time": "2021-01-05T19:09:05.880950Z"
    }
   },
   "outputs": [
    {
     "data": {
      "text/plain": [
       "0     538000.0\n",
       "1     604000.0\n",
       "2     510000.0\n",
       "3    1230000.0\n",
       "4     257500.0\n",
       "Name: price, dtype: float64"
      ]
     },
     "execution_count": 40,
     "metadata": {},
     "output_type": "execute_result"
    }
   ],
   "source": [
    "df.price[:5]"
   ]
  },
  {
   "cell_type": "code",
   "execution_count": 42,
   "metadata": {
    "ExecuteTime": {
     "end_time": "2021-01-05T19:09:35.240741Z",
     "start_time": "2021-01-05T19:09:35.235845Z"
    }
   },
   "outputs": [
    {
     "data": {
      "text/plain": [
       "pandas.core.series.Series"
      ]
     },
     "execution_count": 42,
     "metadata": {},
     "output_type": "execute_result"
    }
   ],
   "source": [
    "type(df.price.value_counts())#.head(5)"
   ]
  },
  {
   "cell_type": "code",
   "execution_count": 43,
   "metadata": {
    "ExecuteTime": {
     "end_time": "2021-01-05T19:09:47.737475Z",
     "start_time": "2021-01-05T19:09:47.691247Z"
    }
   },
   "outputs": [
    {
     "name": "stdout",
     "output_type": "stream",
     "text": [
      "index\n",
      "2047     0.000063\n",
      "6806     0.000063\n",
      "14994    0.000063\n",
      "8849     0.000063\n",
      "21135    0.000063\n",
      "Name: index, dtype: float64\n",
      "-------------------------------------------------------------\n",
      "id\n",
      "6632900574    0.000127\n",
      "9353300600    0.000127\n",
      "5101402435    0.000127\n",
      "722039087     0.000127\n",
      "1523049207    0.000127\n",
      "Name: id, dtype: float64\n",
      "-------------------------------------------------------------\n",
      "date\n",
      "6/25/2014    0.006535\n",
      "6/23/2014    0.006471\n",
      "7/14/2014    0.005900\n",
      "7/8/2014     0.005900\n",
      "4/28/2015    0.005900\n",
      "Name: date, dtype: float64\n",
      "-------------------------------------------------------------\n",
      "price\n",
      "350000.0    0.008184\n",
      "450000.0    0.007613\n",
      "500000.0    0.007296\n",
      "550000.0    0.007169\n",
      "425000.0    0.007042\n",
      "Name: price, dtype: float64\n",
      "-------------------------------------------------------------\n",
      "bedrooms\n",
      "3    0.451719\n",
      "4    0.322231\n",
      "2    0.127078\n",
      "5    0.075054\n",
      "6    0.012181\n",
      "Name: bedrooms, dtype: float64\n",
      "-------------------------------------------------------------\n",
      "bathrooms\n",
      "2.50    0.254029\n",
      "1.00    0.175168\n",
      "1.75    0.141226\n",
      "2.25    0.094341\n",
      "2.00    0.088504\n",
      "Name: bathrooms, dtype: float64\n",
      "-------------------------------------------------------------\n",
      "sqft_living\n",
      "1820    0.006471\n",
      "1440    0.006344\n",
      "1400    0.006154\n",
      "1300    0.006027\n",
      "1320    0.005964\n",
      "Name: sqft_living, dtype: float64\n",
      "-------------------------------------------------------------\n",
      "sqft_lot\n",
      "5000    0.017574\n",
      "6000    0.012943\n",
      "4000    0.011230\n",
      "7200    0.009580\n",
      "4800    0.005646\n",
      "Name: sqft_lot, dtype: float64\n",
      "-------------------------------------------------------------\n",
      "floors\n",
      "1.0    0.493402\n",
      "2.0    0.383771\n",
      "1.5    0.087172\n",
      "3.0    0.027852\n",
      "2.5    0.007423\n",
      "Name: floors, dtype: float64\n",
      "-------------------------------------------------------------\n",
      "waterfront\n",
      "0.0    0.992387\n",
      "1.0    0.007613\n",
      "Name: waterfront, dtype: float64\n",
      "-------------------------------------------------------------\n",
      "view\n",
      "0.0    0.903502\n",
      "2.0    0.043649\n",
      "3.0    0.022078\n",
      "1.0    0.015544\n",
      "4.0    0.015226\n",
      "Name: view, dtype: float64\n",
      "-------------------------------------------------------------\n",
      "condition\n",
      "3    0.648458\n",
      "4    0.262467\n",
      "5    0.079558\n",
      "2    0.008311\n",
      "1    0.001205\n",
      "Name: condition, dtype: float64\n",
      "-------------------------------------------------------------\n",
      "grade\n",
      "7     0.414859\n",
      "8     0.281563\n",
      "9     0.121812\n",
      "6     0.094024\n",
      "10    0.052785\n",
      "Name: grade, dtype: float64\n",
      "-------------------------------------------------------------\n",
      "sqft_basement\n",
      "0.0      0.593960\n",
      "?        0.021127\n",
      "600.0    0.009834\n",
      "500.0    0.009580\n",
      "700.0    0.009390\n",
      "Name: sqft_basement, dtype: float64\n",
      "-------------------------------------------------------------\n",
      "yr_built\n",
      "2014    0.025377\n",
      "2006    0.021254\n",
      "2005    0.020746\n",
      "2007    0.019541\n",
      "2004    0.019287\n",
      "Name: yr_built, dtype: float64\n",
      "-------------------------------------------------------------\n",
      "yr_renovated\n",
      "0.0       0.958698\n",
      "2014.0    0.004060\n",
      "2013.0    0.001840\n",
      "2005.0    0.001713\n",
      "2000.0    0.001586\n",
      "Name: yr_renovated, dtype: float64\n",
      "-------------------------------------------------------------\n",
      "zipcode\n",
      "98038    0.027725\n",
      "98103    0.026964\n",
      "98052    0.026393\n",
      "98042    0.025885\n",
      "98115    0.025822\n",
      "Name: zipcode, dtype: float64\n",
      "-------------------------------------------------------------\n",
      "lat\n",
      "47.6846    0.000888\n",
      "47.6955    0.000888\n",
      "47.6624    0.000825\n",
      "47.6711    0.000825\n",
      "47.6647    0.000825\n",
      "Name: lat, dtype: float64\n",
      "-------------------------------------------------------------\n",
      "long\n",
      "-122.290    0.005456\n",
      "-122.365    0.004949\n",
      "-122.300    0.004885\n",
      "-122.288    0.004822\n",
      "-122.363    0.004695\n",
      "Name: long, dtype: float64\n",
      "-------------------------------------------------------------\n",
      "sqft_living15\n",
      "1560    0.009517\n",
      "1540    0.009263\n",
      "1440    0.009009\n",
      "1800    0.008248\n",
      "1500    0.007930\n",
      "Name: sqft_living15, dtype: float64\n",
      "-------------------------------------------------------------\n",
      "sqft_lot15\n",
      "5000    0.019858\n",
      "4000    0.016622\n",
      "6000    0.012752\n",
      "7200    0.009707\n",
      "7500    0.006471\n",
      "Name: sqft_lot15, dtype: float64\n",
      "-------------------------------------------------------------\n",
      "date_dateformat\n",
      "2014-06-25    0.006535\n",
      "2014-06-23    0.006471\n",
      "2015-04-28    0.005900\n",
      "2014-07-08    0.005900\n",
      "2014-07-14    0.005900\n",
      "Name: date_dateformat, dtype: float64\n",
      "-------------------------------------------------------------\n",
      "month\n",
      "5    0.113057\n",
      "7    0.103857\n",
      "4    0.103540\n",
      "6    0.099607\n",
      "8    0.090344\n",
      "Name: month, dtype: float64\n",
      "-------------------------------------------------------------\n"
     ]
    }
   ],
   "source": [
    "for col in df.columns:\n",
    "    print(col)\n",
    "    print(df[col].value_counts(normalize = True, ascending=False).head(5))\n",
    "    print(\"-------------------------------------------------------------\")"
   ]
  },
  {
   "cell_type": "code",
   "execution_count": 51,
   "metadata": {
    "ExecuteTime": {
     "end_time": "2021-01-05T19:15:19.614691Z",
     "start_time": "2021-01-05T19:15:19.611060Z"
    }
   },
   "outputs": [],
   "source": [
    "df['sqft_basement'] = df.sqft_basement.replace(to_replace= '?', value = 0.0)"
   ]
  },
  {
   "cell_type": "code",
   "execution_count": 52,
   "metadata": {
    "ExecuteTime": {
     "end_time": "2021-01-05T19:15:20.232850Z",
     "start_time": "2021-01-05T19:15:20.226204Z"
    }
   },
   "outputs": [
    {
     "data": {
      "text/plain": [
       "0.0       0.593960\n",
       "0         0.021127\n",
       "600.0     0.009834\n",
       "500.0     0.009580\n",
       "700.0     0.009390\n",
       "            ...   \n",
       "506.0     0.000063\n",
       "1798.0    0.000063\n",
       "207.0     0.000063\n",
       "2010.0    0.000063\n",
       "862.0     0.000063\n",
       "Name: sqft_basement, Length: 283, dtype: float64"
      ]
     },
     "execution_count": 52,
     "metadata": {},
     "output_type": "execute_result"
    }
   ],
   "source": [
    "df.sqft_basement.value_counts(normalize= True)"
   ]
  },
  {
   "cell_type": "markdown",
   "metadata": {},
   "source": [
    "# Feature engineering"
   ]
  },
  {
   "cell_type": "code",
   "execution_count": 20,
   "metadata": {
    "ExecuteTime": {
     "end_time": "2021-01-05T19:03:12.361550Z",
     "start_time": "2021-01-05T19:03:12.325660Z"
    }
   },
   "outputs": [],
   "source": [
    "df['date_dateformat'] = pd.to_datetime(df['date'])"
   ]
  },
  {
   "cell_type": "code",
   "execution_count": 21,
   "metadata": {
    "ExecuteTime": {
     "end_time": "2021-01-05T19:03:12.380328Z",
     "start_time": "2021-01-05T19:03:12.364942Z"
    }
   },
   "outputs": [
    {
     "name": "stdout",
     "output_type": "stream",
     "text": [
      "<class 'pandas.core.frame.DataFrame'>\n",
      "RangeIndex: 15762 entries, 0 to 15761\n",
      "Data columns (total 22 columns):\n",
      " #   Column           Non-Null Count  Dtype         \n",
      "---  ------           --------------  -----         \n",
      " 0   index            15762 non-null  int64         \n",
      " 1   id               15762 non-null  int64         \n",
      " 2   date             15762 non-null  object        \n",
      " 3   price            15762 non-null  float64       \n",
      " 4   bedrooms         15762 non-null  int64         \n",
      " 5   bathrooms        15762 non-null  float64       \n",
      " 6   sqft_living      15762 non-null  int64         \n",
      " 7   sqft_lot         15762 non-null  int64         \n",
      " 8   floors           15762 non-null  float64       \n",
      " 9   waterfront       15762 non-null  float64       \n",
      " 10  view             15762 non-null  float64       \n",
      " 11  condition        15762 non-null  int64         \n",
      " 12  grade            15762 non-null  int64         \n",
      " 13  sqft_basement    15762 non-null  object        \n",
      " 14  yr_built         15762 non-null  int64         \n",
      " 15  yr_renovated     15762 non-null  float64       \n",
      " 16  zipcode          15762 non-null  int64         \n",
      " 17  lat              15762 non-null  float64       \n",
      " 18  long             15762 non-null  float64       \n",
      " 19  sqft_living15    15762 non-null  int64         \n",
      " 20  sqft_lot15       15762 non-null  int64         \n",
      " 21  date_dateformat  15762 non-null  datetime64[ns]\n",
      "dtypes: datetime64[ns](1), float64(8), int64(11), object(2)\n",
      "memory usage: 2.6+ MB\n"
     ]
    }
   ],
   "source": [
    "df.info()"
   ]
  },
  {
   "cell_type": "code",
   "execution_count": 22,
   "metadata": {
    "ExecuteTime": {
     "end_time": "2021-01-05T19:03:12.388005Z",
     "start_time": "2021-01-05T19:03:12.383327Z"
    }
   },
   "outputs": [],
   "source": [
    "df['month'] = df.date_dateformat.dt.month"
   ]
  },
  {
   "cell_type": "code",
   "execution_count": 23,
   "metadata": {
    "ExecuteTime": {
     "end_time": "2021-01-05T19:03:12.411199Z",
     "start_time": "2021-01-05T19:03:12.395798Z"
    }
   },
   "outputs": [
    {
     "name": "stdout",
     "output_type": "stream",
     "text": [
      "<class 'pandas.core.frame.DataFrame'>\n",
      "RangeIndex: 15762 entries, 0 to 15761\n",
      "Data columns (total 23 columns):\n",
      " #   Column           Non-Null Count  Dtype         \n",
      "---  ------           --------------  -----         \n",
      " 0   index            15762 non-null  int64         \n",
      " 1   id               15762 non-null  int64         \n",
      " 2   date             15762 non-null  object        \n",
      " 3   price            15762 non-null  float64       \n",
      " 4   bedrooms         15762 non-null  int64         \n",
      " 5   bathrooms        15762 non-null  float64       \n",
      " 6   sqft_living      15762 non-null  int64         \n",
      " 7   sqft_lot         15762 non-null  int64         \n",
      " 8   floors           15762 non-null  float64       \n",
      " 9   waterfront       15762 non-null  float64       \n",
      " 10  view             15762 non-null  float64       \n",
      " 11  condition        15762 non-null  int64         \n",
      " 12  grade            15762 non-null  int64         \n",
      " 13  sqft_basement    15762 non-null  object        \n",
      " 14  yr_built         15762 non-null  int64         \n",
      " 15  yr_renovated     15762 non-null  float64       \n",
      " 16  zipcode          15762 non-null  int64         \n",
      " 17  lat              15762 non-null  float64       \n",
      " 18  long             15762 non-null  float64       \n",
      " 19  sqft_living15    15762 non-null  int64         \n",
      " 20  sqft_lot15       15762 non-null  int64         \n",
      " 21  date_dateformat  15762 non-null  datetime64[ns]\n",
      " 22  month            15762 non-null  int64         \n",
      "dtypes: datetime64[ns](1), float64(8), int64(12), object(2)\n",
      "memory usage: 2.8+ MB\n"
     ]
    }
   ],
   "source": [
    "df.info()"
   ]
  },
  {
   "cell_type": "code",
   "execution_count": 24,
   "metadata": {
    "ExecuteTime": {
     "end_time": "2021-01-05T19:03:12.435179Z",
     "start_time": "2021-01-05T19:03:12.415852Z"
    }
   },
   "outputs": [
    {
     "data": {
      "text/html": [
       "<div>\n",
       "<style scoped>\n",
       "    .dataframe tbody tr th:only-of-type {\n",
       "        vertical-align: middle;\n",
       "    }\n",
       "\n",
       "    .dataframe tbody tr th {\n",
       "        vertical-align: top;\n",
       "    }\n",
       "\n",
       "    .dataframe thead th {\n",
       "        text-align: right;\n",
       "    }\n",
       "</style>\n",
       "<table border=\"1\" class=\"dataframe\">\n",
       "  <thead>\n",
       "    <tr style=\"text-align: right;\">\n",
       "      <th></th>\n",
       "      <th>index</th>\n",
       "      <th>id</th>\n",
       "      <th>date</th>\n",
       "      <th>price</th>\n",
       "      <th>bedrooms</th>\n",
       "      <th>bathrooms</th>\n",
       "      <th>sqft_living</th>\n",
       "      <th>sqft_lot</th>\n",
       "      <th>floors</th>\n",
       "      <th>waterfront</th>\n",
       "      <th>view</th>\n",
       "      <th>condition</th>\n",
       "      <th>grade</th>\n",
       "      <th>sqft_basement</th>\n",
       "      <th>yr_built</th>\n",
       "      <th>yr_renovated</th>\n",
       "      <th>zipcode</th>\n",
       "      <th>lat</th>\n",
       "      <th>long</th>\n",
       "      <th>sqft_living15</th>\n",
       "      <th>sqft_lot15</th>\n",
       "      <th>date_dateformat</th>\n",
       "      <th>month</th>\n",
       "    </tr>\n",
       "  </thead>\n",
       "  <tbody>\n",
       "    <tr>\n",
       "      <th>0</th>\n",
       "      <td>1</td>\n",
       "      <td>6414100192</td>\n",
       "      <td>12/9/2014</td>\n",
       "      <td>538000.0</td>\n",
       "      <td>3</td>\n",
       "      <td>2.25</td>\n",
       "      <td>2570</td>\n",
       "      <td>7242</td>\n",
       "      <td>2.0</td>\n",
       "      <td>0.0</td>\n",
       "      <td>0.0</td>\n",
       "      <td>3</td>\n",
       "      <td>7</td>\n",
       "      <td>400.0</td>\n",
       "      <td>1951</td>\n",
       "      <td>1991.0</td>\n",
       "      <td>98125</td>\n",
       "      <td>47.7210</td>\n",
       "      <td>-122.319</td>\n",
       "      <td>1690</td>\n",
       "      <td>7639</td>\n",
       "      <td>2014-12-09</td>\n",
       "      <td>12</td>\n",
       "    </tr>\n",
       "    <tr>\n",
       "      <th>1</th>\n",
       "      <td>3</td>\n",
       "      <td>2487200875</td>\n",
       "      <td>12/9/2014</td>\n",
       "      <td>604000.0</td>\n",
       "      <td>4</td>\n",
       "      <td>3.00</td>\n",
       "      <td>1960</td>\n",
       "      <td>5000</td>\n",
       "      <td>1.0</td>\n",
       "      <td>0.0</td>\n",
       "      <td>0.0</td>\n",
       "      <td>5</td>\n",
       "      <td>7</td>\n",
       "      <td>910.0</td>\n",
       "      <td>1965</td>\n",
       "      <td>0.0</td>\n",
       "      <td>98136</td>\n",
       "      <td>47.5208</td>\n",
       "      <td>-122.393</td>\n",
       "      <td>1360</td>\n",
       "      <td>5000</td>\n",
       "      <td>2014-12-09</td>\n",
       "      <td>12</td>\n",
       "    </tr>\n",
       "    <tr>\n",
       "      <th>2</th>\n",
       "      <td>4</td>\n",
       "      <td>1954400510</td>\n",
       "      <td>2/18/2015</td>\n",
       "      <td>510000.0</td>\n",
       "      <td>3</td>\n",
       "      <td>2.00</td>\n",
       "      <td>1680</td>\n",
       "      <td>8080</td>\n",
       "      <td>1.0</td>\n",
       "      <td>0.0</td>\n",
       "      <td>0.0</td>\n",
       "      <td>3</td>\n",
       "      <td>8</td>\n",
       "      <td>0.0</td>\n",
       "      <td>1987</td>\n",
       "      <td>0.0</td>\n",
       "      <td>98074</td>\n",
       "      <td>47.6168</td>\n",
       "      <td>-122.045</td>\n",
       "      <td>1800</td>\n",
       "      <td>7503</td>\n",
       "      <td>2015-02-18</td>\n",
       "      <td>2</td>\n",
       "    </tr>\n",
       "    <tr>\n",
       "      <th>3</th>\n",
       "      <td>5</td>\n",
       "      <td>7237550310</td>\n",
       "      <td>5/12/2014</td>\n",
       "      <td>1230000.0</td>\n",
       "      <td>4</td>\n",
       "      <td>4.50</td>\n",
       "      <td>5420</td>\n",
       "      <td>101930</td>\n",
       "      <td>1.0</td>\n",
       "      <td>0.0</td>\n",
       "      <td>0.0</td>\n",
       "      <td>3</td>\n",
       "      <td>11</td>\n",
       "      <td>1530.0</td>\n",
       "      <td>2001</td>\n",
       "      <td>0.0</td>\n",
       "      <td>98053</td>\n",
       "      <td>47.6561</td>\n",
       "      <td>-122.005</td>\n",
       "      <td>4760</td>\n",
       "      <td>101930</td>\n",
       "      <td>2014-05-12</td>\n",
       "      <td>5</td>\n",
       "    </tr>\n",
       "    <tr>\n",
       "      <th>4</th>\n",
       "      <td>6</td>\n",
       "      <td>1321400060</td>\n",
       "      <td>6/27/2014</td>\n",
       "      <td>257500.0</td>\n",
       "      <td>3</td>\n",
       "      <td>2.25</td>\n",
       "      <td>1715</td>\n",
       "      <td>6819</td>\n",
       "      <td>2.0</td>\n",
       "      <td>0.0</td>\n",
       "      <td>0.0</td>\n",
       "      <td>3</td>\n",
       "      <td>7</td>\n",
       "      <td>?</td>\n",
       "      <td>1995</td>\n",
       "      <td>0.0</td>\n",
       "      <td>98003</td>\n",
       "      <td>47.3097</td>\n",
       "      <td>-122.327</td>\n",
       "      <td>2238</td>\n",
       "      <td>6819</td>\n",
       "      <td>2014-06-27</td>\n",
       "      <td>6</td>\n",
       "    </tr>\n",
       "  </tbody>\n",
       "</table>\n",
       "</div>"
      ],
      "text/plain": [
       "   index          id       date      price  bedrooms  bathrooms  sqft_living  \\\n",
       "0      1  6414100192  12/9/2014   538000.0         3       2.25         2570   \n",
       "1      3  2487200875  12/9/2014   604000.0         4       3.00         1960   \n",
       "2      4  1954400510  2/18/2015   510000.0         3       2.00         1680   \n",
       "3      5  7237550310  5/12/2014  1230000.0         4       4.50         5420   \n",
       "4      6  1321400060  6/27/2014   257500.0         3       2.25         1715   \n",
       "\n",
       "   sqft_lot  floors  waterfront  view  condition  grade sqft_basement  \\\n",
       "0      7242     2.0         0.0   0.0          3      7         400.0   \n",
       "1      5000     1.0         0.0   0.0          5      7         910.0   \n",
       "2      8080     1.0         0.0   0.0          3      8           0.0   \n",
       "3    101930     1.0         0.0   0.0          3     11        1530.0   \n",
       "4      6819     2.0         0.0   0.0          3      7             ?   \n",
       "\n",
       "   yr_built  yr_renovated  zipcode      lat     long  sqft_living15  \\\n",
       "0      1951        1991.0    98125  47.7210 -122.319           1690   \n",
       "1      1965           0.0    98136  47.5208 -122.393           1360   \n",
       "2      1987           0.0    98074  47.6168 -122.045           1800   \n",
       "3      2001           0.0    98053  47.6561 -122.005           4760   \n",
       "4      1995           0.0    98003  47.3097 -122.327           2238   \n",
       "\n",
       "   sqft_lot15 date_dateformat  month  \n",
       "0        7639      2014-12-09     12  \n",
       "1        5000      2014-12-09     12  \n",
       "2        7503      2015-02-18      2  \n",
       "3      101930      2014-05-12      5  \n",
       "4        6819      2014-06-27      6  "
      ]
     },
     "execution_count": 24,
     "metadata": {},
     "output_type": "execute_result"
    }
   ],
   "source": [
    "df.head()"
   ]
  },
  {
   "cell_type": "code",
   "execution_count": 25,
   "metadata": {
    "ExecuteTime": {
     "end_time": "2021-01-05T19:03:12.468124Z",
     "start_time": "2021-01-05T19:03:12.437037Z"
    }
   },
   "outputs": [
    {
     "data": {
      "text/html": [
       "<div>\n",
       "<style scoped>\n",
       "    .dataframe tbody tr th:only-of-type {\n",
       "        vertical-align: middle;\n",
       "    }\n",
       "\n",
       "    .dataframe tbody tr th {\n",
       "        vertical-align: top;\n",
       "    }\n",
       "\n",
       "    .dataframe thead th {\n",
       "        text-align: right;\n",
       "    }\n",
       "</style>\n",
       "<table border=\"1\" class=\"dataframe\">\n",
       "  <thead>\n",
       "    <tr style=\"text-align: right;\">\n",
       "      <th></th>\n",
       "      <th>index</th>\n",
       "      <th>id</th>\n",
       "      <th>price</th>\n",
       "      <th>bedrooms</th>\n",
       "      <th>bathrooms</th>\n",
       "      <th>sqft_living</th>\n",
       "      <th>sqft_lot</th>\n",
       "      <th>floors</th>\n",
       "      <th>waterfront</th>\n",
       "      <th>view</th>\n",
       "      <th>condition</th>\n",
       "      <th>grade</th>\n",
       "      <th>yr_built</th>\n",
       "      <th>yr_renovated</th>\n",
       "      <th>zipcode</th>\n",
       "      <th>lat</th>\n",
       "      <th>long</th>\n",
       "      <th>sqft_living15</th>\n",
       "      <th>sqft_lot15</th>\n",
       "    </tr>\n",
       "    <tr>\n",
       "      <th>month</th>\n",
       "      <th></th>\n",
       "      <th></th>\n",
       "      <th></th>\n",
       "      <th></th>\n",
       "      <th></th>\n",
       "      <th></th>\n",
       "      <th></th>\n",
       "      <th></th>\n",
       "      <th></th>\n",
       "      <th></th>\n",
       "      <th></th>\n",
       "      <th></th>\n",
       "      <th></th>\n",
       "      <th></th>\n",
       "      <th></th>\n",
       "      <th></th>\n",
       "      <th></th>\n",
       "      <th></th>\n",
       "      <th></th>\n",
       "    </tr>\n",
       "  </thead>\n",
       "  <tbody>\n",
       "    <tr>\n",
       "      <th>1</th>\n",
       "      <td>10791.393981</td>\n",
       "      <td>4.616179e+09</td>\n",
       "      <td>530263.239398</td>\n",
       "      <td>3.411765</td>\n",
       "      <td>2.148769</td>\n",
       "      <td>2106.811218</td>\n",
       "      <td>17929.020520</td>\n",
       "      <td>1.489056</td>\n",
       "      <td>0.008208</td>\n",
       "      <td>0.217510</td>\n",
       "      <td>3.370725</td>\n",
       "      <td>7.648427</td>\n",
       "      <td>1972.009576</td>\n",
       "      <td>73.781122</td>\n",
       "      <td>98076.484268</td>\n",
       "      <td>47.552157</td>\n",
       "      <td>-122.211406</td>\n",
       "      <td>1981.062927</td>\n",
       "      <td>13144.285910</td>\n",
       "    </tr>\n",
       "    <tr>\n",
       "      <th>2</th>\n",
       "      <td>10562.006764</td>\n",
       "      <td>4.613242e+09</td>\n",
       "      <td>506751.232244</td>\n",
       "      <td>3.350620</td>\n",
       "      <td>2.034386</td>\n",
       "      <td>2001.934611</td>\n",
       "      <td>13486.126268</td>\n",
       "      <td>1.443630</td>\n",
       "      <td>0.005637</td>\n",
       "      <td>0.251409</td>\n",
       "      <td>3.413754</td>\n",
       "      <td>7.545660</td>\n",
       "      <td>1970.254791</td>\n",
       "      <td>56.196167</td>\n",
       "      <td>98077.740699</td>\n",
       "      <td>47.545725</td>\n",
       "      <td>-122.219930</td>\n",
       "      <td>1934.414882</td>\n",
       "      <td>11058.401353</td>\n",
       "    </tr>\n",
       "    <tr>\n",
       "      <th>3</th>\n",
       "      <td>10920.462166</td>\n",
       "      <td>4.666778e+09</td>\n",
       "      <td>549563.877596</td>\n",
       "      <td>3.396142</td>\n",
       "      <td>2.076039</td>\n",
       "      <td>2031.893175</td>\n",
       "      <td>16147.027448</td>\n",
       "      <td>1.470697</td>\n",
       "      <td>0.005935</td>\n",
       "      <td>0.230712</td>\n",
       "      <td>3.361276</td>\n",
       "      <td>7.617211</td>\n",
       "      <td>1970.836795</td>\n",
       "      <td>85.843472</td>\n",
       "      <td>98076.872404</td>\n",
       "      <td>47.552390</td>\n",
       "      <td>-122.213640</td>\n",
       "      <td>1965.747774</td>\n",
       "      <td>13277.220326</td>\n",
       "    </tr>\n",
       "    <tr>\n",
       "      <th>4</th>\n",
       "      <td>10695.833946</td>\n",
       "      <td>4.697492e+09</td>\n",
       "      <td>564719.093137</td>\n",
       "      <td>3.384191</td>\n",
       "      <td>2.133885</td>\n",
       "      <td>2076.750613</td>\n",
       "      <td>14449.430760</td>\n",
       "      <td>1.505821</td>\n",
       "      <td>0.007966</td>\n",
       "      <td>0.231005</td>\n",
       "      <td>3.359681</td>\n",
       "      <td>7.674020</td>\n",
       "      <td>1972.416667</td>\n",
       "      <td>63.555760</td>\n",
       "      <td>98079.017157</td>\n",
       "      <td>47.562695</td>\n",
       "      <td>-122.212496</td>\n",
       "      <td>1996.256127</td>\n",
       "      <td>12880.399510</td>\n",
       "    </tr>\n",
       "    <tr>\n",
       "      <th>5</th>\n",
       "      <td>10624.035354</td>\n",
       "      <td>4.657998e+09</td>\n",
       "      <td>545977.942200</td>\n",
       "      <td>3.354097</td>\n",
       "      <td>2.109848</td>\n",
       "      <td>2078.739057</td>\n",
       "      <td>16286.796857</td>\n",
       "      <td>1.483165</td>\n",
       "      <td>0.004489</td>\n",
       "      <td>0.230640</td>\n",
       "      <td>3.420875</td>\n",
       "      <td>7.667789</td>\n",
       "      <td>1970.211560</td>\n",
       "      <td>103.160494</td>\n",
       "      <td>98078.826599</td>\n",
       "      <td>47.562516</td>\n",
       "      <td>-122.215088</td>\n",
       "      <td>1981.072391</td>\n",
       "      <td>13488.669473</td>\n",
       "    </tr>\n",
       "    <tr>\n",
       "      <th>6</th>\n",
       "      <td>10552.357325</td>\n",
       "      <td>4.594381e+09</td>\n",
       "      <td>557425.136943</td>\n",
       "      <td>3.437580</td>\n",
       "      <td>2.164650</td>\n",
       "      <td>2139.772611</td>\n",
       "      <td>15219.347771</td>\n",
       "      <td>1.514650</td>\n",
       "      <td>0.009554</td>\n",
       "      <td>0.228662</td>\n",
       "      <td>3.469427</td>\n",
       "      <td>7.724841</td>\n",
       "      <td>1970.794904</td>\n",
       "      <td>72.361783</td>\n",
       "      <td>98078.617197</td>\n",
       "      <td>47.564551</td>\n",
       "      <td>-122.213238</td>\n",
       "      <td>2035.994268</td>\n",
       "      <td>13388.848408</td>\n",
       "    </tr>\n",
       "    <tr>\n",
       "      <th>7</th>\n",
       "      <td>10893.459988</td>\n",
       "      <td>4.543379e+09</td>\n",
       "      <td>539947.788027</td>\n",
       "      <td>3.379352</td>\n",
       "      <td>2.140348</td>\n",
       "      <td>2116.738546</td>\n",
       "      <td>14646.560782</td>\n",
       "      <td>1.512828</td>\n",
       "      <td>0.007330</td>\n",
       "      <td>0.216860</td>\n",
       "      <td>3.447159</td>\n",
       "      <td>7.707392</td>\n",
       "      <td>1971.753818</td>\n",
       "      <td>89.118509</td>\n",
       "      <td>98074.000611</td>\n",
       "      <td>47.556282</td>\n",
       "      <td>-122.203032</td>\n",
       "      <td>2030.573610</td>\n",
       "      <td>13299.398290</td>\n",
       "    </tr>\n",
       "    <tr>\n",
       "      <th>8</th>\n",
       "      <td>11126.661517</td>\n",
       "      <td>4.603071e+09</td>\n",
       "      <td>538253.176966</td>\n",
       "      <td>3.372893</td>\n",
       "      <td>2.143083</td>\n",
       "      <td>2101.985253</td>\n",
       "      <td>14272.971910</td>\n",
       "      <td>1.512289</td>\n",
       "      <td>0.005618</td>\n",
       "      <td>0.227528</td>\n",
       "      <td>3.425562</td>\n",
       "      <td>7.710674</td>\n",
       "      <td>1972.950140</td>\n",
       "      <td>84.096910</td>\n",
       "      <td>98076.836376</td>\n",
       "      <td>47.562934</td>\n",
       "      <td>-122.209002</td>\n",
       "      <td>2007.752809</td>\n",
       "      <td>12613.021770</td>\n",
       "    </tr>\n",
       "    <tr>\n",
       "      <th>9</th>\n",
       "      <td>10429.305491</td>\n",
       "      <td>4.426375e+09</td>\n",
       "      <td>533644.408353</td>\n",
       "      <td>3.352668</td>\n",
       "      <td>2.129737</td>\n",
       "      <td>2077.260634</td>\n",
       "      <td>14570.285383</td>\n",
       "      <td>1.488786</td>\n",
       "      <td>0.006187</td>\n",
       "      <td>0.247486</td>\n",
       "      <td>3.416860</td>\n",
       "      <td>7.648879</td>\n",
       "      <td>1970.230472</td>\n",
       "      <td>95.784996</td>\n",
       "      <td>98077.845321</td>\n",
       "      <td>47.563598</td>\n",
       "      <td>-122.214916</td>\n",
       "      <td>1987.939675</td>\n",
       "      <td>11388.989946</td>\n",
       "    </tr>\n",
       "    <tr>\n",
       "      <th>10</th>\n",
       "      <td>11155.447173</td>\n",
       "      <td>4.638281e+09</td>\n",
       "      <td>544644.500000</td>\n",
       "      <td>3.344494</td>\n",
       "      <td>2.135603</td>\n",
       "      <td>2091.573661</td>\n",
       "      <td>16514.510417</td>\n",
       "      <td>1.500744</td>\n",
       "      <td>0.008929</td>\n",
       "      <td>0.227679</td>\n",
       "      <td>3.407738</td>\n",
       "      <td>7.649554</td>\n",
       "      <td>1970.491071</td>\n",
       "      <td>87.568452</td>\n",
       "      <td>98078.767113</td>\n",
       "      <td>47.561792</td>\n",
       "      <td>-122.217414</td>\n",
       "      <td>1982.976190</td>\n",
       "      <td>13694.698661</td>\n",
       "    </tr>\n",
       "    <tr>\n",
       "      <th>11</th>\n",
       "      <td>10951.645100</td>\n",
       "      <td>4.495417e+09</td>\n",
       "      <td>522336.579448</td>\n",
       "      <td>3.349191</td>\n",
       "      <td>2.083254</td>\n",
       "      <td>2050.603235</td>\n",
       "      <td>15092.950523</td>\n",
       "      <td>1.492864</td>\n",
       "      <td>0.013321</td>\n",
       "      <td>0.229305</td>\n",
       "      <td>3.407231</td>\n",
       "      <td>7.613701</td>\n",
       "      <td>1969.695528</td>\n",
       "      <td>85.307326</td>\n",
       "      <td>98077.554710</td>\n",
       "      <td>47.554105</td>\n",
       "      <td>-122.216645</td>\n",
       "      <td>1942.696480</td>\n",
       "      <td>12688.688868</td>\n",
       "    </tr>\n",
       "    <tr>\n",
       "      <th>12</th>\n",
       "      <td>10683.990593</td>\n",
       "      <td>4.505413e+09</td>\n",
       "      <td>529877.236124</td>\n",
       "      <td>3.417686</td>\n",
       "      <td>2.111477</td>\n",
       "      <td>2105.173095</td>\n",
       "      <td>15356.710254</td>\n",
       "      <td>1.500941</td>\n",
       "      <td>0.010348</td>\n",
       "      <td>0.224835</td>\n",
       "      <td>3.398871</td>\n",
       "      <td>7.674506</td>\n",
       "      <td>1971.329257</td>\n",
       "      <td>77.066792</td>\n",
       "      <td>98077.655691</td>\n",
       "      <td>47.560652</td>\n",
       "      <td>-122.221320</td>\n",
       "      <td>1985.859831</td>\n",
       "      <td>12929.219191</td>\n",
       "    </tr>\n",
       "  </tbody>\n",
       "</table>\n",
       "</div>"
      ],
      "text/plain": [
       "              index            id          price  bedrooms  bathrooms  \\\n",
       "month                                                                   \n",
       "1      10791.393981  4.616179e+09  530263.239398  3.411765   2.148769   \n",
       "2      10562.006764  4.613242e+09  506751.232244  3.350620   2.034386   \n",
       "3      10920.462166  4.666778e+09  549563.877596  3.396142   2.076039   \n",
       "4      10695.833946  4.697492e+09  564719.093137  3.384191   2.133885   \n",
       "5      10624.035354  4.657998e+09  545977.942200  3.354097   2.109848   \n",
       "6      10552.357325  4.594381e+09  557425.136943  3.437580   2.164650   \n",
       "7      10893.459988  4.543379e+09  539947.788027  3.379352   2.140348   \n",
       "8      11126.661517  4.603071e+09  538253.176966  3.372893   2.143083   \n",
       "9      10429.305491  4.426375e+09  533644.408353  3.352668   2.129737   \n",
       "10     11155.447173  4.638281e+09  544644.500000  3.344494   2.135603   \n",
       "11     10951.645100  4.495417e+09  522336.579448  3.349191   2.083254   \n",
       "12     10683.990593  4.505413e+09  529877.236124  3.417686   2.111477   \n",
       "\n",
       "       sqft_living      sqft_lot    floors  waterfront      view  condition  \\\n",
       "month                                                                         \n",
       "1      2106.811218  17929.020520  1.489056    0.008208  0.217510   3.370725   \n",
       "2      2001.934611  13486.126268  1.443630    0.005637  0.251409   3.413754   \n",
       "3      2031.893175  16147.027448  1.470697    0.005935  0.230712   3.361276   \n",
       "4      2076.750613  14449.430760  1.505821    0.007966  0.231005   3.359681   \n",
       "5      2078.739057  16286.796857  1.483165    0.004489  0.230640   3.420875   \n",
       "6      2139.772611  15219.347771  1.514650    0.009554  0.228662   3.469427   \n",
       "7      2116.738546  14646.560782  1.512828    0.007330  0.216860   3.447159   \n",
       "8      2101.985253  14272.971910  1.512289    0.005618  0.227528   3.425562   \n",
       "9      2077.260634  14570.285383  1.488786    0.006187  0.247486   3.416860   \n",
       "10     2091.573661  16514.510417  1.500744    0.008929  0.227679   3.407738   \n",
       "11     2050.603235  15092.950523  1.492864    0.013321  0.229305   3.407231   \n",
       "12     2105.173095  15356.710254  1.500941    0.010348  0.224835   3.398871   \n",
       "\n",
       "          grade     yr_built  yr_renovated       zipcode        lat  \\\n",
       "month                                                                 \n",
       "1      7.648427  1972.009576     73.781122  98076.484268  47.552157   \n",
       "2      7.545660  1970.254791     56.196167  98077.740699  47.545725   \n",
       "3      7.617211  1970.836795     85.843472  98076.872404  47.552390   \n",
       "4      7.674020  1972.416667     63.555760  98079.017157  47.562695   \n",
       "5      7.667789  1970.211560    103.160494  98078.826599  47.562516   \n",
       "6      7.724841  1970.794904     72.361783  98078.617197  47.564551   \n",
       "7      7.707392  1971.753818     89.118509  98074.000611  47.556282   \n",
       "8      7.710674  1972.950140     84.096910  98076.836376  47.562934   \n",
       "9      7.648879  1970.230472     95.784996  98077.845321  47.563598   \n",
       "10     7.649554  1970.491071     87.568452  98078.767113  47.561792   \n",
       "11     7.613701  1969.695528     85.307326  98077.554710  47.554105   \n",
       "12     7.674506  1971.329257     77.066792  98077.655691  47.560652   \n",
       "\n",
       "             long  sqft_living15    sqft_lot15  \n",
       "month                                           \n",
       "1     -122.211406    1981.062927  13144.285910  \n",
       "2     -122.219930    1934.414882  11058.401353  \n",
       "3     -122.213640    1965.747774  13277.220326  \n",
       "4     -122.212496    1996.256127  12880.399510  \n",
       "5     -122.215088    1981.072391  13488.669473  \n",
       "6     -122.213238    2035.994268  13388.848408  \n",
       "7     -122.203032    2030.573610  13299.398290  \n",
       "8     -122.209002    2007.752809  12613.021770  \n",
       "9     -122.214916    1987.939675  11388.989946  \n",
       "10    -122.217414    1982.976190  13694.698661  \n",
       "11    -122.216645    1942.696480  12688.688868  \n",
       "12    -122.221320    1985.859831  12929.219191  "
      ]
     },
     "execution_count": 25,
     "metadata": {},
     "output_type": "execute_result"
    }
   ],
   "source": [
    "df.groupby(by = df.month).mean()"
   ]
  },
  {
   "cell_type": "code",
   "execution_count": 26,
   "metadata": {
    "ExecuteTime": {
     "end_time": "2021-01-05T19:03:12.475517Z",
     "start_time": "2021-01-05T19:03:12.470520Z"
    }
   },
   "outputs": [
    {
     "data": {
      "text/plain": [
       "array([ 3,  4,  2,  5,  1,  6,  7,  8,  9, 11, 10, 33])"
      ]
     },
     "execution_count": 26,
     "metadata": {},
     "output_type": "execute_result"
    }
   ],
   "source": [
    "df.bedrooms.unique()"
   ]
  },
  {
   "cell_type": "code",
   "execution_count": 27,
   "metadata": {
    "ExecuteTime": {
     "end_time": "2021-01-05T19:03:12.483957Z",
     "start_time": "2021-01-05T19:03:12.477652Z"
    }
   },
   "outputs": [
    {
     "data": {
      "text/plain": [
       "3     0.451719\n",
       "4     0.322231\n",
       "2     0.127078\n",
       "5     0.075054\n",
       "6     0.012181\n",
       "1     0.008946\n",
       "7     0.001459\n",
       "8     0.000634\n",
       "9     0.000381\n",
       "10    0.000190\n",
       "11    0.000063\n",
       "33    0.000063\n",
       "Name: bedrooms, dtype: float64"
      ]
     },
     "execution_count": 27,
     "metadata": {},
     "output_type": "execute_result"
    }
   ],
   "source": [
    "df.bedrooms.value_counts(normalize= True)"
   ]
  },
  {
   "cell_type": "code",
   "execution_count": 28,
   "metadata": {
    "ExecuteTime": {
     "end_time": "2021-01-05T19:03:12.489032Z",
     "start_time": "2021-01-05T19:03:12.486718Z"
    }
   },
   "outputs": [],
   "source": [
    "## pandas cut function for easy binning"
   ]
  },
  {
   "cell_type": "code",
   "execution_count": 53,
   "metadata": {
    "ExecuteTime": {
     "end_time": "2021-01-05T19:16:46.103047Z",
     "start_time": "2021-01-05T19:16:46.100672Z"
    }
   },
   "outputs": [],
   "source": [
    "conts = []\n",
    "cats = []"
   ]
  },
  {
   "cell_type": "code",
   "execution_count": 55,
   "metadata": {
    "ExecuteTime": {
     "end_time": "2021-01-05T19:18:04.586913Z",
     "start_time": "2021-01-05T19:18:04.578746Z"
    }
   },
   "outputs": [],
   "source": [
    "for col in df.columns:\n",
    "    if(df[col].nunique() < 25):\n",
    "        cats.append(col)\n",
    "    else:\n",
    "        conts.append(col)"
   ]
  },
  {
   "cell_type": "code",
   "execution_count": 56,
   "metadata": {
    "ExecuteTime": {
     "end_time": "2021-01-05T19:18:08.927992Z",
     "start_time": "2021-01-05T19:18:08.925214Z"
    }
   },
   "outputs": [
    {
     "data": {
      "text/plain": [
       "['index',\n",
       " 'id',\n",
       " 'date',\n",
       " 'price',\n",
       " 'bathrooms',\n",
       " 'sqft_living',\n",
       " 'sqft_lot',\n",
       " 'sqft_basement',\n",
       " 'yr_built',\n",
       " 'yr_renovated',\n",
       " 'zipcode',\n",
       " 'lat',\n",
       " 'long',\n",
       " 'sqft_living15',\n",
       " 'sqft_lot15',\n",
       " 'date_dateformat']"
      ]
     },
     "execution_count": 56,
     "metadata": {},
     "output_type": "execute_result"
    }
   ],
   "source": [
    "conts"
   ]
  },
  {
   "cell_type": "code",
   "execution_count": 57,
   "metadata": {
    "ExecuteTime": {
     "end_time": "2021-01-05T19:18:18.429296Z",
     "start_time": "2021-01-05T19:18:18.426817Z"
    }
   },
   "outputs": [
    {
     "data": {
      "text/plain": [
       "['bedrooms', 'floors', 'waterfront', 'view', 'condition', 'grade', 'month']"
      ]
     },
     "execution_count": 57,
     "metadata": {},
     "output_type": "execute_result"
    }
   ],
   "source": [
    "cats"
   ]
  },
  {
   "cell_type": "code",
   "execution_count": 58,
   "metadata": {
    "ExecuteTime": {
     "end_time": "2021-01-05T19:19:20.850621Z",
     "start_time": "2021-01-05T19:19:20.846853Z"
    }
   },
   "outputs": [],
   "source": [
    "df_conts = df.loc[:,conts]"
   ]
  },
  {
   "cell_type": "code",
   "execution_count": 60,
   "metadata": {
    "ExecuteTime": {
     "end_time": "2021-01-05T19:20:05.673065Z",
     "start_time": "2021-01-05T19:20:04.520600Z"
    }
   },
   "outputs": [
    {
     "data": {
      "text/plain": [
       "array([[<AxesSubplot:title={'center':'index'}>,\n",
       "        <AxesSubplot:title={'center':'id'}>,\n",
       "        <AxesSubplot:title={'center':'price'}>,\n",
       "        <AxesSubplot:title={'center':'bathrooms'}>],\n",
       "       [<AxesSubplot:title={'center':'sqft_living'}>,\n",
       "        <AxesSubplot:title={'center':'sqft_lot'}>,\n",
       "        <AxesSubplot:title={'center':'yr_built'}>,\n",
       "        <AxesSubplot:title={'center':'yr_renovated'}>],\n",
       "       [<AxesSubplot:title={'center':'zipcode'}>,\n",
       "        <AxesSubplot:title={'center':'lat'}>,\n",
       "        <AxesSubplot:title={'center':'long'}>,\n",
       "        <AxesSubplot:title={'center':'sqft_living15'}>],\n",
       "       [<AxesSubplot:title={'center':'sqft_lot15'}>, <AxesSubplot:>,\n",
       "        <AxesSubplot:>, <AxesSubplot:>]], dtype=object)"
      ]
     },
     "execution_count": 60,
     "metadata": {},
     "output_type": "execute_result"
    },
    {
     "data": {
      "image/png": "[encoded data removed]",
      "text/plain": [
       "<Figure size 864x720 with 16 Axes>"
      ]
     },
     "metadata": {
      "needs_background": "light"
     },
     "output_type": "display_data"
    }
   ],
   "source": [
    "df_conts.hist(figsize= (12,10))"
   ]
  },
  {
   "cell_type": "code",
   "execution_count": 85,
   "metadata": {
    "ExecuteTime": {
     "end_time": "2021-01-05T19:29:19.802485Z",
     "start_time": "2021-01-05T19:29:19.797088Z"
    }
   },
   "outputs": [],
   "source": [
    "bins = [0,4,8,11,12]\n",
    "bins = pd.cut(df['month'], bins, right = False)"
   ]
  },
  {
   "cell_type": "code",
   "execution_count": 86,
   "metadata": {
    "ExecuteTime": {
     "end_time": "2021-01-05T19:29:20.068107Z",
     "start_time": "2021-01-05T19:29:20.065885Z"
    }
   },
   "outputs": [],
   "source": [
    "bins = bins.cat.as_ordered()"
   ]
  },
  {
   "cell_type": "code",
   "execution_count": 87,
   "metadata": {
    "ExecuteTime": {
     "end_time": "2021-01-05T19:29:20.449609Z",
     "start_time": "2021-01-05T19:29:20.313064Z"
    },
    "scrolled": true
   },
   "outputs": [
    {
     "data": {
      "text/plain": [
       "<AxesSubplot:>"
      ]
     },
     "execution_count": 87,
     "metadata": {},
     "output_type": "execute_result"
    },
    {
     "data": {
      "image/png": "[encoded data removed]",
      "text/plain": [
       "<Figure size 432x288 with 1 Axes>"
      ]
     },
     "metadata": {
      "needs_background": "light"
     },
     "output_type": "display_data"
    }
   ],
   "source": [
    "bins.value_counts().plot.bar()"
   ]
  },
  {
   "cell_type": "code",
   "execution_count": 89,
   "metadata": {
    "ExecuteTime": {
     "end_time": "2021-01-05T19:30:34.729170Z",
     "start_time": "2021-01-05T19:30:34.726100Z"
    }
   },
   "outputs": [
    {
     "data": {
      "text/plain": [
       "array([ 7,  8, 11,  9,  6,  5, 10, 12,  4,  3, 13])"
      ]
     },
     "execution_count": 89,
     "metadata": {},
     "output_type": "execute_result"
    }
   ],
   "source": [
    "df.grade.unique()"
   ]
  },
  {
   "cell_type": "code",
   "execution_count": 90,
   "metadata": {
    "ExecuteTime": {
     "end_time": "2021-01-05T19:32:39.910419Z",
     "start_time": "2021-01-05T19:32:39.904812Z"
    }
   },
   "outputs": [],
   "source": [
    "grade_bins = [0,3,6,7,9,13]\n",
    "grade_binned = pd.cut(df['grade'], grade_bins, right = False)\n",
    "grade_binned = grade_binned.cat.as_ordered()"
   ]
  },
  {
   "cell_type": "code",
   "execution_count": 91,
   "metadata": {
    "ExecuteTime": {
     "end_time": "2021-01-05T19:33:03.236687Z",
     "start_time": "2021-01-05T19:33:03.127419Z"
    }
   },
   "outputs": [
    {
     "data": {
      "text/plain": [
       "<AxesSubplot:>"
      ]
     },
     "execution_count": 91,
     "metadata": {},
     "output_type": "execute_result"
    },
    {
     "data": {
      "image/png": "[encoded data removed]",
      "text/plain": [
       "<Figure size 432x288 with 1 Axes>"
      ]
     },
     "metadata": {
      "needs_background": "light"
     },
     "output_type": "display_data"
    }
   ],
   "source": [
    "grade_binned.value_counts().plot.bar()"
   ]
  },
  {
   "cell_type": "code",
   "execution_count": 97,
   "metadata": {
    "ExecuteTime": {
     "end_time": "2021-01-05T19:40:49.028780Z",
     "start_time": "2021-01-05T19:40:49.026903Z"
    }
   },
   "outputs": [],
   "source": [
    "import statsmodels.api as sm\n",
    "from statsmodels.formula.api import ols"
   ]
  },
  {
   "cell_type": "code",
   "execution_count": 107,
   "metadata": {
    "ExecuteTime": {
     "end_time": "2021-01-05T19:51:38.376772Z",
     "start_time": "2021-01-05T19:51:38.321610Z"
    }
   },
   "outputs": [
    {
     "data": {
      "text/plain": [
       "Index(['bedrooms', 'bathrooms', 'sqft_living', 'sqft_lot', 'floors',\n",
       "       'waterfront', 'view', 'condition', 'grade', 'yr_built', 'yr_renovated',\n",
       "       'zipcode', 'lat', 'long', 'sqft_lot15'],\n",
       "      dtype='object')"
      ]
     },
     "execution_count": 107,
     "metadata": {},
     "output_type": "execute_result"
    }
   ],
   "source": [
    "df_orig = pd.read_csv(\"data/kc_house_data.csv\")\n",
    "\n",
    "outcome = 'price'\n",
    "\n",
    "x_cols = df_orig.dropna().drop(['price', 'sqft_basement', 'id', 'date', 'sqft_above', 'sqft_living15'], axis = 1).columns\n",
    "\n",
    "x_cols"
   ]
  },
  {
   "cell_type": "code",
   "execution_count": 108,
   "metadata": {
    "ExecuteTime": {
     "end_time": "2021-01-05T19:51:38.635178Z",
     "start_time": "2021-01-05T19:51:38.572351Z"
    }
   },
   "outputs": [
    {
     "data": {
      "text/html": [
       "<table class=\"simpletable\">\n",
       "<caption>OLS Regression Results</caption>\n",
       "<tr>\n",
       "  <th>Dep. Variable:</th>          <td>price</td>      <th>  R-squared:         </th>  <td>   0.700</td>  \n",
       "</tr>\n",
       "<tr>\n",
       "  <th>Model:</th>                   <td>OLS</td>       <th>  Adj. R-squared:    </th>  <td>   0.699</td>  \n",
       "</tr>\n",
       "<tr>\n",
       "  <th>Method:</th>             <td>Least Squares</td>  <th>  F-statistic:       </th>  <td>   2446.</td>  \n",
       "</tr>\n",
       "<tr>\n",
       "  <th>Date:</th>             <td>Tue, 05 Jan 2021</td> <th>  Prob (F-statistic):</th>   <td>  0.00</td>   \n",
       "</tr>\n",
       "<tr>\n",
       "  <th>Time:</th>                 <td>14:51:38</td>     <th>  Log-Likelihood:    </th> <td>-2.1507e+05</td>\n",
       "</tr>\n",
       "<tr>\n",
       "  <th>No. Observations:</th>      <td> 15762</td>      <th>  AIC:               </th>  <td>4.302e+05</td> \n",
       "</tr>\n",
       "<tr>\n",
       "  <th>Df Residuals:</th>          <td> 15746</td>      <th>  BIC:               </th>  <td>4.303e+05</td> \n",
       "</tr>\n",
       "<tr>\n",
       "  <th>Df Model:</th>              <td>    15</td>      <th>                     </th>      <td> </td>     \n",
       "</tr>\n",
       "<tr>\n",
       "  <th>Covariance Type:</th>      <td>nonrobust</td>    <th>                     </th>      <td> </td>     \n",
       "</tr>\n",
       "</table>\n",
       "<table class=\"simpletable\">\n",
       "<tr>\n",
       "        <td></td>          <th>coef</th>     <th>std err</th>      <th>t</th>      <th>P>|t|</th>  <th>[0.025</th>    <th>0.975]</th>  \n",
       "</tr>\n",
       "<tr>\n",
       "  <th>Intercept</th>    <td> 1.243e+07</td> <td> 3.38e+06</td> <td>    3.682</td> <td> 0.000</td> <td> 5.81e+06</td> <td> 1.91e+07</td>\n",
       "</tr>\n",
       "<tr>\n",
       "  <th>bedrooms</th>     <td>-3.782e+04</td> <td> 2224.734</td> <td>  -16.998</td> <td> 0.000</td> <td>-4.22e+04</td> <td>-3.35e+04</td>\n",
       "</tr>\n",
       "<tr>\n",
       "  <th>bathrooms</th>    <td> 3.944e+04</td> <td> 3824.310</td> <td>   10.314</td> <td> 0.000</td> <td> 3.19e+04</td> <td> 4.69e+04</td>\n",
       "</tr>\n",
       "<tr>\n",
       "  <th>sqft_living</th>  <td>  186.5146</td> <td>    3.678</td> <td>   50.714</td> <td> 0.000</td> <td>  179.306</td> <td>  193.723</td>\n",
       "</tr>\n",
       "<tr>\n",
       "  <th>sqft_lot</th>     <td>    0.0905</td> <td>    0.056</td> <td>    1.609</td> <td> 0.108</td> <td>   -0.020</td> <td>    0.201</td>\n",
       "</tr>\n",
       "<tr>\n",
       "  <th>floors</th>       <td> 1.704e+04</td> <td> 3826.392</td> <td>    4.452</td> <td> 0.000</td> <td> 9534.917</td> <td> 2.45e+04</td>\n",
       "</tr>\n",
       "<tr>\n",
       "  <th>waterfront</th>   <td> 6.131e+05</td> <td> 2.06e+04</td> <td>   29.791</td> <td> 0.000</td> <td> 5.73e+05</td> <td> 6.53e+05</td>\n",
       "</tr>\n",
       "<tr>\n",
       "  <th>view</th>         <td> 5.149e+04</td> <td> 2505.480</td> <td>   20.551</td> <td> 0.000</td> <td> 4.66e+04</td> <td> 5.64e+04</td>\n",
       "</tr>\n",
       "<tr>\n",
       "  <th>condition</th>    <td> 2.423e+04</td> <td> 2780.223</td> <td>    8.714</td> <td> 0.000</td> <td> 1.88e+04</td> <td> 2.97e+04</td>\n",
       "</tr>\n",
       "<tr>\n",
       "  <th>grade</th>        <td> 1.006e+05</td> <td> 2412.252</td> <td>   41.688</td> <td> 0.000</td> <td> 9.58e+04</td> <td> 1.05e+05</td>\n",
       "</tr>\n",
       "<tr>\n",
       "  <th>yr_built</th>     <td>-2701.0478</td> <td>   86.085</td> <td>  -31.376</td> <td> 0.000</td> <td>-2869.785</td> <td>-2532.310</td>\n",
       "</tr>\n",
       "<tr>\n",
       "  <th>yr_renovated</th> <td>   18.4269</td> <td>    4.371</td> <td>    4.215</td> <td> 0.000</td> <td>    9.858</td> <td>   26.995</td>\n",
       "</tr>\n",
       "<tr>\n",
       "  <th>zipcode</th>      <td> -596.7359</td> <td>   38.978</td> <td>  -15.310</td> <td> 0.000</td> <td> -673.136</td> <td> -520.335</td>\n",
       "</tr>\n",
       "<tr>\n",
       "  <th>lat</th>          <td> 5.953e+05</td> <td> 1.26e+04</td> <td>   47.065</td> <td> 0.000</td> <td> 5.71e+05</td> <td>  6.2e+05</td>\n",
       "</tr>\n",
       "<tr>\n",
       "  <th>long</th>         <td>-1.833e+05</td> <td> 1.51e+04</td> <td>  -12.143</td> <td> 0.000</td> <td>-2.13e+05</td> <td>-1.54e+05</td>\n",
       "</tr>\n",
       "<tr>\n",
       "  <th>sqft_lot15</th>   <td>   -0.3093</td> <td>    0.085</td> <td>   -3.651</td> <td> 0.000</td> <td>   -0.475</td> <td>   -0.143</td>\n",
       "</tr>\n",
       "</table>\n",
       "<table class=\"simpletable\">\n",
       "<tr>\n",
       "  <th>Omnibus:</th>       <td>13686.966</td> <th>  Durbin-Watson:     </th>  <td>   1.979</td>  \n",
       "</tr>\n",
       "<tr>\n",
       "  <th>Prob(Omnibus):</th>  <td> 0.000</td>   <th>  Jarque-Bera (JB):  </th> <td>1479753.525</td>\n",
       "</tr>\n",
       "<tr>\n",
       "  <th>Skew:</th>           <td> 3.667</td>   <th>  Prob(JB):          </th>  <td>    0.00</td>  \n",
       "</tr>\n",
       "<tr>\n",
       "  <th>Kurtosis:</th>       <td>49.897</td>   <th>  Cond. No.          </th>  <td>2.09e+08</td>  \n",
       "</tr>\n",
       "</table><br/><br/>Notes:<br/>[1] Standard Errors assume that the covariance matrix of the errors is correctly specified.<br/>[2] The condition number is large, 2.09e+08. This might indicate that there are<br/>strong multicollinearity or other numerical problems."
      ],
      "text/plain": [
       "<class 'statsmodels.iolib.summary.Summary'>\n",
       "\"\"\"\n",
       "                            OLS Regression Results                            \n",
       "==============================================================================\n",
       "Dep. Variable:                  price   R-squared:                       0.700\n",
       "Model:                            OLS   Adj. R-squared:                  0.699\n",
       "Method:                 Least Squares   F-statistic:                     2446.\n",
       "Date:                Tue, 05 Jan 2021   Prob (F-statistic):               0.00\n",
       "Time:                        14:51:38   Log-Likelihood:            -2.1507e+05\n",
       "No. Observations:               15762   AIC:                         4.302e+05\n",
       "Df Residuals:                   15746   BIC:                         4.303e+05\n",
       "Df Model:                          15                                         \n",
       "Covariance Type:            nonrobust                                         \n",
       "================================================================================\n",
       "                   coef    std err          t      P>|t|      [0.025      0.975]\n",
       "--------------------------------------------------------------------------------\n",
       "Intercept     1.243e+07   3.38e+06      3.682      0.000    5.81e+06    1.91e+07\n",
       "bedrooms     -3.782e+04   2224.734    -16.998      0.000   -4.22e+04   -3.35e+04\n",
       "bathrooms     3.944e+04   3824.310     10.314      0.000    3.19e+04    4.69e+04\n",
       "sqft_living    186.5146      3.678     50.714      0.000     179.306     193.723\n",
       "sqft_lot         0.0905      0.056      1.609      0.108      -0.020       0.201\n",
       "floors        1.704e+04   3826.392      4.452      0.000    9534.917    2.45e+04\n",
       "waterfront    6.131e+05   2.06e+04     29.791      0.000    5.73e+05    6.53e+05\n",
       "view          5.149e+04   2505.480     20.551      0.000    4.66e+04    5.64e+04\n",
       "condition     2.423e+04   2780.223      8.714      0.000    1.88e+04    2.97e+04\n",
       "grade         1.006e+05   2412.252     41.688      0.000    9.58e+04    1.05e+05\n",
       "yr_built     -2701.0478     86.085    -31.376      0.000   -2869.785   -2532.310\n",
       "yr_renovated    18.4269      4.371      4.215      0.000       9.858      26.995\n",
       "zipcode       -596.7359     38.978    -15.310      0.000    -673.136    -520.335\n",
       "lat           5.953e+05   1.26e+04     47.065      0.000    5.71e+05     6.2e+05\n",
       "long         -1.833e+05   1.51e+04    -12.143      0.000   -2.13e+05   -1.54e+05\n",
       "sqft_lot15      -0.3093      0.085     -3.651      0.000      -0.475      -0.143\n",
       "==============================================================================\n",
       "Omnibus:                    13686.966   Durbin-Watson:                   1.979\n",
       "Prob(Omnibus):                  0.000   Jarque-Bera (JB):          1479753.525\n",
       "Skew:                           3.667   Prob(JB):                         0.00\n",
       "Kurtosis:                      49.897   Cond. No.                     2.09e+08\n",
       "==============================================================================\n",
       "\n",
       "Notes:\n",
       "[1] Standard Errors assume that the covariance matrix of the errors is correctly specified.\n",
       "[2] The condition number is large, 2.09e+08. This might indicate that there are\n",
       "strong multicollinearity or other numerical problems.\n",
       "\"\"\""
      ]
     },
     "execution_count": 108,
     "metadata": {},
     "output_type": "execute_result"
    }
   ],
   "source": [
    "predictors = '+'.join(x_cols)\n",
    "\n",
    "predictors\n",
    "\n",
    "f = outcome + '~' + predictors \n",
    "\n",
    "f\n",
    "\n",
    "model = ols(formula= f, data= df_orig).fit()\n",
    "model.summary()"
   ]
  },
  {
   "cell_type": "code",
   "execution_count": 109,
   "metadata": {
    "ExecuteTime": {
     "end_time": "2021-01-05T19:52:34.153880Z",
     "start_time": "2021-01-05T19:52:34.091406Z"
    }
   },
   "outputs": [
    {
     "data": {
      "text/html": [
       "<table class=\"simpletable\">\n",
       "<caption>OLS Regression Results</caption>\n",
       "<tr>\n",
       "  <th>Dep. Variable:</th>          <td>price</td>      <th>  R-squared:         </th>  <td>   0.700</td>  \n",
       "</tr>\n",
       "<tr>\n",
       "  <th>Model:</th>                   <td>OLS</td>       <th>  Adj. R-squared:    </th>  <td>   0.699</td>  \n",
       "</tr>\n",
       "<tr>\n",
       "  <th>Method:</th>             <td>Least Squares</td>  <th>  F-statistic:       </th>  <td>   2620.</td>  \n",
       "</tr>\n",
       "<tr>\n",
       "  <th>Date:</th>             <td>Tue, 05 Jan 2021</td> <th>  Prob (F-statistic):</th>   <td>  0.00</td>   \n",
       "</tr>\n",
       "<tr>\n",
       "  <th>Time:</th>                 <td>14:52:34</td>     <th>  Log-Likelihood:    </th> <td>-2.1507e+05</td>\n",
       "</tr>\n",
       "<tr>\n",
       "  <th>No. Observations:</th>      <td> 15762</td>      <th>  AIC:               </th>  <td>4.302e+05</td> \n",
       "</tr>\n",
       "<tr>\n",
       "  <th>Df Residuals:</th>          <td> 15747</td>      <th>  BIC:               </th>  <td>4.303e+05</td> \n",
       "</tr>\n",
       "<tr>\n",
       "  <th>Df Model:</th>              <td>    14</td>      <th>                     </th>      <td> </td>     \n",
       "</tr>\n",
       "<tr>\n",
       "  <th>Covariance Type:</th>      <td>nonrobust</td>    <th>                     </th>      <td> </td>     \n",
       "</tr>\n",
       "</table>\n",
       "<table class=\"simpletable\">\n",
       "<tr>\n",
       "        <td></td>          <th>coef</th>     <th>std err</th>      <th>t</th>      <th>P>|t|</th>  <th>[0.025</th>    <th>0.975]</th>  \n",
       "</tr>\n",
       "<tr>\n",
       "  <th>Intercept</th>    <td> 1.265e+07</td> <td> 3.37e+06</td> <td>    3.750</td> <td> 0.000</td> <td> 6.04e+06</td> <td> 1.93e+07</td>\n",
       "</tr>\n",
       "<tr>\n",
       "  <th>bedrooms</th>     <td>-3.792e+04</td> <td> 2223.991</td> <td>  -17.049</td> <td> 0.000</td> <td>-4.23e+04</td> <td>-3.36e+04</td>\n",
       "</tr>\n",
       "<tr>\n",
       "  <th>bathrooms</th>    <td> 3.949e+04</td> <td> 3824.411</td> <td>   10.325</td> <td> 0.000</td> <td>  3.2e+04</td> <td>  4.7e+04</td>\n",
       "</tr>\n",
       "<tr>\n",
       "  <th>sqft_living</th>  <td>  186.7069</td> <td>    3.676</td> <td>   50.791</td> <td> 0.000</td> <td>  179.502</td> <td>  193.912</td>\n",
       "</tr>\n",
       "<tr>\n",
       "  <th>floors</th>       <td> 1.698e+04</td> <td> 3826.416</td> <td>    4.437</td> <td> 0.000</td> <td> 9477.032</td> <td> 2.45e+04</td>\n",
       "</tr>\n",
       "<tr>\n",
       "  <th>waterfront</th>   <td> 6.128e+05</td> <td> 2.06e+04</td> <td>   29.776</td> <td> 0.000</td> <td> 5.72e+05</td> <td> 6.53e+05</td>\n",
       "</tr>\n",
       "<tr>\n",
       "  <th>view</th>         <td> 5.159e+04</td> <td> 2504.808</td> <td>   20.597</td> <td> 0.000</td> <td> 4.67e+04</td> <td> 5.65e+04</td>\n",
       "</tr>\n",
       "<tr>\n",
       "  <th>condition</th>    <td> 2.409e+04</td> <td> 2779.154</td> <td>    8.669</td> <td> 0.000</td> <td> 1.86e+04</td> <td> 2.95e+04</td>\n",
       "</tr>\n",
       "<tr>\n",
       "  <th>grade</th>        <td> 1.006e+05</td> <td> 2412.354</td> <td>   41.693</td> <td> 0.000</td> <td> 9.58e+04</td> <td> 1.05e+05</td>\n",
       "</tr>\n",
       "<tr>\n",
       "  <th>yr_built</th>     <td>-2707.2750</td> <td>   86.003</td> <td>  -31.479</td> <td> 0.000</td> <td>-2875.850</td> <td>-2538.700</td>\n",
       "</tr>\n",
       "<tr>\n",
       "  <th>yr_renovated</th> <td>   18.3262</td> <td>    4.371</td> <td>    4.192</td> <td> 0.000</td> <td>    9.758</td> <td>   26.894</td>\n",
       "</tr>\n",
       "<tr>\n",
       "  <th>zipcode</th>      <td> -596.3821</td> <td>   38.979</td> <td>  -15.300</td> <td> 0.000</td> <td> -672.785</td> <td> -519.979</td>\n",
       "</tr>\n",
       "<tr>\n",
       "  <th>lat</th>          <td> 5.945e+05</td> <td> 1.26e+04</td> <td>   47.036</td> <td> 0.000</td> <td>  5.7e+05</td> <td> 6.19e+05</td>\n",
       "</tr>\n",
       "<tr>\n",
       "  <th>long</th>         <td>-1.817e+05</td> <td> 1.51e+04</td> <td>  -12.060</td> <td> 0.000</td> <td>-2.11e+05</td> <td>-1.52e+05</td>\n",
       "</tr>\n",
       "<tr>\n",
       "  <th>sqft_lot15</th>   <td>   -0.2154</td> <td>    0.061</td> <td>   -3.507</td> <td> 0.000</td> <td>   -0.336</td> <td>   -0.095</td>\n",
       "</tr>\n",
       "</table>\n",
       "<table class=\"simpletable\">\n",
       "<tr>\n",
       "  <th>Omnibus:</th>       <td>13680.491</td> <th>  Durbin-Watson:     </th>  <td>   1.979</td>  \n",
       "</tr>\n",
       "<tr>\n",
       "  <th>Prob(Omnibus):</th>  <td> 0.000</td>   <th>  Jarque-Bera (JB):  </th> <td>1475360.762</td>\n",
       "</tr>\n",
       "<tr>\n",
       "  <th>Skew:</th>           <td> 3.665</td>   <th>  Prob(JB):          </th>  <td>    0.00</td>  \n",
       "</tr>\n",
       "<tr>\n",
       "  <th>Kurtosis:</th>       <td>49.827</td>   <th>  Cond. No.          </th>  <td>2.06e+08</td>  \n",
       "</tr>\n",
       "</table><br/><br/>Notes:<br/>[1] Standard Errors assume that the covariance matrix of the errors is correctly specified.<br/>[2] The condition number is large, 2.06e+08. This might indicate that there are<br/>strong multicollinearity or other numerical problems."
      ],
      "text/plain": [
       "<class 'statsmodels.iolib.summary.Summary'>\n",
       "\"\"\"\n",
       "                            OLS Regression Results                            \n",
       "==============================================================================\n",
       "Dep. Variable:                  price   R-squared:                       0.700\n",
       "Model:                            OLS   Adj. R-squared:                  0.699\n",
       "Method:                 Least Squares   F-statistic:                     2620.\n",
       "Date:                Tue, 05 Jan 2021   Prob (F-statistic):               0.00\n",
       "Time:                        14:52:34   Log-Likelihood:            -2.1507e+05\n",
       "No. Observations:               15762   AIC:                         4.302e+05\n",
       "Df Residuals:                   15747   BIC:                         4.303e+05\n",
       "Df Model:                          14                                         \n",
       "Covariance Type:            nonrobust                                         \n",
       "================================================================================\n",
       "                   coef    std err          t      P>|t|      [0.025      0.975]\n",
       "--------------------------------------------------------------------------------\n",
       "Intercept     1.265e+07   3.37e+06      3.750      0.000    6.04e+06    1.93e+07\n",
       "bedrooms     -3.792e+04   2223.991    -17.049      0.000   -4.23e+04   -3.36e+04\n",
       "bathrooms     3.949e+04   3824.411     10.325      0.000     3.2e+04     4.7e+04\n",
       "sqft_living    186.7069      3.676     50.791      0.000     179.502     193.912\n",
       "floors        1.698e+04   3826.416      4.437      0.000    9477.032    2.45e+04\n",
       "waterfront    6.128e+05   2.06e+04     29.776      0.000    5.72e+05    6.53e+05\n",
       "view          5.159e+04   2504.808     20.597      0.000    4.67e+04    5.65e+04\n",
       "condition     2.409e+04   2779.154      8.669      0.000    1.86e+04    2.95e+04\n",
       "grade         1.006e+05   2412.354     41.693      0.000    9.58e+04    1.05e+05\n",
       "yr_built     -2707.2750     86.003    -31.479      0.000   -2875.850   -2538.700\n",
       "yr_renovated    18.3262      4.371      4.192      0.000       9.758      26.894\n",
       "zipcode       -596.3821     38.979    -15.300      0.000    -672.785    -519.979\n",
       "lat           5.945e+05   1.26e+04     47.036      0.000     5.7e+05    6.19e+05\n",
       "long         -1.817e+05   1.51e+04    -12.060      0.000   -2.11e+05   -1.52e+05\n",
       "sqft_lot15      -0.2154      0.061     -3.507      0.000      -0.336      -0.095\n",
       "==============================================================================\n",
       "Omnibus:                    13680.491   Durbin-Watson:                   1.979\n",
       "Prob(Omnibus):                  0.000   Jarque-Bera (JB):          1475360.762\n",
       "Skew:                           3.665   Prob(JB):                         0.00\n",
       "Kurtosis:                      49.827   Cond. No.                     2.06e+08\n",
       "==============================================================================\n",
       "\n",
       "Notes:\n",
       "[1] Standard Errors assume that the covariance matrix of the errors is correctly specified.\n",
       "[2] The condition number is large, 2.06e+08. This might indicate that there are\n",
       "strong multicollinearity or other numerical problems.\n",
       "\"\"\""
      ]
     },
     "execution_count": 109,
     "metadata": {},
     "output_type": "execute_result"
    }
   ],
   "source": [
    "\n",
    "outcome = 'price'\n",
    "x_cols = df_orig.dropna().drop(['price', 'sqft_basement', 'id', 'date', 'sqft_above', 'sqft_living15', 'sqft_lot'], axis = 1).columns\n",
    "predictors = '+'.join(x_cols)\n",
    "f = outcome + '~' + predictors \n",
    "model2 = ols(formula= f, data= df_orig).fit()\n",
    "model2.summary()"
   ]
  },
  {
   "cell_type": "code",
   "execution_count": 115,
   "metadata": {
    "ExecuteTime": {
     "end_time": "2021-01-05T19:55:52.849327Z",
     "start_time": "2021-01-05T19:55:52.846022Z"
    }
   },
   "outputs": [],
   "source": [
    "df_cond = pd.get_dummies(df_orig['condition'], prefix = 'condition', drop_first = True)"
   ]
  },
  {
   "cell_type": "code",
   "execution_count": 116,
   "metadata": {
    "ExecuteTime": {
     "end_time": "2021-01-05T19:56:46.646404Z",
     "start_time": "2021-01-05T19:56:46.640306Z"
    }
   },
   "outputs": [],
   "source": [
    "df2 = pd.concat([df_orig, df_cond], axis = 1)"
   ]
  },
  {
   "cell_type": "code",
   "execution_count": 118,
   "metadata": {
    "ExecuteTime": {
     "end_time": "2021-01-05T19:57:00.565952Z",
     "start_time": "2021-01-05T19:57:00.548015Z"
    }
   },
   "outputs": [
    {
     "data": {
      "text/html": [
       "<div>\n",
       "<style scoped>\n",
       "    .dataframe tbody tr th:only-of-type {\n",
       "        vertical-align: middle;\n",
       "    }\n",
       "\n",
       "    .dataframe tbody tr th {\n",
       "        vertical-align: top;\n",
       "    }\n",
       "\n",
       "    .dataframe thead th {\n",
       "        text-align: right;\n",
       "    }\n",
       "</style>\n",
       "<table border=\"1\" class=\"dataframe\">\n",
       "  <thead>\n",
       "    <tr style=\"text-align: right;\">\n",
       "      <th></th>\n",
       "      <th>id</th>\n",
       "      <th>date</th>\n",
       "      <th>price</th>\n",
       "      <th>bedrooms</th>\n",
       "      <th>bathrooms</th>\n",
       "      <th>sqft_living</th>\n",
       "      <th>sqft_lot</th>\n",
       "      <th>floors</th>\n",
       "      <th>waterfront</th>\n",
       "      <th>view</th>\n",
       "      <th>condition</th>\n",
       "      <th>grade</th>\n",
       "      <th>sqft_above</th>\n",
       "      <th>sqft_basement</th>\n",
       "      <th>yr_built</th>\n",
       "      <th>yr_renovated</th>\n",
       "      <th>zipcode</th>\n",
       "      <th>lat</th>\n",
       "      <th>long</th>\n",
       "      <th>sqft_living15</th>\n",
       "      <th>sqft_lot15</th>\n",
       "      <th>condition_2</th>\n",
       "      <th>condition_3</th>\n",
       "      <th>condition_4</th>\n",
       "      <th>condition_5</th>\n",
       "    </tr>\n",
       "  </thead>\n",
       "  <tbody>\n",
       "    <tr>\n",
       "      <th>0</th>\n",
       "      <td>7129300520</td>\n",
       "      <td>10/13/2014</td>\n",
       "      <td>221900.0</td>\n",
       "      <td>3</td>\n",
       "      <td>1.00</td>\n",
       "      <td>1180</td>\n",
       "      <td>5650</td>\n",
       "      <td>1.0</td>\n",
       "      <td>NaN</td>\n",
       "      <td>0.0</td>\n",
       "      <td>3</td>\n",
       "      <td>7</td>\n",
       "      <td>1180</td>\n",
       "      <td>0.0</td>\n",
       "      <td>1955</td>\n",
       "      <td>0.0</td>\n",
       "      <td>98178</td>\n",
       "      <td>47.5112</td>\n",
       "      <td>-122.257</td>\n",
       "      <td>1340</td>\n",
       "      <td>5650</td>\n",
       "      <td>0</td>\n",
       "      <td>1</td>\n",
       "      <td>0</td>\n",
       "      <td>0</td>\n",
       "    </tr>\n",
       "    <tr>\n",
       "      <th>1</th>\n",
       "      <td>6414100192</td>\n",
       "      <td>12/9/2014</td>\n",
       "      <td>538000.0</td>\n",
       "      <td>3</td>\n",
       "      <td>2.25</td>\n",
       "      <td>2570</td>\n",
       "      <td>7242</td>\n",
       "      <td>2.0</td>\n",
       "      <td>0.0</td>\n",
       "      <td>0.0</td>\n",
       "      <td>3</td>\n",
       "      <td>7</td>\n",
       "      <td>2170</td>\n",
       "      <td>400.0</td>\n",
       "      <td>1951</td>\n",
       "      <td>1991.0</td>\n",
       "      <td>98125</td>\n",
       "      <td>47.7210</td>\n",
       "      <td>-122.319</td>\n",
       "      <td>1690</td>\n",
       "      <td>7639</td>\n",
       "      <td>0</td>\n",
       "      <td>1</td>\n",
       "      <td>0</td>\n",
       "      <td>0</td>\n",
       "    </tr>\n",
       "    <tr>\n",
       "      <th>2</th>\n",
       "      <td>5631500400</td>\n",
       "      <td>2/25/2015</td>\n",
       "      <td>180000.0</td>\n",
       "      <td>2</td>\n",
       "      <td>1.00</td>\n",
       "      <td>770</td>\n",
       "      <td>10000</td>\n",
       "      <td>1.0</td>\n",
       "      <td>0.0</td>\n",
       "      <td>0.0</td>\n",
       "      <td>3</td>\n",
       "      <td>6</td>\n",
       "      <td>770</td>\n",
       "      <td>0.0</td>\n",
       "      <td>1933</td>\n",
       "      <td>NaN</td>\n",
       "      <td>98028</td>\n",
       "      <td>47.7379</td>\n",
       "      <td>-122.233</td>\n",
       "      <td>2720</td>\n",
       "      <td>8062</td>\n",
       "      <td>0</td>\n",
       "      <td>1</td>\n",
       "      <td>0</td>\n",
       "      <td>0</td>\n",
       "    </tr>\n",
       "    <tr>\n",
       "      <th>3</th>\n",
       "      <td>2487200875</td>\n",
       "      <td>12/9/2014</td>\n",
       "      <td>604000.0</td>\n",
       "      <td>4</td>\n",
       "      <td>3.00</td>\n",
       "      <td>1960</td>\n",
       "      <td>5000</td>\n",
       "      <td>1.0</td>\n",
       "      <td>0.0</td>\n",
       "      <td>0.0</td>\n",
       "      <td>5</td>\n",
       "      <td>7</td>\n",
       "      <td>1050</td>\n",
       "      <td>910.0</td>\n",
       "      <td>1965</td>\n",
       "      <td>0.0</td>\n",
       "      <td>98136</td>\n",
       "      <td>47.5208</td>\n",
       "      <td>-122.393</td>\n",
       "      <td>1360</td>\n",
       "      <td>5000</td>\n",
       "      <td>0</td>\n",
       "      <td>0</td>\n",
       "      <td>0</td>\n",
       "      <td>1</td>\n",
       "    </tr>\n",
       "    <tr>\n",
       "      <th>4</th>\n",
       "      <td>1954400510</td>\n",
       "      <td>2/18/2015</td>\n",
       "      <td>510000.0</td>\n",
       "      <td>3</td>\n",
       "      <td>2.00</td>\n",
       "      <td>1680</td>\n",
       "      <td>8080</td>\n",
       "      <td>1.0</td>\n",
       "      <td>0.0</td>\n",
       "      <td>0.0</td>\n",
       "      <td>3</td>\n",
       "      <td>8</td>\n",
       "      <td>1680</td>\n",
       "      <td>0.0</td>\n",
       "      <td>1987</td>\n",
       "      <td>0.0</td>\n",
       "      <td>98074</td>\n",
       "      <td>47.6168</td>\n",
       "      <td>-122.045</td>\n",
       "      <td>1800</td>\n",
       "      <td>7503</td>\n",
       "      <td>0</td>\n",
       "      <td>1</td>\n",
       "      <td>0</td>\n",
       "      <td>0</td>\n",
       "    </tr>\n",
       "  </tbody>\n",
       "</table>\n",
       "</div>"
      ],
      "text/plain": [
       "           id        date     price  bedrooms  bathrooms  sqft_living  \\\n",
       "0  7129300520  10/13/2014  221900.0         3       1.00         1180   \n",
       "1  6414100192   12/9/2014  538000.0         3       2.25         2570   \n",
       "2  5631500400   2/25/2015  180000.0         2       1.00          770   \n",
       "3  2487200875   12/9/2014  604000.0         4       3.00         1960   \n",
       "4  1954400510   2/18/2015  510000.0         3       2.00         1680   \n",
       "\n",
       "   sqft_lot  floors  waterfront  view  condition  grade  sqft_above  \\\n",
       "0      5650     1.0         NaN   0.0          3      7        1180   \n",
       "1      7242     2.0         0.0   0.0          3      7        2170   \n",
       "2     10000     1.0         0.0   0.0          3      6         770   \n",
       "3      5000     1.0         0.0   0.0          5      7        1050   \n",
       "4      8080     1.0         0.0   0.0          3      8        1680   \n",
       "\n",
       "  sqft_basement  yr_built  yr_renovated  zipcode      lat     long  \\\n",
       "0           0.0      1955           0.0    98178  47.5112 -122.257   \n",
       "1         400.0      1951        1991.0    98125  47.7210 -122.319   \n",
       "2           0.0      1933           NaN    98028  47.7379 -122.233   \n",
       "3         910.0      1965           0.0    98136  47.5208 -122.393   \n",
       "4           0.0      1987           0.0    98074  47.6168 -122.045   \n",
       "\n",
       "   sqft_living15  sqft_lot15  condition_2  condition_3  condition_4  \\\n",
       "0           1340        5650            0            1            0   \n",
       "1           1690        7639            0            1            0   \n",
       "2           2720        8062            0            1            0   \n",
       "3           1360        5000            0            0            0   \n",
       "4           1800        7503            0            1            0   \n",
       "\n",
       "   condition_5  \n",
       "0            0  \n",
       "1            0  \n",
       "2            0  \n",
       "3            1  \n",
       "4            0  "
      ]
     },
     "execution_count": 118,
     "metadata": {},
     "output_type": "execute_result"
    }
   ],
   "source": [
    "df2.head()"
   ]
  },
  {
   "cell_type": "code",
   "execution_count": 120,
   "metadata": {
    "ExecuteTime": {
     "end_time": "2021-01-05T19:57:58.946275Z",
     "start_time": "2021-01-05T19:57:58.869824Z"
    }
   },
   "outputs": [
    {
     "data": {
      "text/html": [
       "<table class=\"simpletable\">\n",
       "<caption>OLS Regression Results</caption>\n",
       "<tr>\n",
       "  <th>Dep. Variable:</th>          <td>price</td>      <th>  R-squared:         </th>  <td>   0.700</td>  \n",
       "</tr>\n",
       "<tr>\n",
       "  <th>Model:</th>                   <td>OLS</td>       <th>  Adj. R-squared:    </th>  <td>   0.700</td>  \n",
       "</tr>\n",
       "<tr>\n",
       "  <th>Method:</th>             <td>Least Squares</td>  <th>  F-statistic:       </th>  <td>   2160.</td>  \n",
       "</tr>\n",
       "<tr>\n",
       "  <th>Date:</th>             <td>Tue, 05 Jan 2021</td> <th>  Prob (F-statistic):</th>   <td>  0.00</td>   \n",
       "</tr>\n",
       "<tr>\n",
       "  <th>Time:</th>                 <td>14:57:58</td>     <th>  Log-Likelihood:    </th> <td>-2.1506e+05</td>\n",
       "</tr>\n",
       "<tr>\n",
       "  <th>No. Observations:</th>      <td> 15762</td>      <th>  AIC:               </th>  <td>4.302e+05</td> \n",
       "</tr>\n",
       "<tr>\n",
       "  <th>Df Residuals:</th>          <td> 15744</td>      <th>  BIC:               </th>  <td>4.303e+05</td> \n",
       "</tr>\n",
       "<tr>\n",
       "  <th>Df Model:</th>              <td>    17</td>      <th>                     </th>      <td> </td>     \n",
       "</tr>\n",
       "<tr>\n",
       "  <th>Covariance Type:</th>      <td>nonrobust</td>    <th>                     </th>      <td> </td>     \n",
       "</tr>\n",
       "</table>\n",
       "<table class=\"simpletable\">\n",
       "<tr>\n",
       "        <td></td>          <th>coef</th>     <th>std err</th>      <th>t</th>      <th>P>|t|</th>  <th>[0.025</th>    <th>0.975]</th>  \n",
       "</tr>\n",
       "<tr>\n",
       "  <th>Intercept</th>    <td>  1.27e+07</td> <td> 3.39e+06</td> <td>    3.745</td> <td> 0.000</td> <td> 6.05e+06</td> <td> 1.93e+07</td>\n",
       "</tr>\n",
       "<tr>\n",
       "  <th>bedrooms</th>     <td>-3.769e+04</td> <td> 2224.120</td> <td>  -16.947</td> <td> 0.000</td> <td>-4.21e+04</td> <td>-3.33e+04</td>\n",
       "</tr>\n",
       "<tr>\n",
       "  <th>bathrooms</th>    <td> 3.891e+04</td> <td> 3830.726</td> <td>   10.158</td> <td> 0.000</td> <td> 3.14e+04</td> <td> 4.64e+04</td>\n",
       "</tr>\n",
       "<tr>\n",
       "  <th>sqft_living</th>  <td>  186.5294</td> <td>    3.676</td> <td>   50.740</td> <td> 0.000</td> <td>  179.324</td> <td>  193.735</td>\n",
       "</tr>\n",
       "<tr>\n",
       "  <th>floors</th>       <td> 1.665e+04</td> <td> 3837.283</td> <td>    4.339</td> <td> 0.000</td> <td> 9128.873</td> <td> 2.42e+04</td>\n",
       "</tr>\n",
       "<tr>\n",
       "  <th>waterfront</th>   <td> 6.117e+05</td> <td> 2.06e+04</td> <td>   29.724</td> <td> 0.000</td> <td> 5.71e+05</td> <td> 6.52e+05</td>\n",
       "</tr>\n",
       "<tr>\n",
       "  <th>view</th>         <td> 5.169e+04</td> <td> 2504.725</td> <td>   20.637</td> <td> 0.000</td> <td> 4.68e+04</td> <td> 5.66e+04</td>\n",
       "</tr>\n",
       "<tr>\n",
       "  <th>grade</th>        <td> 1.011e+05</td> <td> 2415.716</td> <td>   41.831</td> <td> 0.000</td> <td> 9.63e+04</td> <td> 1.06e+05</td>\n",
       "</tr>\n",
       "<tr>\n",
       "  <th>yr_built</th>     <td>-2670.9754</td> <td>   86.929</td> <td>  -30.726</td> <td> 0.000</td> <td>-2841.366</td> <td>-2500.585</td>\n",
       "</tr>\n",
       "<tr>\n",
       "  <th>yr_renovated</th> <td>   19.1750</td> <td>    4.385</td> <td>    4.373</td> <td> 0.000</td> <td>   10.580</td> <td>   27.770</td>\n",
       "</tr>\n",
       "<tr>\n",
       "  <th>zipcode</th>      <td> -597.7877</td> <td>   39.142</td> <td>  -15.272</td> <td> 0.000</td> <td> -674.510</td> <td> -521.066</td>\n",
       "</tr>\n",
       "<tr>\n",
       "  <th>lat</th>          <td> 5.947e+05</td> <td> 1.27e+04</td> <td>   47.007</td> <td> 0.000</td> <td>  5.7e+05</td> <td>  6.2e+05</td>\n",
       "</tr>\n",
       "<tr>\n",
       "  <th>long</th>         <td>-1.826e+05</td> <td> 1.51e+04</td> <td>  -12.119</td> <td> 0.000</td> <td>-2.12e+05</td> <td>-1.53e+05</td>\n",
       "</tr>\n",
       "<tr>\n",
       "  <th>sqft_lot15</th>   <td>   -0.2193</td> <td>    0.061</td> <td>   -3.569</td> <td> 0.000</td> <td>   -0.340</td> <td>   -0.099</td>\n",
       "</tr>\n",
       "<tr>\n",
       "  <th>condition_2</th>  <td>-5911.3913</td> <td> 5.01e+04</td> <td>   -0.118</td> <td> 0.906</td> <td>-1.04e+05</td> <td> 9.24e+04</td>\n",
       "</tr>\n",
       "<tr>\n",
       "  <th>condition_3</th>  <td>-2.832e+04</td> <td>  4.7e+04</td> <td>   -0.602</td> <td> 0.547</td> <td>-1.21e+05</td> <td> 6.39e+04</td>\n",
       "</tr>\n",
       "<tr>\n",
       "  <th>condition_4</th>  <td>-6846.8365</td> <td>  4.7e+04</td> <td>   -0.146</td> <td> 0.884</td> <td> -9.9e+04</td> <td> 8.53e+04</td>\n",
       "</tr>\n",
       "<tr>\n",
       "  <th>condition_5</th>  <td> 3.102e+04</td> <td> 4.72e+04</td> <td>    0.656</td> <td> 0.512</td> <td>-6.16e+04</td> <td> 1.24e+05</td>\n",
       "</tr>\n",
       "</table>\n",
       "<table class=\"simpletable\">\n",
       "<tr>\n",
       "  <th>Omnibus:</th>       <td>13691.294</td> <th>  Durbin-Watson:     </th>  <td>   1.979</td>  \n",
       "</tr>\n",
       "<tr>\n",
       "  <th>Prob(Omnibus):</th>  <td> 0.000</td>   <th>  Jarque-Bera (JB):  </th> <td>1483962.472</td>\n",
       "</tr>\n",
       "<tr>\n",
       "  <th>Skew:</th>           <td> 3.668</td>   <th>  Prob(JB):          </th>  <td>    0.00</td>  \n",
       "</tr>\n",
       "<tr>\n",
       "  <th>Kurtosis:</th>       <td>49.965</td>   <th>  Cond. No.          </th>  <td>2.07e+08</td>  \n",
       "</tr>\n",
       "</table><br/><br/>Notes:<br/>[1] Standard Errors assume that the covariance matrix of the errors is correctly specified.<br/>[2] The condition number is large, 2.07e+08. This might indicate that there are<br/>strong multicollinearity or other numerical problems."
      ],
      "text/plain": [
       "<class 'statsmodels.iolib.summary.Summary'>\n",
       "\"\"\"\n",
       "                            OLS Regression Results                            \n",
       "==============================================================================\n",
       "Dep. Variable:                  price   R-squared:                       0.700\n",
       "Model:                            OLS   Adj. R-squared:                  0.700\n",
       "Method:                 Least Squares   F-statistic:                     2160.\n",
       "Date:                Tue, 05 Jan 2021   Prob (F-statistic):               0.00\n",
       "Time:                        14:57:58   Log-Likelihood:            -2.1506e+05\n",
       "No. Observations:               15762   AIC:                         4.302e+05\n",
       "Df Residuals:                   15744   BIC:                         4.303e+05\n",
       "Df Model:                          17                                         \n",
       "Covariance Type:            nonrobust                                         \n",
       "================================================================================\n",
       "                   coef    std err          t      P>|t|      [0.025      0.975]\n",
       "--------------------------------------------------------------------------------\n",
       "Intercept      1.27e+07   3.39e+06      3.745      0.000    6.05e+06    1.93e+07\n",
       "bedrooms     -3.769e+04   2224.120    -16.947      0.000   -4.21e+04   -3.33e+04\n",
       "bathrooms     3.891e+04   3830.726     10.158      0.000    3.14e+04    4.64e+04\n",
       "sqft_living    186.5294      3.676     50.740      0.000     179.324     193.735\n",
       "floors        1.665e+04   3837.283      4.339      0.000    9128.873    2.42e+04\n",
       "waterfront    6.117e+05   2.06e+04     29.724      0.000    5.71e+05    6.52e+05\n",
       "view          5.169e+04   2504.725     20.637      0.000    4.68e+04    5.66e+04\n",
       "grade         1.011e+05   2415.716     41.831      0.000    9.63e+04    1.06e+05\n",
       "yr_built     -2670.9754     86.929    -30.726      0.000   -2841.366   -2500.585\n",
       "yr_renovated    19.1750      4.385      4.373      0.000      10.580      27.770\n",
       "zipcode       -597.7877     39.142    -15.272      0.000    -674.510    -521.066\n",
       "lat           5.947e+05   1.27e+04     47.007      0.000     5.7e+05     6.2e+05\n",
       "long         -1.826e+05   1.51e+04    -12.119      0.000   -2.12e+05   -1.53e+05\n",
       "sqft_lot15      -0.2193      0.061     -3.569      0.000      -0.340      -0.099\n",
       "condition_2  -5911.3913   5.01e+04     -0.118      0.906   -1.04e+05    9.24e+04\n",
       "condition_3  -2.832e+04    4.7e+04     -0.602      0.547   -1.21e+05    6.39e+04\n",
       "condition_4  -6846.8365    4.7e+04     -0.146      0.884    -9.9e+04    8.53e+04\n",
       "condition_5   3.102e+04   4.72e+04      0.656      0.512   -6.16e+04    1.24e+05\n",
       "==============================================================================\n",
       "Omnibus:                    13691.294   Durbin-Watson:                   1.979\n",
       "Prob(Omnibus):                  0.000   Jarque-Bera (JB):          1483962.472\n",
       "Skew:                           3.668   Prob(JB):                         0.00\n",
       "Kurtosis:                      49.965   Cond. No.                     2.07e+08\n",
       "==============================================================================\n",
       "\n",
       "Notes:\n",
       "[1] Standard Errors assume that the covariance matrix of the errors is correctly specified.\n",
       "[2] The condition number is large, 2.07e+08. This might indicate that there are\n",
       "strong multicollinearity or other numerical problems.\n",
       "\"\"\""
      ]
     },
     "execution_count": 120,
     "metadata": {},
     "output_type": "execute_result"
    }
   ],
   "source": [
    "\n",
    "outcome = 'price'\n",
    "x_cols = df2.dropna().drop(['price', 'sqft_basement', 'id', 'date', 'sqft_above', 'condition', 'sqft_living15', 'sqft_lot'], axis = 1).columns\n",
    "predictors = '+'.join(x_cols)\n",
    "f = outcome + '~' + predictors \n",
    "model3 = ols(formula= f, data= df2).fit()\n",
    "model3.summary()"
   ]
  },
  {
   "cell_type": "code",
   "execution_count": null,
   "metadata": {},
   "outputs": [],
   "source": [
    "custom_palette = {}\n",
    "avg_price = df.price.mean()\n",
    "for price in df.price:\n",
    "    if price > avg_price:\n",
    "        custom_palette[price] = "
   ]
  },
  {
   "cell_type": "code",
   "execution_count": 127,
   "metadata": {
    "ExecuteTime": {
     "end_time": "2021-01-05T20:49:59.498731Z",
     "start_time": "2021-01-05T20:49:59.354999Z"
    }
   },
   "outputs": [
    {
     "data": {
      "text/plain": [
       "<AxesSubplot:xlabel='long', ylabel='lat'>"
      ]
     },
     "execution_count": 127,
     "metadata": {},
     "output_type": "execute_result"
    },
    {
     "data": {
      "image/png": "[encoded data removed]",
      "text/plain": [
       "<Figure size 576x720 with 1 Axes>"
      ]
     },
     "metadata": {
      "needs_background": "light"
     },
     "output_type": "display_data"
    }
   ],
   "source": [
    "plt.figure(figsize=(8,10))\n",
    "sns.scatterplot(x='long', y='lat', data=df, palette='Paired')"
   ]
  },
  {
   "cell_type": "code",
   "execution_count": null,
   "metadata": {},
   "outputs": [],
   "source": []
  }
 ],
 "metadata": {
  "kernelspec": {
   "display_name": "Python 3",
   "language": "python",
   "name": "python3"
  },
  "language_info": {
   "codemirror_mode": {
    "name": "ipython",
    "version": 3
   },
   "file_extension": ".py",
   "mimetype": "text/x-python",
   "name": "python",
   "nbconvert_exporter": "python",
   "pygments_lexer": "ipython3",
   "version": "3.8.5"
  },
  "toc": {
   "base_numbering": 1,
   "nav_menu": {},
   "number_sections": true,
   "sideBar": true,
   "skip_h1_title": false,
   "title_cell": "Table of Contents",
   "title_sidebar": "Contents",
   "toc_cell": false,
   "toc_position": {},
   "toc_section_display": true,
   "toc_window_display": false
  },
  "varInspector": {
   "cols": {
    "lenName": 16,
    "lenType": 16,
    "lenVar": 40
   },
   "kernels_config": {
    "python": {
     "delete_cmd_postfix": "",
     "delete_cmd_prefix": "del ",
     "library": "var_list.py",
     "varRefreshCmd": "print(var_dic_list())"
    },
    "r": {
     "delete_cmd_postfix": ") ",
     "delete_cmd_prefix": "rm(",
     "library": "var_list.r",
     "varRefreshCmd": "cat(var_dic_list()) "
    }
   },
   "types_to_exclude": [
    "module",
    "function",
    "builtin_function_or_method",
    "instance",
    "_Feature"
   ],
   "window_display": false
  }
 },
 "nbformat": 4,
 "nbformat_minor": 4
}
