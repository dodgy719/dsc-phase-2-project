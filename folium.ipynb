{
 "cells": [
  {
   "cell_type": "code",
   "execution_count": 1,
   "metadata": {
    "ExecuteTime": {
     "end_time": "2021-01-08T19:29:02.288724Z",
     "start_time": "2021-01-08T19:29:00.549796Z"
    },
    "scrolled": true
   },
   "outputs": [
    {
     "name": "stdout",
     "output_type": "stream",
     "text": [
      "<class 'pandas.core.frame.DataFrame'>\n",
      "RangeIndex: 21597 entries, 0 to 21596\n",
      "Data columns (total 21 columns):\n",
      " #   Column         Non-Null Count  Dtype  \n",
      "---  ------         --------------  -----  \n",
      " 0   id             21597 non-null  int64  \n",
      " 1   date           21597 non-null  object \n",
      " 2   price          21597 non-null  float64\n",
      " 3   bedrooms       21597 non-null  int64  \n",
      " 4   bathrooms      21597 non-null  float64\n",
      " 5   sqft_living    21597 non-null  int64  \n",
      " 6   sqft_lot       21597 non-null  int64  \n",
      " 7   floors         21597 non-null  float64\n",
      " 8   waterfront     19221 non-null  float64\n",
      " 9   view           21534 non-null  float64\n",
      " 10  condition      21597 non-null  int64  \n",
      " 11  grade          21597 non-null  int64  \n",
      " 12  sqft_above     21597 non-null  int64  \n",
      " 13  sqft_basement  21597 non-null  object \n",
      " 14  yr_built       21597 non-null  int64  \n",
      " 15  yr_renovated   17755 non-null  float64\n",
      " 16  zipcode        21597 non-null  int64  \n",
      " 17  lat            21597 non-null  float64\n",
      " 18  long           21597 non-null  float64\n",
      " 19  sqft_living15  21597 non-null  int64  \n",
      " 20  sqft_lot15     21597 non-null  int64  \n",
      "dtypes: float64(8), int64(11), object(2)\n",
      "memory usage: 3.5+ MB\n",
      "<class 'pandas.core.frame.DataFrame'>\n",
      "Int64Index: 15762 entries, 1 to 21596\n",
      "Data columns (total 21 columns):\n",
      " #   Column         Non-Null Count  Dtype  \n",
      "---  ------         --------------  -----  \n",
      " 0   id             15762 non-null  int64  \n",
      " 1   date           15762 non-null  object \n",
      " 2   price          15762 non-null  float64\n",
      " 3   bedrooms       15762 non-null  int64  \n",
      " 4   bathrooms      15762 non-null  float64\n",
      " 5   sqft_living    15762 non-null  int64  \n",
      " 6   sqft_lot       15762 non-null  int64  \n",
      " 7   floors         15762 non-null  float64\n",
      " 8   waterfront     15762 non-null  float64\n",
      " 9   view           15762 non-null  float64\n",
      " 10  condition      15762 non-null  int64  \n",
      " 11  grade          15762 non-null  int64  \n",
      " 12  sqft_above     15762 non-null  int64  \n",
      " 13  sqft_basement  15762 non-null  object \n",
      " 14  yr_built       15762 non-null  int64  \n",
      " 15  yr_renovated   15762 non-null  float64\n",
      " 16  zipcode        15762 non-null  int64  \n",
      " 17  lat            15762 non-null  float64\n",
      " 18  long           15762 non-null  float64\n",
      " 19  sqft_living15  15762 non-null  int64  \n",
      " 20  sqft_lot15     15762 non-null  int64  \n",
      "dtypes: float64(8), int64(11), object(2)\n",
      "memory usage: 2.6+ MB\n"
     ]
    }
   ],
   "source": [
    "import pandas as pd\n",
    "import numpy as np\n",
    "import matplotlib.pyplot as plt\n",
    "import seaborn as sns\n",
    "from sklearn.linear_model import LinearRegression\n",
    "from sklearn.model_selection import cross_val_score\n",
    "import statsmodels.api as sm\n",
    "\n",
    "df = pd.read_csv('data/kc_house_data.csv')\n",
    "\n",
    "df.info()\n",
    "\n",
    "df.dropna(inplace= True)\n",
    "\n",
    "df.info()"
   ]
  },
  {
   "cell_type": "code",
   "execution_count": 4,
   "metadata": {
    "ExecuteTime": {
     "end_time": "2021-01-08T19:29:33.914363Z",
     "start_time": "2021-01-08T19:29:33.908745Z"
    }
   },
   "outputs": [
    {
     "data": {
      "text/plain": [
       "47.1559"
      ]
     },
     "execution_count": 4,
     "metadata": {},
     "output_type": "execute_result"
    }
   ],
   "source": [
    "df.lat.min()"
   ]
  },
  {
   "cell_type": "code",
   "execution_count": 2,
   "metadata": {
    "ExecuteTime": {
     "end_time": "2021-01-08T19:29:02.295489Z",
     "start_time": "2021-01-08T19:29:02.291628Z"
    },
    "scrolled": true
   },
   "outputs": [],
   "source": [
    "#!pip install folium"
   ]
  },
  {
   "cell_type": "code",
   "execution_count": 3,
   "metadata": {
    "ExecuteTime": {
     "end_time": "2021-01-08T19:29:02.701894Z",
     "start_time": "2021-01-08T19:29:02.300859Z"
    }
   },
   "outputs": [],
   "source": [
    "import folium"
   ]
  },
  {
   "cell_type": "code",
   "execution_count": 8,
   "metadata": {
    "ExecuteTime": {
     "end_time": "2021-01-08T19:32:13.545095Z",
     "start_time": "2021-01-08T19:32:13.542678Z"
    }
   },
   "outputs": [],
   "source": [
    "kc_coordinates = (47.54, -121.98)"
   ]
  },
  {
   "cell_type": "code",
   "execution_count": 9,
   "metadata": {
    "ExecuteTime": {
     "end_time": "2021-01-08T19:32:14.228416Z",
     "start_time": "2021-01-08T19:32:14.223430Z"
    }
   },
   "outputs": [],
   "source": [
    "kc_map = folium.Map(location = kc_coordinates)"
   ]
  },
  {
   "cell_type": "code",
   "execution_count": 13,
   "metadata": {
    "ExecuteTime": {
     "end_time": "2021-01-08T19:35:35.856078Z",
     "start_time": "2021-01-08T19:35:35.846276Z"
    }
   },
   "outputs": [
    {
     "data": {
      "text/html": [
       "<div style=\"width:100%;\"><div style=\"position:relative;width:100%;height:0;padding-bottom:60%;\"><span style=\"color:#565656\">Make this Notebook Trusted to load map: File -> Trust Notebook</span><iframe src=\"about:blank\" style=\"position:absolute;width:100%;height:100%;left:0;top:0;border:none !important;\" data-html=%3C%21DOCTYPE%20html%3E%0A%3Chead%3E%20%20%20%20%0A%20%20%20%20%3Cmeta%20http-equiv%3D%22content-type%22%20content%3D%22text/html%3B%20charset%3DUTF-8%22%20/%3E%0A%20%20%20%20%0A%20%20%20%20%20%20%20%20%3Cscript%3E%0A%20%20%20%20%20%20%20%20%20%20%20%20L_NO_TOUCH%20%3D%20false%3B%0A%20%20%20%20%20%20%20%20%20%20%20%20L_DISABLE_3D%20%3D%20false%3B%0A%20%20%20%20%20%20%20%20%3C/script%3E%0A%20%20%20%20%0A%20%20%20%20%3Cstyle%3Ehtml%2C%20body%20%7Bwidth%3A%20100%25%3Bheight%3A%20100%25%3Bmargin%3A%200%3Bpadding%3A%200%3B%7D%3C/style%3E%0A%20%20%20%20%3Cstyle%3E%23map%20%7Bposition%3Aabsolute%3Btop%3A0%3Bbottom%3A0%3Bright%3A0%3Bleft%3A0%3B%7D%3C/style%3E%0A%20%20%20%20%3Cscript%20src%3D%22https%3A//cdn.jsdelivr.net/npm/leaflet%401.6.0/dist/leaflet.js%22%3E%3C/script%3E%0A%20%20%20%20%3Cscript%20src%3D%22https%3A//code.jquery.com/jquery-1.12.4.min.js%22%3E%3C/script%3E%0A%20%20%20%20%3Cscript%20src%3D%22https%3A//maxcdn.bootstrapcdn.com/bootstrap/3.2.0/js/bootstrap.min.js%22%3E%3C/script%3E%0A%20%20%20%20%3Cscript%20src%3D%22https%3A//cdnjs.cloudflare.com/ajax/libs/Leaflet.awesome-markers/2.0.2/leaflet.awesome-markers.js%22%3E%3C/script%3E%0A%20%20%20%20%3Clink%20rel%3D%22stylesheet%22%20href%3D%22https%3A//cdn.jsdelivr.net/npm/leaflet%401.6.0/dist/leaflet.css%22/%3E%0A%20%20%20%20%3Clink%20rel%3D%22stylesheet%22%20href%3D%22https%3A//maxcdn.bootstrapcdn.com/bootstrap/3.2.0/css/bootstrap.min.css%22/%3E%0A%20%20%20%20%3Clink%20rel%3D%22stylesheet%22%20href%3D%22https%3A//maxcdn.bootstrapcdn.com/bootstrap/3.2.0/css/bootstrap-theme.min.css%22/%3E%0A%20%20%20%20%3Clink%20rel%3D%22stylesheet%22%20href%3D%22https%3A//maxcdn.bootstrapcdn.com/font-awesome/4.6.3/css/font-awesome.min.css%22/%3E%0A%20%20%20%20%3Clink%20rel%3D%22stylesheet%22%20href%3D%22https%3A//cdnjs.cloudflare.com/ajax/libs/Leaflet.awesome-markers/2.0.2/leaflet.awesome-markers.css%22/%3E%0A%20%20%20%20%3Clink%20rel%3D%22stylesheet%22%20href%3D%22https%3A//cdn.jsdelivr.net/gh/python-visualization/folium/folium/templates/leaflet.awesome.rotate.min.css%22/%3E%0A%20%20%20%20%0A%20%20%20%20%20%20%20%20%20%20%20%20%3Cmeta%20name%3D%22viewport%22%20content%3D%22width%3Ddevice-width%2C%0A%20%20%20%20%20%20%20%20%20%20%20%20%20%20%20%20initial-scale%3D1.0%2C%20maximum-scale%3D1.0%2C%20user-scalable%3Dno%22%20/%3E%0A%20%20%20%20%20%20%20%20%20%20%20%20%3Cstyle%3E%0A%20%20%20%20%20%20%20%20%20%20%20%20%20%20%20%20%23map_724c12a434fd4f68b849bb1bd5faeb3e%20%7B%0A%20%20%20%20%20%20%20%20%20%20%20%20%20%20%20%20%20%20%20%20position%3A%20relative%3B%0A%20%20%20%20%20%20%20%20%20%20%20%20%20%20%20%20%20%20%20%20width%3A%20100.0%25%3B%0A%20%20%20%20%20%20%20%20%20%20%20%20%20%20%20%20%20%20%20%20height%3A%20100.0%25%3B%0A%20%20%20%20%20%20%20%20%20%20%20%20%20%20%20%20%20%20%20%20left%3A%200.0%25%3B%0A%20%20%20%20%20%20%20%20%20%20%20%20%20%20%20%20%20%20%20%20top%3A%200.0%25%3B%0A%20%20%20%20%20%20%20%20%20%20%20%20%20%20%20%20%7D%0A%20%20%20%20%20%20%20%20%20%20%20%20%3C/style%3E%0A%20%20%20%20%20%20%20%20%0A%3C/head%3E%0A%3Cbody%3E%20%20%20%20%0A%20%20%20%20%0A%20%20%20%20%20%20%20%20%20%20%20%20%3Cdiv%20class%3D%22folium-map%22%20id%3D%22map_724c12a434fd4f68b849bb1bd5faeb3e%22%20%3E%3C/div%3E%0A%20%20%20%20%20%20%20%20%0A%3C/body%3E%0A%3Cscript%3E%20%20%20%20%0A%20%20%20%20%0A%20%20%20%20%20%20%20%20%20%20%20%20var%20map_724c12a434fd4f68b849bb1bd5faeb3e%20%3D%20L.map%28%0A%20%20%20%20%20%20%20%20%20%20%20%20%20%20%20%20%22map_724c12a434fd4f68b849bb1bd5faeb3e%22%2C%0A%20%20%20%20%20%20%20%20%20%20%20%20%20%20%20%20%7B%0A%20%20%20%20%20%20%20%20%20%20%20%20%20%20%20%20%20%20%20%20center%3A%20%5B47.54%2C%20-121.98%5D%2C%0A%20%20%20%20%20%20%20%20%20%20%20%20%20%20%20%20%20%20%20%20crs%3A%20L.CRS.EPSG3857%2C%0A%20%20%20%20%20%20%20%20%20%20%20%20%20%20%20%20%20%20%20%20zoom%3A%2010%2C%0A%20%20%20%20%20%20%20%20%20%20%20%20%20%20%20%20%20%20%20%20zoomControl%3A%20true%2C%0A%20%20%20%20%20%20%20%20%20%20%20%20%20%20%20%20%20%20%20%20preferCanvas%3A%20false%2C%0A%20%20%20%20%20%20%20%20%20%20%20%20%20%20%20%20%7D%0A%20%20%20%20%20%20%20%20%20%20%20%20%29%3B%0A%0A%20%20%20%20%20%20%20%20%20%20%20%20%0A%0A%20%20%20%20%20%20%20%20%0A%20%20%20%20%0A%20%20%20%20%20%20%20%20%20%20%20%20var%20tile_layer_af6950b76d0044be9516383776f4a27d%20%3D%20L.tileLayer%28%0A%20%20%20%20%20%20%20%20%20%20%20%20%20%20%20%20%22https%3A//%7Bs%7D.tile.openstreetmap.org/%7Bz%7D/%7Bx%7D/%7By%7D.png%22%2C%0A%20%20%20%20%20%20%20%20%20%20%20%20%20%20%20%20%7B%22attribution%22%3A%20%22Data%20by%20%5Cu0026copy%3B%20%5Cu003ca%20href%3D%5C%22http%3A//openstreetmap.org%5C%22%5Cu003eOpenStreetMap%5Cu003c/a%5Cu003e%2C%20under%20%5Cu003ca%20href%3D%5C%22http%3A//www.openstreetmap.org/copyright%5C%22%5Cu003eODbL%5Cu003c/a%5Cu003e.%22%2C%20%22detectRetina%22%3A%20false%2C%20%22maxNativeZoom%22%3A%2018%2C%20%22maxZoom%22%3A%2018%2C%20%22minZoom%22%3A%200%2C%20%22noWrap%22%3A%20false%2C%20%22opacity%22%3A%201%2C%20%22subdomains%22%3A%20%22abc%22%2C%20%22tms%22%3A%20false%7D%0A%20%20%20%20%20%20%20%20%20%20%20%20%29.addTo%28map_724c12a434fd4f68b849bb1bd5faeb3e%29%3B%0A%20%20%20%20%20%20%20%20%0A%3C/script%3E onload=\"this.contentDocument.open();this.contentDocument.write(    decodeURIComponent(this.getAttribute('data-html')));this.contentDocument.close();\" allowfullscreen webkitallowfullscreen mozallowfullscreen></iframe></div></div>"
      ],
      "text/plain": [
       "<folium.folium.Map at 0x7f882b388130>"
      ]
     },
     "execution_count": 13,
     "metadata": {},
     "output_type": "execute_result"
    }
   ],
   "source": [
    "kc_map\n"
   ]
  },
  {
   "cell_type": "code",
   "execution_count": 27,
   "metadata": {
    "ExecuteTime": {
     "end_time": "2021-01-08T19:40:12.387627Z",
     "start_time": "2021-01-08T19:40:12.372312Z"
    }
   },
   "outputs": [
    {
     "data": {
      "text/plain": [
       "[[47.3155, -122.271, 256000.0],\n",
       " [47.3065, -122.215, 233500.0],\n",
       " [47.32899999999999, -122.30799999999999, 263500.0],\n",
       " [47.6213, -122.204, 1190000.0],\n",
       " [47.6033, -122.169, 768500.0],\n",
       " [47.5578, -122.149, 768000.0],\n",
       " [47.6071, -122.141, 560000.0],\n",
       " [47.615449999999996, -122.117, 545000.0],\n",
       " [47.3367, -122.0045, 372000.0],\n",
       " [47.7555, -122.20200000000001, 471000.0],\n",
       " [47.6724, -121.911, 443500.0],\n",
       " [47.735200000000006, -121.96700000000001, 404625.0],\n",
       " [47.2063, -122.0, 280000.0],\n",
       " [47.3082, -122.36399999999999, 272000.0],\n",
       " [47.5619, -121.898, 485000.0],\n",
       " [47.5321, -122.04700000000001, 556000.0],\n",
       " [47.7557, -122.244, 446000.0],\n",
       " [47.5595, -122.00399999999999, 578000.0],\n",
       " [47.37135, -122.185, 289975.0],\n",
       " [47.4038, -122.18799999999999, 282000.0],\n",
       " [47.3733, -122.28399999999999, 249000.0],\n",
       " [47.6839, -122.18799999999999, 675000.0],\n",
       " [47.7212, -122.211, 446000.0],\n",
       " [47.3634, -122.03299999999999, 340000.0],\n",
       " [47.62205, -122.235, 1930000.0],\n",
       " [47.5606, -122.225, 984000.0],\n",
       " [47.3672, -122.11349999999999, 299900.0],\n",
       " [47.47755, -121.76849999999999, 415450.0],\n",
       " [47.68255, -122.116, 616500.0],\n",
       " [47.6824, -122.02799999999999, 620000.0],\n",
       " [47.4564, -122.20100000000001, 295000.0],\n",
       " [47.5097, -122.182, 379600.0],\n",
       " [47.4476, -122.152, 334950.0],\n",
       " [47.489450000000005, -122.146, 432500.0],\n",
       " [47.5336, -121.87, 499000.0],\n",
       " [47.4145, -122.458, 445000.0],\n",
       " [47.7477, -122.132, 520000.0],\n",
       " [47.62545, -122.046, 646500.0],\n",
       " [47.5887, -122.02600000000001, 739900.0],\n",
       " [47.7466, -122.07, 640000.0],\n",
       " [47.309799999999996, -122.182, 309950.0],\n",
       " [47.6367, -122.321, 720000.0],\n",
       " [47.6797, -122.345, 549000.0],\n",
       " [47.6662, -122.289, 675000.0],\n",
       " [47.53295, -122.35700000000001, 315000.0],\n",
       " [47.67100000000001, -122.37100000000001, 529975.0],\n",
       " [47.5513, -122.3045, 335000.0],\n",
       " [47.637150000000005, -122.351, 713000.0],\n",
       " [47.6287, -122.29899999999999, 951250.0],\n",
       " [47.6844, -122.304, 570000.0],\n",
       " [47.57255, -122.39200000000001, 556500.0],\n",
       " [47.6863, -122.376, 542000.0],\n",
       " [47.547700000000006, -122.275, 367500.0],\n",
       " [47.640299999999996, -122.368, 755500.0],\n",
       " [47.6102, -122.3, 557000.0],\n",
       " [47.7162, -122.301, 425000.0],\n",
       " [47.543350000000004, -122.376, 398750.0],\n",
       " [47.73394999999999, -122.34299999999999, 376345.5],\n",
       " [47.5402, -122.38799999999999, 500000.0],\n",
       " [47.5879, -122.296, 457500.0],\n",
       " [47.503699999999995, -122.35799999999999, 309500.0],\n",
       " [47.4323, -122.329, 280000.0],\n",
       " [47.75375, -122.307, 364000.0],\n",
       " [47.4558, -122.348, 403500.0],\n",
       " [47.4889, -122.315, 240500.0],\n",
       " [47.7539, -122.369, 567000.0],\n",
       " [47.5001, -122.24799999999999, 279000.0],\n",
       " [47.4485, -122.281, 262000.0],\n",
       " [47.393100000000004, -122.31700000000001, 265000.0],\n",
       " [47.648999999999994, -122.399, 676000.0]]"
      ]
     },
     "execution_count": 27,
     "metadata": {},
     "output_type": "execute_result"
    }
   ],
   "source": [
    "#manipulate df\n",
    "df.groupby(['zipcode']).median()[['lat', 'long', 'price']].values.tolist()"
   ]
  },
  {
   "cell_type": "code",
   "execution_count": 21,
   "metadata": {
    "ExecuteTime": {
     "end_time": "2021-01-08T19:38:33.830993Z",
     "start_time": "2021-01-08T19:38:33.717643Z"
    }
   },
   "outputs": [],
   "source": [
    "from folium.plugins import HeatMap"
   ]
  },
  {
   "cell_type": "code",
   "execution_count": 28,
   "metadata": {
    "ExecuteTime": {
     "end_time": "2021-01-08T19:40:28.004435Z",
     "start_time": "2021-01-08T19:40:27.988219Z"
    }
   },
   "outputs": [
    {
     "data": {
      "text/plain": [
       "<folium.plugins.heat_map.HeatMap at 0x7f882a1a4730>"
      ]
     },
     "execution_count": 28,
     "metadata": {},
     "output_type": "execute_result"
    }
   ],
   "source": [
    "HeatMap(data = df.groupby(['zipcode']).median()[['lat', 'long', 'price']].values.tolist()).add_to(kc_map)\n"
   ]
  },
  {
   "cell_type": "code",
   "execution_count": 29,
   "metadata": {
    "ExecuteTime": {
     "end_time": "2021-01-08T19:40:30.081727Z",
     "start_time": "2021-01-08T19:40:30.072466Z"
    }
   },
   "outputs": [
    {
     "data": {
      "text/html": [
       "<div style=\"width:100%;\"><div style=\"position:relative;width:100%;height:0;padding-bottom:60%;\"><span style=\"color:#565656\">Make this Notebook Trusted to load map: File -> Trust Notebook</span><iframe src=\"about:blank\" style=\"position:absolute;width:100%;height:100%;left:0;top:0;border:none !important;\" data-html=%3C%21DOCTYPE%20html%3E%0A%3Chead%3E%20%20%20%20%0A%20%20%20%20%3Cmeta%20http-equiv%3D%22content-type%22%20content%3D%22text/html%3B%20charset%3DUTF-8%22%20/%3E%0A%20%20%20%20%0A%20%20%20%20%20%20%20%20%3Cscript%3E%0A%20%20%20%20%20%20%20%20%20%20%20%20L_NO_TOUCH%20%3D%20false%3B%0A%20%20%20%20%20%20%20%20%20%20%20%20L_DISABLE_3D%20%3D%20false%3B%0A%20%20%20%20%20%20%20%20%3C/script%3E%0A%20%20%20%20%0A%20%20%20%20%3Cstyle%3Ehtml%2C%20body%20%7Bwidth%3A%20100%25%3Bheight%3A%20100%25%3Bmargin%3A%200%3Bpadding%3A%200%3B%7D%3C/style%3E%0A%20%20%20%20%3Cstyle%3E%23map%20%7Bposition%3Aabsolute%3Btop%3A0%3Bbottom%3A0%3Bright%3A0%3Bleft%3A0%3B%7D%3C/style%3E%0A%20%20%20%20%3Cscript%20src%3D%22https%3A//cdn.jsdelivr.net/npm/leaflet%401.6.0/dist/leaflet.js%22%3E%3C/script%3E%0A%20%20%20%20%3Cscript%20src%3D%22https%3A//code.jquery.com/jquery-1.12.4.min.js%22%3E%3C/script%3E%0A%20%20%20%20%3Cscript%20src%3D%22https%3A//maxcdn.bootstrapcdn.com/bootstrap/3.2.0/js/bootstrap.min.js%22%3E%3C/script%3E%0A%20%20%20%20%3Cscript%20src%3D%22https%3A//cdnjs.cloudflare.com/ajax/libs/Leaflet.awesome-markers/2.0.2/leaflet.awesome-markers.js%22%3E%3C/script%3E%0A%20%20%20%20%3Clink%20rel%3D%22stylesheet%22%20href%3D%22https%3A//cdn.jsdelivr.net/npm/leaflet%401.6.0/dist/leaflet.css%22/%3E%0A%20%20%20%20%3Clink%20rel%3D%22stylesheet%22%20href%3D%22https%3A//maxcdn.bootstrapcdn.com/bootstrap/3.2.0/css/bootstrap.min.css%22/%3E%0A%20%20%20%20%3Clink%20rel%3D%22stylesheet%22%20href%3D%22https%3A//maxcdn.bootstrapcdn.com/bootstrap/3.2.0/css/bootstrap-theme.min.css%22/%3E%0A%20%20%20%20%3Clink%20rel%3D%22stylesheet%22%20href%3D%22https%3A//maxcdn.bootstrapcdn.com/font-awesome/4.6.3/css/font-awesome.min.css%22/%3E%0A%20%20%20%20%3Clink%20rel%3D%22stylesheet%22%20href%3D%22https%3A//cdnjs.cloudflare.com/ajax/libs/Leaflet.awesome-markers/2.0.2/leaflet.awesome-markers.css%22/%3E%0A%20%20%20%20%3Clink%20rel%3D%22stylesheet%22%20href%3D%22https%3A//cdn.jsdelivr.net/gh/python-visualization/folium/folium/templates/leaflet.awesome.rotate.min.css%22/%3E%0A%20%20%20%20%0A%20%20%20%20%20%20%20%20%20%20%20%20%3Cmeta%20name%3D%22viewport%22%20content%3D%22width%3Ddevice-width%2C%0A%20%20%20%20%20%20%20%20%20%20%20%20%20%20%20%20initial-scale%3D1.0%2C%20maximum-scale%3D1.0%2C%20user-scalable%3Dno%22%20/%3E%0A%20%20%20%20%20%20%20%20%20%20%20%20%3Cstyle%3E%0A%20%20%20%20%20%20%20%20%20%20%20%20%20%20%20%20%23map_724c12a434fd4f68b849bb1bd5faeb3e%20%7B%0A%20%20%20%20%20%20%20%20%20%20%20%20%20%20%20%20%20%20%20%20position%3A%20relative%3B%0A%20%20%20%20%20%20%20%20%20%20%20%20%20%20%20%20%20%20%20%20width%3A%20100.0%25%3B%0A%20%20%20%20%20%20%20%20%20%20%20%20%20%20%20%20%20%20%20%20height%3A%20100.0%25%3B%0A%20%20%20%20%20%20%20%20%20%20%20%20%20%20%20%20%20%20%20%20left%3A%200.0%25%3B%0A%20%20%20%20%20%20%20%20%20%20%20%20%20%20%20%20%20%20%20%20top%3A%200.0%25%3B%0A%20%20%20%20%20%20%20%20%20%20%20%20%20%20%20%20%7D%0A%20%20%20%20%20%20%20%20%20%20%20%20%3C/style%3E%0A%20%20%20%20%20%20%20%20%0A%20%20%20%20%3Cscript%20src%3D%22https%3A//cdn.jsdelivr.net/gh/python-visualization/folium%40master/folium/templates/leaflet_heat.min.js%22%3E%3C/script%3E%0A%3C/head%3E%0A%3Cbody%3E%20%20%20%20%0A%20%20%20%20%0A%20%20%20%20%20%20%20%20%20%20%20%20%3Cdiv%20class%3D%22folium-map%22%20id%3D%22map_724c12a434fd4f68b849bb1bd5faeb3e%22%20%3E%3C/div%3E%0A%20%20%20%20%20%20%20%20%0A%3C/body%3E%0A%3Cscript%3E%20%20%20%20%0A%20%20%20%20%0A%20%20%20%20%20%20%20%20%20%20%20%20var%20map_724c12a434fd4f68b849bb1bd5faeb3e%20%3D%20L.map%28%0A%20%20%20%20%20%20%20%20%20%20%20%20%20%20%20%20%22map_724c12a434fd4f68b849bb1bd5faeb3e%22%2C%0A%20%20%20%20%20%20%20%20%20%20%20%20%20%20%20%20%7B%0A%20%20%20%20%20%20%20%20%20%20%20%20%20%20%20%20%20%20%20%20center%3A%20%5B47.54%2C%20-121.98%5D%2C%0A%20%20%20%20%20%20%20%20%20%20%20%20%20%20%20%20%20%20%20%20crs%3A%20L.CRS.EPSG3857%2C%0A%20%20%20%20%20%20%20%20%20%20%20%20%20%20%20%20%20%20%20%20zoom%3A%2010%2C%0A%20%20%20%20%20%20%20%20%20%20%20%20%20%20%20%20%20%20%20%20zoomControl%3A%20true%2C%0A%20%20%20%20%20%20%20%20%20%20%20%20%20%20%20%20%20%20%20%20preferCanvas%3A%20false%2C%0A%20%20%20%20%20%20%20%20%20%20%20%20%20%20%20%20%7D%0A%20%20%20%20%20%20%20%20%20%20%20%20%29%3B%0A%0A%20%20%20%20%20%20%20%20%20%20%20%20%0A%0A%20%20%20%20%20%20%20%20%0A%20%20%20%20%0A%20%20%20%20%20%20%20%20%20%20%20%20var%20tile_layer_af6950b76d0044be9516383776f4a27d%20%3D%20L.tileLayer%28%0A%20%20%20%20%20%20%20%20%20%20%20%20%20%20%20%20%22https%3A//%7Bs%7D.tile.openstreetmap.org/%7Bz%7D/%7Bx%7D/%7By%7D.png%22%2C%0A%20%20%20%20%20%20%20%20%20%20%20%20%20%20%20%20%7B%22attribution%22%3A%20%22Data%20by%20%5Cu0026copy%3B%20%5Cu003ca%20href%3D%5C%22http%3A//openstreetmap.org%5C%22%5Cu003eOpenStreetMap%5Cu003c/a%5Cu003e%2C%20under%20%5Cu003ca%20href%3D%5C%22http%3A//www.openstreetmap.org/copyright%5C%22%5Cu003eODbL%5Cu003c/a%5Cu003e.%22%2C%20%22detectRetina%22%3A%20false%2C%20%22maxNativeZoom%22%3A%2018%2C%20%22maxZoom%22%3A%2018%2C%20%22minZoom%22%3A%200%2C%20%22noWrap%22%3A%20false%2C%20%22opacity%22%3A%201%2C%20%22subdomains%22%3A%20%22abc%22%2C%20%22tms%22%3A%20false%7D%0A%20%20%20%20%20%20%20%20%20%20%20%20%29.addTo%28map_724c12a434fd4f68b849bb1bd5faeb3e%29%3B%0A%20%20%20%20%20%20%20%20%0A%20%20%20%20%0A%20%20%20%20%20%20%20%20%20%20%20%20var%20heat_map_1b4d6a14d4de4b7c9629f95bc9d2acc0%20%3D%20L.heatLayer%28%0A%20%20%20%20%20%20%20%20%20%20%20%20%20%20%20%20%5B%5B47.3155%2C%20-122.271%2C%20256000.0%5D%2C%20%5B47.3065%2C%20-122.215%2C%20233500.0%5D%2C%20%5B47.32899999999999%2C%20-122.30799999999999%2C%20263500.0%5D%2C%20%5B47.6213%2C%20-122.204%2C%201190000.0%5D%2C%20%5B47.6033%2C%20-122.169%2C%20768500.0%5D%2C%20%5B47.5578%2C%20-122.149%2C%20768000.0%5D%2C%20%5B47.6071%2C%20-122.141%2C%20560000.0%5D%2C%20%5B47.615449999999996%2C%20-122.117%2C%20545000.0%5D%2C%20%5B47.3367%2C%20-122.0045%2C%20372000.0%5D%2C%20%5B47.7555%2C%20-122.20200000000001%2C%20471000.0%5D%2C%20%5B47.6724%2C%20-121.911%2C%20443500.0%5D%2C%20%5B47.735200000000006%2C%20-121.96700000000001%2C%20404625.0%5D%2C%20%5B47.2063%2C%20-122.0%2C%20280000.0%5D%2C%20%5B47.3082%2C%20-122.36399999999999%2C%20272000.0%5D%2C%20%5B47.5619%2C%20-121.898%2C%20485000.0%5D%2C%20%5B47.5321%2C%20-122.04700000000001%2C%20556000.0%5D%2C%20%5B47.7557%2C%20-122.244%2C%20446000.0%5D%2C%20%5B47.5595%2C%20-122.00399999999999%2C%20578000.0%5D%2C%20%5B47.37135%2C%20-122.185%2C%20289975.0%5D%2C%20%5B47.4038%2C%20-122.18799999999999%2C%20282000.0%5D%2C%20%5B47.3733%2C%20-122.28399999999999%2C%20249000.0%5D%2C%20%5B47.6839%2C%20-122.18799999999999%2C%20675000.0%5D%2C%20%5B47.7212%2C%20-122.211%2C%20446000.0%5D%2C%20%5B47.3634%2C%20-122.03299999999999%2C%20340000.0%5D%2C%20%5B47.62205%2C%20-122.235%2C%201930000.0%5D%2C%20%5B47.5606%2C%20-122.225%2C%20984000.0%5D%2C%20%5B47.3672%2C%20-122.11349999999999%2C%20299900.0%5D%2C%20%5B47.47755%2C%20-121.76849999999999%2C%20415450.0%5D%2C%20%5B47.68255%2C%20-122.116%2C%20616500.0%5D%2C%20%5B47.6824%2C%20-122.02799999999999%2C%20620000.0%5D%2C%20%5B47.4564%2C%20-122.20100000000001%2C%20295000.0%5D%2C%20%5B47.5097%2C%20-122.182%2C%20379600.0%5D%2C%20%5B47.4476%2C%20-122.152%2C%20334950.0%5D%2C%20%5B47.489450000000005%2C%20-122.146%2C%20432500.0%5D%2C%20%5B47.5336%2C%20-121.87%2C%20499000.0%5D%2C%20%5B47.4145%2C%20-122.458%2C%20445000.0%5D%2C%20%5B47.7477%2C%20-122.132%2C%20520000.0%5D%2C%20%5B47.62545%2C%20-122.046%2C%20646500.0%5D%2C%20%5B47.5887%2C%20-122.02600000000001%2C%20739900.0%5D%2C%20%5B47.7466%2C%20-122.07%2C%20640000.0%5D%2C%20%5B47.309799999999996%2C%20-122.182%2C%20309950.0%5D%2C%20%5B47.6367%2C%20-122.321%2C%20720000.0%5D%2C%20%5B47.6797%2C%20-122.345%2C%20549000.0%5D%2C%20%5B47.6662%2C%20-122.289%2C%20675000.0%5D%2C%20%5B47.53295%2C%20-122.35700000000001%2C%20315000.0%5D%2C%20%5B47.67100000000001%2C%20-122.37100000000001%2C%20529975.0%5D%2C%20%5B47.5513%2C%20-122.3045%2C%20335000.0%5D%2C%20%5B47.637150000000005%2C%20-122.351%2C%20713000.0%5D%2C%20%5B47.6287%2C%20-122.29899999999999%2C%20951250.0%5D%2C%20%5B47.6844%2C%20-122.304%2C%20570000.0%5D%2C%20%5B47.57255%2C%20-122.39200000000001%2C%20556500.0%5D%2C%20%5B47.6863%2C%20-122.376%2C%20542000.0%5D%2C%20%5B47.547700000000006%2C%20-122.275%2C%20367500.0%5D%2C%20%5B47.640299999999996%2C%20-122.368%2C%20755500.0%5D%2C%20%5B47.6102%2C%20-122.3%2C%20557000.0%5D%2C%20%5B47.7162%2C%20-122.301%2C%20425000.0%5D%2C%20%5B47.543350000000004%2C%20-122.376%2C%20398750.0%5D%2C%20%5B47.73394999999999%2C%20-122.34299999999999%2C%20376345.5%5D%2C%20%5B47.5402%2C%20-122.38799999999999%2C%20500000.0%5D%2C%20%5B47.5879%2C%20-122.296%2C%20457500.0%5D%2C%20%5B47.503699999999995%2C%20-122.35799999999999%2C%20309500.0%5D%2C%20%5B47.4323%2C%20-122.329%2C%20280000.0%5D%2C%20%5B47.75375%2C%20-122.307%2C%20364000.0%5D%2C%20%5B47.4558%2C%20-122.348%2C%20403500.0%5D%2C%20%5B47.4889%2C%20-122.315%2C%20240500.0%5D%2C%20%5B47.7539%2C%20-122.369%2C%20567000.0%5D%2C%20%5B47.5001%2C%20-122.24799999999999%2C%20279000.0%5D%2C%20%5B47.4485%2C%20-122.281%2C%20262000.0%5D%2C%20%5B47.393100000000004%2C%20-122.31700000000001%2C%20265000.0%5D%2C%20%5B47.648999999999994%2C%20-122.399%2C%20676000.0%5D%5D%2C%0A%20%20%20%20%20%20%20%20%20%20%20%20%20%20%20%20%7B%22blur%22%3A%2015%2C%20%22maxZoom%22%3A%2018%2C%20%22minOpacity%22%3A%200.5%2C%20%22radius%22%3A%2025%7D%0A%20%20%20%20%20%20%20%20%20%20%20%20%29.addTo%28map_724c12a434fd4f68b849bb1bd5faeb3e%29%3B%0A%20%20%20%20%20%20%20%20%0A%3C/script%3E onload=\"this.contentDocument.open();this.contentDocument.write(    decodeURIComponent(this.getAttribute('data-html')));this.contentDocument.close();\" allowfullscreen webkitallowfullscreen mozallowfullscreen></iframe></div></div>"
      ],
      "text/plain": [
       "<folium.folium.Map at 0x7f882b388130>"
      ]
     },
     "metadata": {},
     "output_type": "display_data"
    }
   ],
   "source": [
    "display(kc_map)"
   ]
  },
  {
   "cell_type": "code",
   "execution_count": null,
   "metadata": {},
   "outputs": [],
   "source": []
  }
 ],
 "metadata": {
  "kernelspec": {
   "display_name": "Python 3",
   "language": "python",
   "name": "python3"
  },
  "language_info": {
   "codemirror_mode": {
    "name": "ipython",
    "version": 3
   },
   "file_extension": ".py",
   "mimetype": "text/x-python",
   "name": "python",
   "nbconvert_exporter": "python",
   "pygments_lexer": "ipython3",
   "version": "3.8.5"
  },
  "toc": {
   "base_numbering": 1,
   "nav_menu": {},
   "number_sections": true,
   "sideBar": true,
   "skip_h1_title": false,
   "title_cell": "Table of Contents",
   "title_sidebar": "Contents",
   "toc_cell": false,
   "toc_position": {},
   "toc_section_display": true,
   "toc_window_display": false
  },
  "varInspector": {
   "cols": {
    "lenName": 16,
    "lenType": 16,
    "lenVar": 40
   },
   "kernels_config": {
    "python": {
     "delete_cmd_postfix": "",
     "delete_cmd_prefix": "del ",
     "library": "var_list.py",
     "varRefreshCmd": "print(var_dic_list())"
    },
    "r": {
     "delete_cmd_postfix": ") ",
     "delete_cmd_prefix": "rm(",
     "library": "var_list.r",
     "varRefreshCmd": "cat(var_dic_list()) "
    }
   },
   "types_to_exclude": [
    "module",
    "function",
    "builtin_function_or_method",
    "instance",
    "_Feature"
   ],
   "window_display": false
  }
 },
 "nbformat": 4,
 "nbformat_minor": 4
}
